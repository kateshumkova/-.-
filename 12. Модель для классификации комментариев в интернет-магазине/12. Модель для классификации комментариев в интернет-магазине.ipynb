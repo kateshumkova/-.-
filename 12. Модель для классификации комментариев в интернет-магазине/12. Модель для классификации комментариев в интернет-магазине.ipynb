{
 "cells": [
  {
   "cell_type": "markdown",
   "metadata": {},
   "source": [
    "Интернет-магазин «Викишоп» запускает новый сервис. Теперь пользователи могут редактировать и дополнять описания товаров, как в вики-сообществах. То есть клиенты предлагают свои правки и комментируют изменения других. Магазину нужен инструмент, который будет искать токсичные комментарии и отправлять их на модерацию. \n",
    "\n",
    "Обучим модель классифицировать комментарии на позитивные и негативные, построим модель со значением метрики качества *F1* не меньше 0.75. В нашем распоряжении набор данных с разметкой о токсичности правок.\n",
    "\n",
    "\n",
    "### Описание данных\n",
    "\n",
    "Данные находятся в файле `toxic_comments.csv`. Столбец *text* в нём содержит текст комментария, а *toxic* — целевой признак."
   ]
  },
  {
   "cell_type": "markdown",
   "metadata": {},
   "source": [
    "# 1. Подготовка"
   ]
  },
  {
   "cell_type": "code",
   "execution_count": 1,
   "metadata": {},
   "outputs": [
    {
     "name": "stderr",
     "output_type": "stream",
     "text": [
      "[nltk_data] Downloading package wordnet to /home/jovyan/nltk_data...\n",
      "[nltk_data]   Package wordnet is already up-to-date!\n",
      "[nltk_data] Downloading package stopwords to /home/jovyan/nltk_data...\n",
      "[nltk_data]   Package stopwords is already up-to-date!\n"
     ]
    }
   ],
   "source": [
    "import pandas as pd\n",
    "import numpy as np\n",
    "pd.set_option('display.max_rows', 500)\n",
    "pd.set_option('display.max_columns', 500)\n",
    "pd.set_option('display.width', 1000)\n",
    "from sklearn.model_selection import cross_val_predict\n",
    "from sklearn.model_selection import train_test_split #импортируем функцию train_test_split из библиотеки sklearn \n",
    "\n",
    "import warnings\n",
    "warnings.filterwarnings('ignore')\n",
    "\n",
    "from sklearn.linear_model import LogisticRegression\n",
    "from sklearn.ensemble import RandomForestClassifier\n",
    "import lightgbm as lgb\n",
    "\n",
    "\n",
    "from nltk.corpus import stopwords as nltk_stopwords\n",
    "from sklearn.feature_extraction.text import TfidfVectorizer\n",
    "\n",
    "from sklearn.model_selection import (cross_val_score, train_test_split, \n",
    "                                     GridSearchCV, RandomizedSearchCV)\n",
    "from sklearn.metrics import f1_score\n",
    " \n",
    "from sklearn.metrics import mean_squared_error\n",
    "import seaborn as sns\n",
    "from sklearn.preprocessing import StandardScaler\n",
    "\n",
    "from pylab import *\n",
    "import matplotlib\n",
    "import matplotlib.pyplot as plt\n",
    "\n",
    "import re\n",
    "\n",
    "from nltk.stem import WordNetLemmatizer \n",
    "\n",
    "\n",
    "import nltk\n",
    "nltk.download('wordnet')\n",
    "from sklearn.datasets import load_files\n",
    "nltk.download('stopwords')\n",
    "import pickle\n",
    "from nltk.corpus import stopwords"
   ]
  },
  {
   "cell_type": "code",
   "execution_count": 2,
   "metadata": {},
   "outputs": [],
   "source": [
    "#прочитаем файл с исходными данными df\n",
    "\n",
    "df = pd.read_csv(\"/datasets/toxic_comments.csv\") "
   ]
  },
  {
   "cell_type": "code",
   "execution_count": 3,
   "metadata": {},
   "outputs": [],
   "source": [
    "df=df.head(60000)"
   ]
  },
  {
   "cell_type": "code",
   "execution_count": 4,
   "metadata": {},
   "outputs": [
    {
     "name": "stdout",
     "output_type": "stream",
     "text": [
      "<class 'pandas.core.frame.DataFrame'>\n",
      "RangeIndex: 60000 entries, 0 to 59999\n",
      "Data columns (total 2 columns):\n",
      "text     60000 non-null object\n",
      "toxic    60000 non-null int64\n",
      "dtypes: int64(1), object(1)\n",
      "memory usage: 937.6+ KB\n"
     ]
    }
   ],
   "source": [
    "df.info()"
   ]
  },
  {
   "cell_type": "code",
   "execution_count": 5,
   "metadata": {},
   "outputs": [],
   "source": [
    "X = df['text'].values"
   ]
  },
  {
   "cell_type": "code",
   "execution_count": 6,
   "metadata": {},
   "outputs": [
    {
     "name": "stderr",
     "output_type": "stream",
     "text": [
      "[nltk_data] Downloading package averaged_perceptron_tagger to\n",
      "[nltk_data]     /home/jovyan/nltk_data...\n",
      "[nltk_data]   Unzipping taggers/averaged_perceptron_tagger.zip.\n"
     ]
    }
   ],
   "source": [
    "WNlemma = nltk.WordNetLemmatizer()\n",
    "from nltk.corpus import wordnet\n",
    "from nltk import pos_tag\n",
    "from nltk import word_tokenize, FreqDist\n",
    "import nltk\n",
    "nltk.download('averaged_perceptron_tagger')\n",
    "\n",
    "def get_wordnet_pos(treebank_tag):\n",
    "    if treebank_tag.startswith('V'):\n",
    "        return wordnet.VERB\n",
    "    elif treebank_tag.startswith('J'):\n",
    "        return wordnet.ADJ\n",
    "    elif treebank_tag.startswith('R'):\n",
    "        return wordnet.ADV\n",
    "    else:\n",
    "        return wordnet.NOUN"
   ]
  },
  {
   "cell_type": "code",
   "execution_count": 7,
   "metadata": {},
   "outputs": [],
   "source": [
    "def pre_process_with_pos_tag(text):\n",
    "    \n",
    "    #приведем к нижнему регистру\n",
    "    text = text.lower()\n",
    "    \n",
    "    # уберем все специальные знаки\n",
    "    text = re.sub(r'\\W', ' ', str(text))\n",
    "    \n",
    "    # уберем одиночные буквы \n",
    "    text = re.sub(r'\\s+[a-zA-Z]\\s+', ' ', text)\n",
    "\n",
    "    # уберем одиночные буквы в начале предложения\n",
    "    text = re.sub(r'\\^[a-zA-Z]\\s+', ' ', text) \n",
    "\n",
    "    # заменим пробелы на одиночный пробел \n",
    "    text = re.sub(r'\\s+', ' ', text, flags=re.I)\n",
    "\n",
    "    # Removing prefixed 'b'.  When you have a dataset in bytes format, the alphabet letter \"b\" is appended before every string. The regex ^b\\s+ removes \"b\" from the start of a string. \n",
    "    text = re.sub(r'^b\\s+', '', text)\n",
    "    \n",
    "    tokens = nltk.word_tokenize(text)\n",
    "    tokens = [t for t in tokens if len(t) > 2]\n",
    "    tokens = [WNlemma.lemmatize(t, get_wordnet_pos(pos_tag(word_tokenize(t))[0][1])) for t in tokens]\n",
    "    text_after_process = \" \".join(tokens)\n",
    "    return text_after_process"
   ]
  },
  {
   "cell_type": "markdown",
   "metadata": {},
   "source": [
    "df['lemm'] = df['text'].apply(pre_process_with_pos_tag)"
   ]
  },
  {
   "cell_type": "code",
   "execution_count": 8,
   "metadata": {},
   "outputs": [],
   "source": [
    "df = df.dropna()"
   ]
  },
  {
   "cell_type": "markdown",
   "metadata": {},
   "source": [
    "#для того чтобы не тратить каждый раз время на лемматизацию, сохраним датафрейм с леммами в файл\n",
    "df.to_csv(\"data_lemm.csv\",index=False)"
   ]
  },
  {
   "cell_type": "code",
   "execution_count": 9,
   "metadata": {},
   "outputs": [],
   "source": [
    "df_lemm = pd.read_csv('data_lemm.csv')"
   ]
  },
  {
   "cell_type": "code",
   "execution_count": 10,
   "metadata": {},
   "outputs": [],
   "source": [
    "df_lemm = df_lemm.dropna()"
   ]
  },
  {
   "cell_type": "code",
   "execution_count": 11,
   "metadata": {},
   "outputs": [
    {
     "name": "stdout",
     "output_type": "stream",
     "text": [
      "<class 'pandas.core.frame.DataFrame'>\n",
      "Int64Index: 59996 entries, 0 to 59999\n",
      "Data columns (total 3 columns):\n",
      "text     59996 non-null object\n",
      "toxic    59996 non-null int64\n",
      "lemm     59996 non-null object\n",
      "dtypes: int64(1), object(2)\n",
      "memory usage: 1.8+ MB\n"
     ]
    }
   ],
   "source": [
    "df_lemm.info()"
   ]
  },
  {
   "cell_type": "code",
   "execution_count": 12,
   "metadata": {},
   "outputs": [],
   "source": [
    "X = df_lemm['lemm'].values\n",
    "y = df_lemm['toxic'].values"
   ]
  },
  {
   "cell_type": "code",
   "execution_count": 13,
   "metadata": {},
   "outputs": [],
   "source": [
    "#Разделим исходные данные на обучающую, валидационную и тестовую выборки. В ходе исследования изменила с 60-20-20 на 70-15-15\n",
    "X_train, X_valid_40, y_train, y_valid_40 = train_test_split(X, y, test_size=0.4, random_state=12345)\n",
    "X_valid, X_test, y_valid, y_test = train_test_split(X_valid_40, y_valid_40, test_size=0.5, random_state=12345)"
   ]
  },
  {
   "cell_type": "code",
   "execution_count": 14,
   "metadata": {},
   "outputs": [],
   "source": [
    "from sklearn.feature_extraction.text import TfidfVectorizer\n",
    "word_vectorizer = TfidfVectorizer(max_features = 5000, min_df = 5, max_df = 0.7, stop_words = 'english', decode_error='replace', encoding='utf-8' )"
   ]
  },
  {
   "cell_type": "code",
   "execution_count": 15,
   "metadata": {},
   "outputs": [],
   "source": [
    "#произведем fit_transform только для обучающей, а transform для валидационной и тестовой выборки\n",
    "\n",
    "features_train = word_vectorizer.fit_transform(X_train).toarray()"
   ]
  },
  {
   "cell_type": "code",
   "execution_count": 16,
   "metadata": {},
   "outputs": [],
   "source": [
    "features_valid = word_vectorizer.transform(X_valid).toarray()"
   ]
  },
  {
   "cell_type": "code",
   "execution_count": 17,
   "metadata": {},
   "outputs": [],
   "source": [
    "features_test = word_vectorizer.transform(X_test).toarray()"
   ]
  },
  {
   "cell_type": "code",
   "execution_count": 18,
   "metadata": {},
   "outputs": [],
   "source": [
    "#https://stackabuse.com/text-classification-with-python-and-scikit-learn/"
   ]
  },
  {
   "cell_type": "markdown",
   "metadata": {},
   "source": [
    "# 2. Обучение"
   ]
  },
  {
   "cell_type": "code",
   "execution_count": 19,
   "metadata": {},
   "outputs": [
    {
     "data": {
      "text/plain": [
       "LogisticRegression(C=1.0, class_weight=None, dual=False, fit_intercept=True,\n",
       "                   intercept_scaling=1, l1_ratio=None, max_iter=100,\n",
       "                   multi_class='warn', n_jobs=None, penalty='l2',\n",
       "                   random_state=None, solver='warn', tol=0.0001, verbose=0,\n",
       "                   warm_start=False)"
      ]
     },
     "execution_count": 19,
     "metadata": {},
     "output_type": "execute_result"
    }
   ],
   "source": [
    "#обучим модель линейной регрессии\n",
    "\n",
    "model_LR = LogisticRegression()\n",
    "model_LR.fit(features_train, y_train)"
   ]
  },
  {
   "cell_type": "code",
   "execution_count": 20,
   "metadata": {},
   "outputs": [],
   "source": [
    "#подберем гиперпараметры для модели случайного леса\n",
    "\n",
    "model_RFC = RandomForestClassifier()"
   ]
  },
  {
   "cell_type": "code",
   "execution_count": 21,
   "metadata": {},
   "outputs": [],
   "source": [
    "#для модели случаного дерева \n",
    "\n",
    "def model_quality_rfc(features_x,target_x,features_y,target_y, estim, depth):\n",
    "    estim_and_score=pd.DataFrame(columns=[\"estimators\",\"max_depth\",'f1'])\n",
    "    i=0\n",
    "    model= RandomForestClassifier(random_state=12345, n_estimators=estim, max_depth=depth)\n",
    "    model.fit(features_x, target_x) #обучим модель\n",
    "    predicted_y=model.predict(features_y) #предскажем по валидационной выборке\n",
    "    \n",
    "    f1=f1_score(target_y, predicted_y)\n",
    "    \n",
    "    estim_and_score.loc[i]=[estim, depth, f1]  #построим датафрейм с данными по F1 на валидационной и тестовой выборке\n",
    "    i+=1\n",
    "    print(estim_and_score)"
   ]
  },
  {
   "cell_type": "code",
   "execution_count": 22,
   "metadata": {},
   "outputs": [
    {
     "name": "stdout",
     "output_type": "stream",
     "text": [
      "   estimators  max_depth   f1\n",
      "0        30.0        5.0  0.0\n",
      "   estimators  max_depth        f1\n",
      "0        30.0       55.0  0.626558\n",
      "   estimators  max_depth       f1\n",
      "0        30.0      105.0  0.72155\n",
      "   estimators  max_depth        f1\n",
      "0        30.0      155.0  0.732276\n",
      "   estimators  max_depth   f1\n",
      "0       230.0        5.0  0.0\n",
      "   estimators  max_depth        f1\n",
      "0       230.0       55.0  0.615894\n",
      "   estimators  max_depth       f1\n",
      "0       230.0      105.0  0.72179\n",
      "   estimators  max_depth        f1\n",
      "0       230.0      155.0  0.728741\n",
      "   estimators  max_depth   f1\n",
      "0       430.0        5.0  0.0\n",
      "   estimators  max_depth        f1\n",
      "0       430.0       55.0  0.619362\n",
      "   estimators  max_depth        f1\n",
      "0       430.0      105.0  0.724539\n",
      "   estimators  max_depth        f1\n",
      "0       430.0      155.0  0.732608\n"
     ]
    }
   ],
   "source": [
    "#подберем гиперпараметры для того, чтобы достичь макс f1\n",
    "for estim in range(30,600,200):\n",
    "    for depth in range (5,200,50):\n",
    "        model_quality_rfc(features_train,y_train,features_valid, y_valid, estim, depth)"
   ]
  },
  {
   "cell_type": "code",
   "execution_count": 23,
   "metadata": {},
   "outputs": [
    {
     "data": {
      "text/plain": [
       "RandomForestClassifier(bootstrap=True, class_weight=None, criterion='gini',\n",
       "                       max_depth=30, max_features='auto', max_leaf_nodes=None,\n",
       "                       min_impurity_decrease=0.0, min_impurity_split=None,\n",
       "                       min_samples_leaf=1, min_samples_split=2,\n",
       "                       min_weight_fraction_leaf=0.0, n_estimators=155,\n",
       "                       n_jobs=None, oob_score=False, random_state=None,\n",
       "                       verbose=0, warm_start=False)"
      ]
     },
     "execution_count": 23,
     "metadata": {},
     "output_type": "execute_result"
    }
   ],
   "source": [
    "#обучим модель на лучших гиперпараметрах\n",
    "model_RFC = RandomForestClassifier(max_depth= 30, n_estimators= 155)#class_weight='balanced', max_depth= 50, n_estimators= 500)\n",
    "model_RFC.fit(features_train, y_train) "
   ]
  },
  {
   "cell_type": "code",
   "execution_count": 24,
   "metadata": {},
   "outputs": [],
   "source": [
    "# для модели LGBM\n",
    "\n",
    "def model_quality_LGBM(features_x,target_x,features_y,target_y, estim):\n",
    "    estim_and_score_lgbm=pd.DataFrame(columns=['n_estimators','f1'])\n",
    "    i=0\n",
    "    model_LGBM= lgb.LGBMClassifier(random_state=12345, n_estimators=estim)\n",
    "    model_LGBM.fit(features_x, target_x) #обучим модель\n",
    "    predicted_y=model_LGBM.predict(features_y) #предскажем по валидационной выборке\n",
    "    \n",
    "    f1=f1_score(target_y, predicted_y)\n",
    "    \n",
    "    estim_and_score_lgbm.loc[i]=[ estim, f1]  #построим датафрейм с данными по F1 на валидационной и тестовой выборке\n",
    "    i+=1\n",
    "    print(estim_and_score_lgbm)"
   ]
  },
  {
   "cell_type": "code",
   "execution_count": 25,
   "metadata": {},
   "outputs": [
    {
     "name": "stdout",
     "output_type": "stream",
     "text": [
      "   n_estimators        f1\n",
      "0         120.0  0.747769\n",
      "   n_estimators        f1\n",
      "0         140.0  0.752688\n",
      "   n_estimators        f1\n",
      "0         160.0  0.753138\n"
     ]
    }
   ],
   "source": [
    "#подберем гиперпараметры для того, чтобы достичь макс f1\n",
    "for estim in range (120,161,20):\n",
    "    model_quality_LGBM(features_train,y_train,features_valid, y_valid, estim)"
   ]
  },
  {
   "cell_type": "code",
   "execution_count": 26,
   "metadata": {},
   "outputs": [
    {
     "data": {
      "text/plain": [
       "LGBMClassifier(boosting_type='gbdt', class_weight=None, colsample_bytree=1.0,\n",
       "               importance_type='split', learning_rate=0.1, max_depth=-1,\n",
       "               min_child_samples=20, min_child_weight=0.001, min_split_gain=0.0,\n",
       "               n_estimators=180, n_jobs=-1, num_leaves=31, objective=None,\n",
       "               random_state=None, reg_alpha=0.0, reg_lambda=0.0, silent=True,\n",
       "               subsample=1.0, subsample_for_bin=200000, subsample_freq=0)"
      ]
     },
     "execution_count": 26,
     "metadata": {},
     "output_type": "execute_result"
    }
   ],
   "source": [
    "#обучим модель на лучших гиперпараметрах\n",
    "model_LGBM = lgb.LGBMClassifier(n_estimators = 180)#boosting_type= 'gbdt',class_weight='balanced' , learning_rate = 0.01, n_estimators = 100, reg_lambda = 1)\n",
    "model_LGBM.fit(features_train, y_train) "
   ]
  },
  {
   "cell_type": "markdown",
   "metadata": {},
   "source": [
    "# 3. Выводы"
   ]
  },
  {
   "cell_type": "code",
   "execution_count": 27,
   "metadata": {},
   "outputs": [],
   "source": [
    "#посмотрим какая модель лучше всего себя покажет\n",
    "predict_LR = model_LR.predict(features_test) "
   ]
  },
  {
   "cell_type": "code",
   "execution_count": 28,
   "metadata": {},
   "outputs": [
    {
     "name": "stdout",
     "output_type": "stream",
     "text": [
      "0.6977236633139228\n"
     ]
    }
   ],
   "source": [
    "print(f1_score(y_test, predict_LR))"
   ]
  },
  {
   "cell_type": "code",
   "execution_count": 29,
   "metadata": {},
   "outputs": [
    {
     "name": "stdout",
     "output_type": "stream",
     "text": [
      "0.34206896551724136\n"
     ]
    }
   ],
   "source": [
    "predict_RFC = model_RFC.predict(features_test) \n",
    "print(f1_score(y_test, predict_RFC))"
   ]
  },
  {
   "cell_type": "code",
   "execution_count": 30,
   "metadata": {},
   "outputs": [
    {
     "name": "stdout",
     "output_type": "stream",
     "text": [
      "0.7585213634181469\n"
     ]
    }
   ],
   "source": [
    "predict_LGBM  = model_LGBM.predict(features_test) \n",
    "print(f1_score(y_test, predict_LGBM))"
   ]
  }
 ],
 "metadata": {
  "kernelspec": {
   "display_name": "Python 3",
   "language": "python",
   "name": "python3"
  },
  "language_info": {
   "codemirror_mode": {
    "name": "ipython",
    "version": 3
   },
   "file_extension": ".py",
   "mimetype": "text/x-python",
   "name": "python",
   "nbconvert_exporter": "python",
   "pygments_lexer": "ipython3",
   "version": "3.7.6"
  }
 },
 "nbformat": 4,
 "nbformat_minor": 2
}
