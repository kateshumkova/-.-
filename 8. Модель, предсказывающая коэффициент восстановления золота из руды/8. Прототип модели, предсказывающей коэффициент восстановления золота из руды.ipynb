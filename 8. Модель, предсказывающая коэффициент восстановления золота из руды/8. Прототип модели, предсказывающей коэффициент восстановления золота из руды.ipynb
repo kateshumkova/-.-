{
 "cells": [
  {
   "cell_type": "markdown",
   "metadata": {},
   "source": [
    "# Описание проекта\n",
    "\n",
    "Подготовим прототип модели машинного обучения для «Цифры». Компания разрабатывает решения для эффективной работы промышленных предприятий.\n",
    "\n",
    "Модель должна предсказать коэффициент восстановления золота из золотосодержащей руды. В нашем распоряжении данные с параметрами добычи и очистки. \n",
    "\n",
    "Модель поможет оптимизировать производство, чтобы не запускать предприятие с убыточными характеристиками.\n",
    "\n",
    "Описание данных\n",
    "\n",
    "Технологический процесс\n",
    "\n",
    "Rougher feed — исходное сырье\n",
    "\n",
    "Rougher additions (или reagent additions) — флотационные реагенты: Xanthate, Sulphate, Depressant\n",
    "\n",
    "Xanthate **— ксантогенат (промотер, или активатор флотации);\n",
    "\n",
    "Sulphate — сульфат (на данном производстве сульфид натрия);\n",
    "\n",
    "Depressant — депрессант (силикат натрия).\n",
    "\n",
    "Rougher process (англ. «грубый процесс») — флотация\n",
    "\n",
    "Rougher tails — отвальные хвосты\n",
    "\n",
    "Float banks — флотационная установка\n",
    "\n",
    "Cleaner process — очистка\n",
    "\n",
    "Rougher Au — черновой концентрат золота\n",
    "\n",
    "Final Au — финальный концентрат золота\n",
    "\n",
    "\n",
    "Параметры этапов\n",
    "\n",
    "air amount — объём воздуха\n",
    "\n",
    "fluid levels — уровень жидкости\n",
    "\n",
    "feed size — размер гранул сырья\n",
    "\n",
    "feed rate — скорость подачи\n",
    "\n",
    "Наименование признаков\n",
    "\n",
    "Наименование признаков должно быть такое:\n",
    "[этап].[тип_параметра].[название_параметра]\n",
    "Пример: rougher.input.feed_ag\n",
    "\n",
    "Возможные значения для блока [этап]:\n",
    "\n",
    "rougher — флотация\n",
    "\n",
    "primary_cleaner — первичная очистка\n",
    "\n",
    "secondary_cleaner — вторичная очистка\n",
    "\n",
    "final — финальные характеристики\n",
    "\n",
    "Возможные значения для блока [тип_параметра]:\n",
    "\n",
    "input — параметры сырья\n",
    "\n",
    "output — параметры продукта\n",
    "\n",
    "state — параметры, характеризующие текущее состояние этапа\n",
    "\n",
    "calculation — расчётные характеристики\n"
   ]
  },
  {
   "cell_type": "markdown",
   "metadata": {},
   "source": [
    "# 1. Подготовка данных"
   ]
  },
  {
   "cell_type": "code",
   "execution_count": 431,
   "metadata": {},
   "outputs": [],
   "source": [
    "import pandas as pd\n",
    "import numpy as np\n",
    "pd.set_option('display.max_rows', 500)\n",
    "pd.set_option('display.max_columns', 500)\n",
    "pd.set_option('display.width', 1000)\n",
    "from sklearn.model_selection import cross_val_predict\n",
    "from sklearn.model_selection import train_test_split #импортируем функцию train_test_split из библиотеки sklearn \n",
    "\n",
    "import warnings\n",
    "warnings.filterwarnings('ignore')\n",
    "\n",
    "from sklearn.linear_model import LinearRegression\n",
    "from sklearn.model_selection import cross_val_score\n",
    "from sklearn.tree import DecisionTreeRegressor\n",
    "from sklearn.ensemble import RandomForestRegressor\n",
    "\n",
    "from sklearn.metrics import mean_absolute_error\n",
    "import seaborn as sns\n",
    "from sklearn.preprocessing import StandardScaler\n",
    "\n",
    "from pylab import *\n",
    "import matplotlib\n",
    "import matplotlib.pyplot as plt"
   ]
  },
  {
   "cell_type": "code",
   "execution_count": 432,
   "metadata": {},
   "outputs": [],
   "source": [
    "train=pd.read_csv(\"/datasets/gold_recovery_train.csv\") #прочитаем файл с обучающей выборкой\n",
    "test=pd.read_csv(\"/datasets//gold_recovery_test.csv\") #прочитаем файл с  тестовой выборкой\n",
    "full=pd.read_csv(\"/datasets/gold_recovery_full.csv\") #прочитаем файл с исходными данными"
   ]
  },
  {
   "cell_type": "code",
   "execution_count": 433,
   "metadata": {},
   "outputs": [
    {
     "name": "stdout",
     "output_type": "stream",
     "text": [
      "<class 'pandas.core.frame.DataFrame'>\n",
      "RangeIndex: 16860 entries, 0 to 16859\n",
      "Data columns (total 87 columns):\n",
      "date                                                  16860 non-null object\n",
      "final.output.concentrate_ag                           16788 non-null float64\n",
      "final.output.concentrate_pb                           16788 non-null float64\n",
      "final.output.concentrate_sol                          16490 non-null float64\n",
      "final.output.concentrate_au                           16789 non-null float64\n",
      "final.output.recovery                                 15339 non-null float64\n",
      "final.output.tail_ag                                  16794 non-null float64\n",
      "final.output.tail_pb                                  16677 non-null float64\n",
      "final.output.tail_sol                                 16715 non-null float64\n",
      "final.output.tail_au                                  16794 non-null float64\n",
      "primary_cleaner.input.sulfate                         15553 non-null float64\n",
      "primary_cleaner.input.depressant                      15598 non-null float64\n",
      "primary_cleaner.input.feed_size                       16860 non-null float64\n",
      "primary_cleaner.input.xanthate                        15875 non-null float64\n",
      "primary_cleaner.output.concentrate_ag                 16778 non-null float64\n",
      "primary_cleaner.output.concentrate_pb                 16502 non-null float64\n",
      "primary_cleaner.output.concentrate_sol                16224 non-null float64\n",
      "primary_cleaner.output.concentrate_au                 16778 non-null float64\n",
      "primary_cleaner.output.tail_ag                        16777 non-null float64\n",
      "primary_cleaner.output.tail_pb                        16761 non-null float64\n",
      "primary_cleaner.output.tail_sol                       16579 non-null float64\n",
      "primary_cleaner.output.tail_au                        16777 non-null float64\n",
      "primary_cleaner.state.floatbank8_a_air                16820 non-null float64\n",
      "primary_cleaner.state.floatbank8_a_level              16827 non-null float64\n",
      "primary_cleaner.state.floatbank8_b_air                16820 non-null float64\n",
      "primary_cleaner.state.floatbank8_b_level              16833 non-null float64\n",
      "primary_cleaner.state.floatbank8_c_air                16822 non-null float64\n",
      "primary_cleaner.state.floatbank8_c_level              16833 non-null float64\n",
      "primary_cleaner.state.floatbank8_d_air                16821 non-null float64\n",
      "primary_cleaner.state.floatbank8_d_level              16833 non-null float64\n",
      "rougher.calculation.sulfate_to_au_concentrate         16833 non-null float64\n",
      "rougher.calculation.floatbank10_sulfate_to_au_feed    16833 non-null float64\n",
      "rougher.calculation.floatbank11_sulfate_to_au_feed    16833 non-null float64\n",
      "rougher.calculation.au_pb_ratio                       15618 non-null float64\n",
      "rougher.input.feed_ag                                 16778 non-null float64\n",
      "rougher.input.feed_pb                                 16632 non-null float64\n",
      "rougher.input.feed_rate                               16347 non-null float64\n",
      "rougher.input.feed_size                               16443 non-null float64\n",
      "rougher.input.feed_sol                                16568 non-null float64\n",
      "rougher.input.feed_au                                 16777 non-null float64\n",
      "rougher.input.floatbank10_sulfate                     15816 non-null float64\n",
      "rougher.input.floatbank10_xanthate                    16514 non-null float64\n",
      "rougher.input.floatbank11_sulfate                     16237 non-null float64\n",
      "rougher.input.floatbank11_xanthate                    14956 non-null float64\n",
      "rougher.output.concentrate_ag                         16778 non-null float64\n",
      "rougher.output.concentrate_pb                         16778 non-null float64\n",
      "rougher.output.concentrate_sol                        16698 non-null float64\n",
      "rougher.output.concentrate_au                         16778 non-null float64\n",
      "rougher.output.recovery                               14287 non-null float64\n",
      "rougher.output.tail_ag                                14610 non-null float64\n",
      "rougher.output.tail_pb                                16778 non-null float64\n",
      "rougher.output.tail_sol                               14611 non-null float64\n",
      "rougher.output.tail_au                                14611 non-null float64\n",
      "rougher.state.floatbank10_a_air                       16807 non-null float64\n",
      "rougher.state.floatbank10_a_level                     16807 non-null float64\n",
      "rougher.state.floatbank10_b_air                       16807 non-null float64\n",
      "rougher.state.floatbank10_b_level                     16807 non-null float64\n",
      "rougher.state.floatbank10_c_air                       16807 non-null float64\n",
      "rougher.state.floatbank10_c_level                     16814 non-null float64\n",
      "rougher.state.floatbank10_d_air                       16802 non-null float64\n",
      "rougher.state.floatbank10_d_level                     16809 non-null float64\n",
      "rougher.state.floatbank10_e_air                       16257 non-null float64\n",
      "rougher.state.floatbank10_e_level                     16809 non-null float64\n",
      "rougher.state.floatbank10_f_air                       16802 non-null float64\n",
      "rougher.state.floatbank10_f_level                     16802 non-null float64\n",
      "secondary_cleaner.output.tail_ag                      16776 non-null float64\n",
      "secondary_cleaner.output.tail_pb                      16764 non-null float64\n",
      "secondary_cleaner.output.tail_sol                     14874 non-null float64\n",
      "secondary_cleaner.output.tail_au                      16778 non-null float64\n",
      "secondary_cleaner.state.floatbank2_a_air              16497 non-null float64\n",
      "secondary_cleaner.state.floatbank2_a_level            16751 non-null float64\n",
      "secondary_cleaner.state.floatbank2_b_air              16705 non-null float64\n",
      "secondary_cleaner.state.floatbank2_b_level            16748 non-null float64\n",
      "secondary_cleaner.state.floatbank3_a_air              16763 non-null float64\n",
      "secondary_cleaner.state.floatbank3_a_level            16747 non-null float64\n",
      "secondary_cleaner.state.floatbank3_b_air              16752 non-null float64\n",
      "secondary_cleaner.state.floatbank3_b_level            16750 non-null float64\n",
      "secondary_cleaner.state.floatbank4_a_air              16731 non-null float64\n",
      "secondary_cleaner.state.floatbank4_a_level            16747 non-null float64\n",
      "secondary_cleaner.state.floatbank4_b_air              16768 non-null float64\n",
      "secondary_cleaner.state.floatbank4_b_level            16767 non-null float64\n",
      "secondary_cleaner.state.floatbank5_a_air              16775 non-null float64\n",
      "secondary_cleaner.state.floatbank5_a_level            16775 non-null float64\n",
      "secondary_cleaner.state.floatbank5_b_air              16775 non-null float64\n",
      "secondary_cleaner.state.floatbank5_b_level            16776 non-null float64\n",
      "secondary_cleaner.state.floatbank6_a_air              16757 non-null float64\n",
      "secondary_cleaner.state.floatbank6_a_level            16775 non-null float64\n",
      "dtypes: float64(86), object(1)\n",
      "memory usage: 11.2+ MB\n"
     ]
    }
   ],
   "source": [
    "train.info() # изучим общую информацию по дата фрейму"
   ]
  },
  {
   "cell_type": "code",
   "execution_count": 434,
   "metadata": {},
   "outputs": [],
   "source": [
    "#train.head(100)"
   ]
  },
  {
   "cell_type": "code",
   "execution_count": 435,
   "metadata": {},
   "outputs": [
    {
     "name": "stdout",
     "output_type": "stream",
     "text": [
      "<class 'pandas.core.frame.DataFrame'>\n",
      "RangeIndex: 5856 entries, 0 to 5855\n",
      "Data columns (total 53 columns):\n",
      "date                                          5856 non-null object\n",
      "primary_cleaner.input.sulfate                 5554 non-null float64\n",
      "primary_cleaner.input.depressant              5572 non-null float64\n",
      "primary_cleaner.input.feed_size               5856 non-null float64\n",
      "primary_cleaner.input.xanthate                5690 non-null float64\n",
      "primary_cleaner.state.floatbank8_a_air        5840 non-null float64\n",
      "primary_cleaner.state.floatbank8_a_level      5840 non-null float64\n",
      "primary_cleaner.state.floatbank8_b_air        5840 non-null float64\n",
      "primary_cleaner.state.floatbank8_b_level      5840 non-null float64\n",
      "primary_cleaner.state.floatbank8_c_air        5840 non-null float64\n",
      "primary_cleaner.state.floatbank8_c_level      5840 non-null float64\n",
      "primary_cleaner.state.floatbank8_d_air        5840 non-null float64\n",
      "primary_cleaner.state.floatbank8_d_level      5840 non-null float64\n",
      "rougher.input.feed_ag                         5840 non-null float64\n",
      "rougher.input.feed_pb                         5840 non-null float64\n",
      "rougher.input.feed_rate                       5816 non-null float64\n",
      "rougher.input.feed_size                       5834 non-null float64\n",
      "rougher.input.feed_sol                        5789 non-null float64\n",
      "rougher.input.feed_au                         5840 non-null float64\n",
      "rougher.input.floatbank10_sulfate             5599 non-null float64\n",
      "rougher.input.floatbank10_xanthate            5733 non-null float64\n",
      "rougher.input.floatbank11_sulfate             5801 non-null float64\n",
      "rougher.input.floatbank11_xanthate            5503 non-null float64\n",
      "rougher.state.floatbank10_a_air               5839 non-null float64\n",
      "rougher.state.floatbank10_a_level             5840 non-null float64\n",
      "rougher.state.floatbank10_b_air               5839 non-null float64\n",
      "rougher.state.floatbank10_b_level             5840 non-null float64\n",
      "rougher.state.floatbank10_c_air               5839 non-null float64\n",
      "rougher.state.floatbank10_c_level             5840 non-null float64\n",
      "rougher.state.floatbank10_d_air               5839 non-null float64\n",
      "rougher.state.floatbank10_d_level             5840 non-null float64\n",
      "rougher.state.floatbank10_e_air               5839 non-null float64\n",
      "rougher.state.floatbank10_e_level             5840 non-null float64\n",
      "rougher.state.floatbank10_f_air               5839 non-null float64\n",
      "rougher.state.floatbank10_f_level             5840 non-null float64\n",
      "secondary_cleaner.state.floatbank2_a_air      5836 non-null float64\n",
      "secondary_cleaner.state.floatbank2_a_level    5840 non-null float64\n",
      "secondary_cleaner.state.floatbank2_b_air      5833 non-null float64\n",
      "secondary_cleaner.state.floatbank2_b_level    5840 non-null float64\n",
      "secondary_cleaner.state.floatbank3_a_air      5822 non-null float64\n",
      "secondary_cleaner.state.floatbank3_a_level    5840 non-null float64\n",
      "secondary_cleaner.state.floatbank3_b_air      5840 non-null float64\n",
      "secondary_cleaner.state.floatbank3_b_level    5840 non-null float64\n",
      "secondary_cleaner.state.floatbank4_a_air      5840 non-null float64\n",
      "secondary_cleaner.state.floatbank4_a_level    5840 non-null float64\n",
      "secondary_cleaner.state.floatbank4_b_air      5840 non-null float64\n",
      "secondary_cleaner.state.floatbank4_b_level    5840 non-null float64\n",
      "secondary_cleaner.state.floatbank5_a_air      5840 non-null float64\n",
      "secondary_cleaner.state.floatbank5_a_level    5840 non-null float64\n",
      "secondary_cleaner.state.floatbank5_b_air      5840 non-null float64\n",
      "secondary_cleaner.state.floatbank5_b_level    5840 non-null float64\n",
      "secondary_cleaner.state.floatbank6_a_air      5840 non-null float64\n",
      "secondary_cleaner.state.floatbank6_a_level    5840 non-null float64\n",
      "dtypes: float64(52), object(1)\n",
      "memory usage: 2.4+ MB\n"
     ]
    }
   ],
   "source": [
    "test.info()"
   ]
  },
  {
   "cell_type": "code",
   "execution_count": 436,
   "metadata": {},
   "outputs": [],
   "source": [
    "#test.head(30)"
   ]
  },
  {
   "cell_type": "code",
   "execution_count": 437,
   "metadata": {},
   "outputs": [
    {
     "name": "stdout",
     "output_type": "stream",
     "text": [
      "<class 'pandas.core.frame.DataFrame'>\n",
      "RangeIndex: 22716 entries, 0 to 22715\n",
      "Data columns (total 87 columns):\n",
      "date                                                  22716 non-null object\n",
      "final.output.concentrate_ag                           22627 non-null float64\n",
      "final.output.concentrate_pb                           22629 non-null float64\n",
      "final.output.concentrate_sol                          22331 non-null float64\n",
      "final.output.concentrate_au                           22630 non-null float64\n",
      "final.output.recovery                                 20753 non-null float64\n",
      "final.output.tail_ag                                  22633 non-null float64\n",
      "final.output.tail_pb                                  22516 non-null float64\n",
      "final.output.tail_sol                                 22445 non-null float64\n",
      "final.output.tail_au                                  22635 non-null float64\n",
      "primary_cleaner.input.sulfate                         21107 non-null float64\n",
      "primary_cleaner.input.depressant                      21170 non-null float64\n",
      "primary_cleaner.input.feed_size                       22716 non-null float64\n",
      "primary_cleaner.input.xanthate                        21565 non-null float64\n",
      "primary_cleaner.output.concentrate_ag                 22618 non-null float64\n",
      "primary_cleaner.output.concentrate_pb                 22268 non-null float64\n",
      "primary_cleaner.output.concentrate_sol                21918 non-null float64\n",
      "primary_cleaner.output.concentrate_au                 22618 non-null float64\n",
      "primary_cleaner.output.tail_ag                        22614 non-null float64\n",
      "primary_cleaner.output.tail_pb                        22594 non-null float64\n",
      "primary_cleaner.output.tail_sol                       22365 non-null float64\n",
      "primary_cleaner.output.tail_au                        22617 non-null float64\n",
      "primary_cleaner.state.floatbank8_a_air                22660 non-null float64\n",
      "primary_cleaner.state.floatbank8_a_level              22667 non-null float64\n",
      "primary_cleaner.state.floatbank8_b_air                22660 non-null float64\n",
      "primary_cleaner.state.floatbank8_b_level              22673 non-null float64\n",
      "primary_cleaner.state.floatbank8_c_air                22662 non-null float64\n",
      "primary_cleaner.state.floatbank8_c_level              22673 non-null float64\n",
      "primary_cleaner.state.floatbank8_d_air                22661 non-null float64\n",
      "primary_cleaner.state.floatbank8_d_level              22673 non-null float64\n",
      "rougher.calculation.sulfate_to_au_concentrate         22672 non-null float64\n",
      "rougher.calculation.floatbank10_sulfate_to_au_feed    22672 non-null float64\n",
      "rougher.calculation.floatbank11_sulfate_to_au_feed    22672 non-null float64\n",
      "rougher.calculation.au_pb_ratio                       21089 non-null float64\n",
      "rougher.input.feed_ag                                 22618 non-null float64\n",
      "rougher.input.feed_pb                                 22472 non-null float64\n",
      "rougher.input.feed_rate                               22163 non-null float64\n",
      "rougher.input.feed_size                               22277 non-null float64\n",
      "rougher.input.feed_sol                                22357 non-null float64\n",
      "rougher.input.feed_au                                 22617 non-null float64\n",
      "rougher.input.floatbank10_sulfate                     21415 non-null float64\n",
      "rougher.input.floatbank10_xanthate                    22247 non-null float64\n",
      "rougher.input.floatbank11_sulfate                     22038 non-null float64\n",
      "rougher.input.floatbank11_xanthate                    20459 non-null float64\n",
      "rougher.output.concentrate_ag                         22618 non-null float64\n",
      "rougher.output.concentrate_pb                         22618 non-null float64\n",
      "rougher.output.concentrate_sol                        22526 non-null float64\n",
      "rougher.output.concentrate_au                         22618 non-null float64\n",
      "rougher.output.recovery                               19597 non-null float64\n",
      "rougher.output.tail_ag                                19979 non-null float64\n",
      "rougher.output.tail_pb                                22618 non-null float64\n",
      "rougher.output.tail_sol                               19980 non-null float64\n",
      "rougher.output.tail_au                                19980 non-null float64\n",
      "rougher.state.floatbank10_a_air                       22646 non-null float64\n",
      "rougher.state.floatbank10_a_level                     22647 non-null float64\n",
      "rougher.state.floatbank10_b_air                       22646 non-null float64\n",
      "rougher.state.floatbank10_b_level                     22647 non-null float64\n",
      "rougher.state.floatbank10_c_air                       22646 non-null float64\n",
      "rougher.state.floatbank10_c_level                     22654 non-null float64\n",
      "rougher.state.floatbank10_d_air                       22641 non-null float64\n",
      "rougher.state.floatbank10_d_level                     22649 non-null float64\n",
      "rougher.state.floatbank10_e_air                       22096 non-null float64\n",
      "rougher.state.floatbank10_e_level                     22649 non-null float64\n",
      "rougher.state.floatbank10_f_air                       22641 non-null float64\n",
      "rougher.state.floatbank10_f_level                     22642 non-null float64\n",
      "secondary_cleaner.output.tail_ag                      22616 non-null float64\n",
      "secondary_cleaner.output.tail_pb                      22600 non-null float64\n",
      "secondary_cleaner.output.tail_sol                     20501 non-null float64\n",
      "secondary_cleaner.output.tail_au                      22618 non-null float64\n",
      "secondary_cleaner.state.floatbank2_a_air              22333 non-null float64\n",
      "secondary_cleaner.state.floatbank2_a_level            22591 non-null float64\n",
      "secondary_cleaner.state.floatbank2_b_air              22538 non-null float64\n",
      "secondary_cleaner.state.floatbank2_b_level            22588 non-null float64\n",
      "secondary_cleaner.state.floatbank3_a_air              22585 non-null float64\n",
      "secondary_cleaner.state.floatbank3_a_level            22587 non-null float64\n",
      "secondary_cleaner.state.floatbank3_b_air              22592 non-null float64\n",
      "secondary_cleaner.state.floatbank3_b_level            22590 non-null float64\n",
      "secondary_cleaner.state.floatbank4_a_air              22571 non-null float64\n",
      "secondary_cleaner.state.floatbank4_a_level            22587 non-null float64\n",
      "secondary_cleaner.state.floatbank4_b_air              22608 non-null float64\n",
      "secondary_cleaner.state.floatbank4_b_level            22607 non-null float64\n",
      "secondary_cleaner.state.floatbank5_a_air              22615 non-null float64\n",
      "secondary_cleaner.state.floatbank5_a_level            22615 non-null float64\n",
      "secondary_cleaner.state.floatbank5_b_air              22615 non-null float64\n",
      "secondary_cleaner.state.floatbank5_b_level            22616 non-null float64\n",
      "secondary_cleaner.state.floatbank6_a_air              22597 non-null float64\n",
      "secondary_cleaner.state.floatbank6_a_level            22615 non-null float64\n",
      "dtypes: float64(86), object(1)\n",
      "memory usage: 15.1+ MB\n"
     ]
    }
   ],
   "source": [
    "full.info()"
   ]
  },
  {
   "cell_type": "code",
   "execution_count": 438,
   "metadata": {},
   "outputs": [],
   "source": [
    "#full.head(30)"
   ]
  },
  {
   "cell_type": "code",
   "execution_count": 439,
   "metadata": {},
   "outputs": [],
   "source": [
    "#Проверим, что эффективность обогащения рассчитана правильно. \n",
    "#Вычислим её на обучающей выборке для признака rougher.output.recovery.  \n",
    "def effectivity(df):\n",
    "    C = df['rougher.output.concentrate_au']\n",
    "    F=df['rougher.input.feed_au']\n",
    "    T=df['rougher.output.tail_au']\n",
    "    try:\n",
    "        recovery = (C*(F-T))/(F*(C-T))*100\n",
    "        return recovery\n",
    "    except:\n",
    "        return np.nan"
   ]
  },
  {
   "cell_type": "code",
   "execution_count": 440,
   "metadata": {},
   "outputs": [],
   "source": [
    "#Удалим все строчки с Nan, так как их нельзя заменять на какое-либо статистическое значение.\n",
    "train=train.dropna()"
   ]
  },
  {
   "cell_type": "code",
   "execution_count": 441,
   "metadata": {},
   "outputs": [
    {
     "data": {
      "text/plain": [
       "11017"
      ]
     },
     "execution_count": 441,
     "metadata": {},
     "output_type": "execute_result"
    }
   ],
   "source": [
    "len(train)"
   ]
  },
  {
   "cell_type": "code",
   "execution_count": 442,
   "metadata": {},
   "outputs": [],
   "source": [
    "test=test.dropna()"
   ]
  },
  {
   "cell_type": "code",
   "execution_count": 443,
   "metadata": {},
   "outputs": [
    {
     "data": {
      "text/plain": [
       "5383"
      ]
     },
     "execution_count": 443,
     "metadata": {},
     "output_type": "execute_result"
    }
   ],
   "source": [
    "len(test)"
   ]
  },
  {
   "cell_type": "code",
   "execution_count": 444,
   "metadata": {},
   "outputs": [],
   "source": [
    "full=full.dropna()"
   ]
  },
  {
   "cell_type": "code",
   "execution_count": 445,
   "metadata": {},
   "outputs": [
    {
     "data": {
      "text/plain": [
       "16094"
      ]
     },
     "execution_count": 445,
     "metadata": {},
     "output_type": "execute_result"
    }
   ],
   "source": [
    "len(full)"
   ]
  },
  {
   "cell_type": "code",
   "execution_count": 446,
   "metadata": {
    "scrolled": false
   },
   "outputs": [
    {
     "name": "stdout",
     "output_type": "stream",
     "text": [
      "count    11017.000000\n",
      "mean        82.741888\n",
      "std         13.590523\n",
      "min         -0.000000\n",
      "25%         79.997468\n",
      "50%         84.847754\n",
      "75%         89.635149\n",
      "max        100.000000\n",
      "dtype: float64\n"
     ]
    }
   ],
   "source": [
    "print(effectivity(train).describe())"
   ]
  },
  {
   "cell_type": "code",
   "execution_count": 447,
   "metadata": {},
   "outputs": [
    {
     "data": {
      "text/plain": [
       "count    11017.000000\n",
       "mean        82.741888\n",
       "std         13.590523\n",
       "min          0.000000\n",
       "25%         79.997468\n",
       "50%         84.847754\n",
       "75%         89.635149\n",
       "max        100.000000\n",
       "Name: rougher.output.recovery, dtype: float64"
      ]
     },
     "execution_count": 447,
     "metadata": {},
     "output_type": "execute_result"
    }
   ],
   "source": [
    "train['rougher.output.recovery'].describe()"
   ]
  },
  {
   "cell_type": "code",
   "execution_count": 448,
   "metadata": {},
   "outputs": [
    {
     "name": "stdout",
     "output_type": "stream",
     "text": [
      "MAE 0.00000000000000955560\n"
     ]
    }
   ],
   "source": [
    "#Найдем MAE между нашими расчётами и значением признака rougher.output.recovery.  \n",
    "mae='{:.20f}'.format(mean_absolute_error(effectivity(train),train['rougher.output.recovery']))\n",
    "print(\"MAE\", mae)"
   ]
  },
  {
   "cell_type": "code",
   "execution_count": 449,
   "metadata": {},
   "outputs": [],
   "source": [
    "##сменим тип данных на дату\n",
    "#train['date']=pd.to_datetime(train['date'], format=\"%Y-%m-%d %H:%M:%S\")\n",
    "#test['date']=pd.to_datetime(test['date'], format=\"%Y-%m-%d %H:%M:%S\")\n",
    "#full['date']=pd.to_datetime(full['date'], format=\"%Y-%m-%d %H:%M:%S\")"
   ]
  },
  {
   "cell_type": "code",
   "execution_count": 450,
   "metadata": {},
   "outputs": [],
   "source": [
    "#проверим, изменился ли тип\n",
    "#train.info()"
   ]
  },
  {
   "cell_type": "code",
   "execution_count": 451,
   "metadata": {},
   "outputs": [],
   "source": [
    "columns_train=set(train.columns)\n",
    "columns_test=set(test.columns)\n",
    "#найдем каких столбцов нет в тестовой выборке\n",
    "col=columns_train-columns_test"
   ]
  },
  {
   "cell_type": "code",
   "execution_count": 452,
   "metadata": {},
   "outputs": [
    {
     "data": {
      "text/plain": [
       "{'final.output.concentrate_ag',\n",
       " 'final.output.concentrate_au',\n",
       " 'final.output.concentrate_pb',\n",
       " 'final.output.concentrate_sol',\n",
       " 'final.output.recovery',\n",
       " 'final.output.tail_ag',\n",
       " 'final.output.tail_au',\n",
       " 'final.output.tail_pb',\n",
       " 'final.output.tail_sol',\n",
       " 'primary_cleaner.output.concentrate_ag',\n",
       " 'primary_cleaner.output.concentrate_au',\n",
       " 'primary_cleaner.output.concentrate_pb',\n",
       " 'primary_cleaner.output.concentrate_sol',\n",
       " 'primary_cleaner.output.tail_ag',\n",
       " 'primary_cleaner.output.tail_au',\n",
       " 'primary_cleaner.output.tail_pb',\n",
       " 'primary_cleaner.output.tail_sol',\n",
       " 'rougher.calculation.au_pb_ratio',\n",
       " 'rougher.calculation.floatbank10_sulfate_to_au_feed',\n",
       " 'rougher.calculation.floatbank11_sulfate_to_au_feed',\n",
       " 'rougher.calculation.sulfate_to_au_concentrate',\n",
       " 'rougher.output.concentrate_ag',\n",
       " 'rougher.output.concentrate_au',\n",
       " 'rougher.output.concentrate_pb',\n",
       " 'rougher.output.concentrate_sol',\n",
       " 'rougher.output.recovery',\n",
       " 'rougher.output.tail_ag',\n",
       " 'rougher.output.tail_au',\n",
       " 'rougher.output.tail_pb',\n",
       " 'rougher.output.tail_sol',\n",
       " 'secondary_cleaner.output.tail_ag',\n",
       " 'secondary_cleaner.output.tail_au',\n",
       " 'secondary_cleaner.output.tail_pb',\n",
       " 'secondary_cleaner.output.tail_sol'}"
      ]
     },
     "execution_count": 452,
     "metadata": {},
     "output_type": "execute_result"
    }
   ],
   "source": [
    "col"
   ]
  },
  {
   "cell_type": "markdown",
   "metadata": {},
   "source": [
    "# Вывод: \n",
    "Данные прошли предобработку. Добалили необходимые библиотеки, изучили общую информацию по датафрейму.\n",
    "16860 в обучающей выборке, 5856 в тестовой, 22716 в общей выборке. После удаления пропусков 11017 в обучающей сократили почти на 35%, 5383 в тестовой на 9%, в общей 16094 на 30%.\n",
    "\n",
    "Средняя относительная ошибка между нашими расчётами и значением признака эффективности обогащения  rougher.output.recovery равна 0.00000000000000955560, что говорит о том, что эффективность обогащения рассчитана правильно. \n",
    "\n",
    "В тестовой выборке недоступны данные этапа final, тип параметры продукта и другие данные, потому что замеряются и/или рассчитываются значительно позже."
   ]
  },
  {
   "cell_type": "markdown",
   "metadata": {},
   "source": [
    "Средняя абсолютная ошибка MAE=$9.6\\cdot 10^{-15}$ найдена верно, значит, формула для расчета эффективности корректная и доступные данные ее подтверждают. "
   ]
  },
  {
   "cell_type": "markdown",
   "metadata": {},
   "source": [
    "# 2. Анализ данных"
   ]
  },
  {
   "cell_type": "code",
   "execution_count": 453,
   "metadata": {},
   "outputs": [],
   "source": [
    "#2.1. Посмотрим, как меняется концентрация металлов (Au, Ag, Pb) на различных этапах очистки\n",
    "full_au=train.filter(regex='concentrate_au',axis=1)"
   ]
  },
  {
   "cell_type": "code",
   "execution_count": 454,
   "metadata": {},
   "outputs": [
    {
     "data": {
      "text/html": [
       "<div>\n",
       "<style scoped>\n",
       "    .dataframe tbody tr th:only-of-type {\n",
       "        vertical-align: middle;\n",
       "    }\n",
       "\n",
       "    .dataframe tbody tr th {\n",
       "        vertical-align: top;\n",
       "    }\n",
       "\n",
       "    .dataframe thead th {\n",
       "        text-align: right;\n",
       "    }\n",
       "</style>\n",
       "<table border=\"1\" class=\"dataframe\">\n",
       "  <thead>\n",
       "    <tr style=\"text-align: right;\">\n",
       "      <th></th>\n",
       "      <th>final.output.concentrate_au</th>\n",
       "      <th>primary_cleaner.output.concentrate_au</th>\n",
       "      <th>rougher.output.concentrate_au</th>\n",
       "    </tr>\n",
       "  </thead>\n",
       "  <tbody>\n",
       "    <tr>\n",
       "      <td>0</td>\n",
       "      <td>42.192020</td>\n",
       "      <td>34.174427</td>\n",
       "      <td>19.793808</td>\n",
       "    </tr>\n",
       "    <tr>\n",
       "      <td>1</td>\n",
       "      <td>42.701629</td>\n",
       "      <td>34.118526</td>\n",
       "      <td>20.050975</td>\n",
       "    </tr>\n",
       "    <tr>\n",
       "      <td>2</td>\n",
       "      <td>42.657501</td>\n",
       "      <td>33.969464</td>\n",
       "      <td>19.737170</td>\n",
       "    </tr>\n",
       "    <tr>\n",
       "      <td>3</td>\n",
       "      <td>42.689819</td>\n",
       "      <td>28.260743</td>\n",
       "      <td>19.320810</td>\n",
       "    </tr>\n",
       "    <tr>\n",
       "      <td>4</td>\n",
       "      <td>42.774141</td>\n",
       "      <td>33.044932</td>\n",
       "      <td>19.216101</td>\n",
       "    </tr>\n",
       "    <tr>\n",
       "      <td>...</td>\n",
       "      <td>...</td>\n",
       "      <td>...</td>\n",
       "      <td>...</td>\n",
       "    </tr>\n",
       "    <tr>\n",
       "      <td>16855</td>\n",
       "      <td>46.713954</td>\n",
       "      <td>32.940215</td>\n",
       "      <td>18.603550</td>\n",
       "    </tr>\n",
       "    <tr>\n",
       "      <td>16856</td>\n",
       "      <td>46.866780</td>\n",
       "      <td>32.925325</td>\n",
       "      <td>18.441436</td>\n",
       "    </tr>\n",
       "    <tr>\n",
       "      <td>16857</td>\n",
       "      <td>46.795691</td>\n",
       "      <td>31.856742</td>\n",
       "      <td>15.111231</td>\n",
       "    </tr>\n",
       "    <tr>\n",
       "      <td>16858</td>\n",
       "      <td>46.408188</td>\n",
       "      <td>30.770892</td>\n",
       "      <td>17.834772</td>\n",
       "    </tr>\n",
       "    <tr>\n",
       "      <td>16859</td>\n",
       "      <td>46.299438</td>\n",
       "      <td>30.356618</td>\n",
       "      <td>17.804134</td>\n",
       "    </tr>\n",
       "  </tbody>\n",
       "</table>\n",
       "<p>11017 rows × 3 columns</p>\n",
       "</div>"
      ],
      "text/plain": [
       "       final.output.concentrate_au  primary_cleaner.output.concentrate_au  rougher.output.concentrate_au\n",
       "0                        42.192020                              34.174427                      19.793808\n",
       "1                        42.701629                              34.118526                      20.050975\n",
       "2                        42.657501                              33.969464                      19.737170\n",
       "3                        42.689819                              28.260743                      19.320810\n",
       "4                        42.774141                              33.044932                      19.216101\n",
       "...                            ...                                    ...                            ...\n",
       "16855                    46.713954                              32.940215                      18.603550\n",
       "16856                    46.866780                              32.925325                      18.441436\n",
       "16857                    46.795691                              31.856742                      15.111231\n",
       "16858                    46.408188                              30.770892                      17.834772\n",
       "16859                    46.299438                              30.356618                      17.804134\n",
       "\n",
       "[11017 rows x 3 columns]"
      ]
     },
     "execution_count": 454,
     "metadata": {},
     "output_type": "execute_result"
    }
   ],
   "source": [
    "full_au"
   ]
  },
  {
   "cell_type": "code",
   "execution_count": 455,
   "metadata": {},
   "outputs": [
    {
     "name": "stdout",
     "output_type": "stream",
     "text": [
      "Диаграмма размаха концентрации AU на различных этапах очистки\n"
     ]
    },
    {
     "data": {
      "text/plain": [
       "<matplotlib.axes._subplots.AxesSubplot at 0x7fac56c3f8d0>"
      ]
     },
     "execution_count": 455,
     "metadata": {},
     "output_type": "execute_result"
    },
    {
     "data": {
      "image/png": "[encoded data removed]",
      "text/plain": [
       "<Figure size 1800x1440 with 1 Axes>"
      ]
     },
     "metadata": {
      "needs_background": "light"
     },
     "output_type": "display_data"
    }
   ],
   "source": [
    "print(\"Диаграмма размаха концентрации AU на различных этапах очистки\")\n",
    "plt.figure(figsize=(25,20)) \n",
    "sns.boxplot(data=full_au[['rougher.output.concentrate_au', 'primary_cleaner.output.concentrate_au', 'final.output.concentrate_au']])"
   ]
  },
  {
   "cell_type": "code",
   "execution_count": 456,
   "metadata": {},
   "outputs": [],
   "source": [
    "full_ag=train.filter(regex='concentrate_ag',axis=1)"
   ]
  },
  {
   "cell_type": "code",
   "execution_count": 457,
   "metadata": {},
   "outputs": [
    {
     "data": {
      "text/html": [
       "<div>\n",
       "<style scoped>\n",
       "    .dataframe tbody tr th:only-of-type {\n",
       "        vertical-align: middle;\n",
       "    }\n",
       "\n",
       "    .dataframe tbody tr th {\n",
       "        vertical-align: top;\n",
       "    }\n",
       "\n",
       "    .dataframe thead th {\n",
       "        text-align: right;\n",
       "    }\n",
       "</style>\n",
       "<table border=\"1\" class=\"dataframe\">\n",
       "  <thead>\n",
       "    <tr style=\"text-align: right;\">\n",
       "      <th></th>\n",
       "      <th>final.output.concentrate_ag</th>\n",
       "      <th>primary_cleaner.output.concentrate_ag</th>\n",
       "      <th>rougher.output.concentrate_ag</th>\n",
       "    </tr>\n",
       "  </thead>\n",
       "  <tbody>\n",
       "    <tr>\n",
       "      <td>0</td>\n",
       "      <td>6.055403</td>\n",
       "      <td>8.547551</td>\n",
       "      <td>11.500771</td>\n",
       "    </tr>\n",
       "    <tr>\n",
       "      <td>1</td>\n",
       "      <td>6.029369</td>\n",
       "      <td>8.558743</td>\n",
       "      <td>11.615865</td>\n",
       "    </tr>\n",
       "    <tr>\n",
       "      <td>2</td>\n",
       "      <td>6.055926</td>\n",
       "      <td>8.603505</td>\n",
       "      <td>11.695753</td>\n",
       "    </tr>\n",
       "    <tr>\n",
       "      <td>3</td>\n",
       "      <td>6.047977</td>\n",
       "      <td>7.221879</td>\n",
       "      <td>11.915047</td>\n",
       "    </tr>\n",
       "    <tr>\n",
       "      <td>4</td>\n",
       "      <td>6.148599</td>\n",
       "      <td>9.089428</td>\n",
       "      <td>12.411054</td>\n",
       "    </tr>\n",
       "    <tr>\n",
       "      <td>...</td>\n",
       "      <td>...</td>\n",
       "      <td>...</td>\n",
       "      <td>...</td>\n",
       "    </tr>\n",
       "    <tr>\n",
       "      <td>16855</td>\n",
       "      <td>3.224920</td>\n",
       "      <td>6.559174</td>\n",
       "      <td>11.124896</td>\n",
       "    </tr>\n",
       "    <tr>\n",
       "      <td>16856</td>\n",
       "      <td>3.195978</td>\n",
       "      <td>6.612376</td>\n",
       "      <td>11.425983</td>\n",
       "    </tr>\n",
       "    <tr>\n",
       "      <td>16857</td>\n",
       "      <td>3.109998</td>\n",
       "      <td>7.128896</td>\n",
       "      <td>8.523497</td>\n",
       "    </tr>\n",
       "    <tr>\n",
       "      <td>16858</td>\n",
       "      <td>3.367241</td>\n",
       "      <td>7.490444</td>\n",
       "      <td>11.658799</td>\n",
       "    </tr>\n",
       "    <tr>\n",
       "      <td>16859</td>\n",
       "      <td>3.598375</td>\n",
       "      <td>7.537584</td>\n",
       "      <td>11.959486</td>\n",
       "    </tr>\n",
       "  </tbody>\n",
       "</table>\n",
       "<p>11017 rows × 3 columns</p>\n",
       "</div>"
      ],
      "text/plain": [
       "       final.output.concentrate_ag  primary_cleaner.output.concentrate_ag  rougher.output.concentrate_ag\n",
       "0                         6.055403                               8.547551                      11.500771\n",
       "1                         6.029369                               8.558743                      11.615865\n",
       "2                         6.055926                               8.603505                      11.695753\n",
       "3                         6.047977                               7.221879                      11.915047\n",
       "4                         6.148599                               9.089428                      12.411054\n",
       "...                            ...                                    ...                            ...\n",
       "16855                     3.224920                               6.559174                      11.124896\n",
       "16856                     3.195978                               6.612376                      11.425983\n",
       "16857                     3.109998                               7.128896                       8.523497\n",
       "16858                     3.367241                               7.490444                      11.658799\n",
       "16859                     3.598375                               7.537584                      11.959486\n",
       "\n",
       "[11017 rows x 3 columns]"
      ]
     },
     "execution_count": 457,
     "metadata": {},
     "output_type": "execute_result"
    }
   ],
   "source": [
    "full_ag"
   ]
  },
  {
   "cell_type": "code",
   "execution_count": 458,
   "metadata": {},
   "outputs": [
    {
     "name": "stdout",
     "output_type": "stream",
     "text": [
      "Диаграмма размаха концентрации AG на различных этапах очистки\n"
     ]
    },
    {
     "data": {
      "text/plain": [
       "<matplotlib.axes._subplots.AxesSubplot at 0x7fac568fd490>"
      ]
     },
     "execution_count": 458,
     "metadata": {},
     "output_type": "execute_result"
    },
    {
     "data": {
      "image/png": "[encoded data removed]",
      "text/plain": [
       "<Figure size 1080x720 with 1 Axes>"
      ]
     },
     "metadata": {
      "needs_background": "light"
     },
     "output_type": "display_data"
    }
   ],
   "source": [
    "print(\"Диаграмма размаха концентрации AG на различных этапах очистки\")\n",
    "plt.figure(figsize=(15,10)) \n",
    "sns.boxplot(data=full_ag[['rougher.output.concentrate_ag', 'primary_cleaner.output.concentrate_ag', 'final.output.concentrate_ag']])"
   ]
  },
  {
   "cell_type": "code",
   "execution_count": 459,
   "metadata": {},
   "outputs": [],
   "source": [
    "full_pb=train.filter(regex='concentrate_pb',axis=1)"
   ]
  },
  {
   "cell_type": "code",
   "execution_count": 460,
   "metadata": {},
   "outputs": [
    {
     "data": {
      "text/html": [
       "<div>\n",
       "<style scoped>\n",
       "    .dataframe tbody tr th:only-of-type {\n",
       "        vertical-align: middle;\n",
       "    }\n",
       "\n",
       "    .dataframe tbody tr th {\n",
       "        vertical-align: top;\n",
       "    }\n",
       "\n",
       "    .dataframe thead th {\n",
       "        text-align: right;\n",
       "    }\n",
       "</style>\n",
       "<table border=\"1\" class=\"dataframe\">\n",
       "  <thead>\n",
       "    <tr style=\"text-align: right;\">\n",
       "      <th></th>\n",
       "      <th>final.output.concentrate_pb</th>\n",
       "      <th>primary_cleaner.output.concentrate_pb</th>\n",
       "      <th>rougher.output.concentrate_pb</th>\n",
       "    </tr>\n",
       "  </thead>\n",
       "  <tbody>\n",
       "    <tr>\n",
       "      <td>0</td>\n",
       "      <td>9.889648</td>\n",
       "      <td>10.389648</td>\n",
       "      <td>7.101074</td>\n",
       "    </tr>\n",
       "    <tr>\n",
       "      <td>1</td>\n",
       "      <td>9.968944</td>\n",
       "      <td>10.497069</td>\n",
       "      <td>7.278807</td>\n",
       "    </tr>\n",
       "    <tr>\n",
       "      <td>2</td>\n",
       "      <td>10.213995</td>\n",
       "      <td>10.354494</td>\n",
       "      <td>7.216833</td>\n",
       "    </tr>\n",
       "    <tr>\n",
       "      <td>3</td>\n",
       "      <td>9.977019</td>\n",
       "      <td>8.496563</td>\n",
       "      <td>7.175616</td>\n",
       "    </tr>\n",
       "    <tr>\n",
       "      <td>4</td>\n",
       "      <td>10.142511</td>\n",
       "      <td>9.986786</td>\n",
       "      <td>7.240205</td>\n",
       "    </tr>\n",
       "    <tr>\n",
       "      <td>...</td>\n",
       "      <td>...</td>\n",
       "      <td>...</td>\n",
       "      <td>...</td>\n",
       "    </tr>\n",
       "    <tr>\n",
       "      <td>16855</td>\n",
       "      <td>11.356233</td>\n",
       "      <td>12.445966</td>\n",
       "      <td>10.984003</td>\n",
       "    </tr>\n",
       "    <tr>\n",
       "      <td>16856</td>\n",
       "      <td>11.349355</td>\n",
       "      <td>12.623947</td>\n",
       "      <td>10.888213</td>\n",
       "    </tr>\n",
       "    <tr>\n",
       "      <td>16857</td>\n",
       "      <td>11.434366</td>\n",
       "      <td>12.633558</td>\n",
       "      <td>8.955135</td>\n",
       "    </tr>\n",
       "    <tr>\n",
       "      <td>16858</td>\n",
       "      <td>11.625587</td>\n",
       "      <td>12.012378</td>\n",
       "      <td>10.655377</td>\n",
       "    </tr>\n",
       "    <tr>\n",
       "      <td>16859</td>\n",
       "      <td>11.737832</td>\n",
       "      <td>11.650285</td>\n",
       "      <td>10.702148</td>\n",
       "    </tr>\n",
       "  </tbody>\n",
       "</table>\n",
       "<p>11017 rows × 3 columns</p>\n",
       "</div>"
      ],
      "text/plain": [
       "       final.output.concentrate_pb  primary_cleaner.output.concentrate_pb  rougher.output.concentrate_pb\n",
       "0                         9.889648                              10.389648                       7.101074\n",
       "1                         9.968944                              10.497069                       7.278807\n",
       "2                        10.213995                              10.354494                       7.216833\n",
       "3                         9.977019                               8.496563                       7.175616\n",
       "4                        10.142511                               9.986786                       7.240205\n",
       "...                            ...                                    ...                            ...\n",
       "16855                    11.356233                              12.445966                      10.984003\n",
       "16856                    11.349355                              12.623947                      10.888213\n",
       "16857                    11.434366                              12.633558                       8.955135\n",
       "16858                    11.625587                              12.012378                      10.655377\n",
       "16859                    11.737832                              11.650285                      10.702148\n",
       "\n",
       "[11017 rows x 3 columns]"
      ]
     },
     "execution_count": 460,
     "metadata": {},
     "output_type": "execute_result"
    }
   ],
   "source": [
    "full_pb"
   ]
  },
  {
   "cell_type": "code",
   "execution_count": 461,
   "metadata": {},
   "outputs": [
    {
     "name": "stdout",
     "output_type": "stream",
     "text": [
      "Диаграмма размаха концентрации PB на различных этапах очистки\n"
     ]
    },
    {
     "data": {
      "text/plain": [
       "<matplotlib.axes._subplots.AxesSubplot at 0x7fac5658e6d0>"
      ]
     },
     "execution_count": 461,
     "metadata": {},
     "output_type": "execute_result"
    },
    {
     "data": {
      "image/png": "[encoded data removed]",
      "text/plain": [
       "<Figure size 1080x720 with 1 Axes>"
      ]
     },
     "metadata": {
      "needs_background": "light"
     },
     "output_type": "display_data"
    }
   ],
   "source": [
    "print(\"Диаграмма размаха концентрации PB на различных этапах очистки\")\n",
    "plt.figure(figsize=(15,10)) \n",
    "sns.boxplot(data=full_pb[['rougher.output.concentrate_pb', 'primary_cleaner.output.concentrate_pb', 'final.output.concentrate_pb']])\n"
   ]
  },
  {
   "cell_type": "markdown",
   "metadata": {},
   "source": [
    "##Вывод: \n",
    "Концентрация AU, PB после каждого этапа очистки растет, а у AG концентрация после каждого этапа снижается."
   ]
  },
  {
   "cell_type": "code",
   "execution_count": 462,
   "metadata": {},
   "outputs": [],
   "source": [
    "#2.2  Сравним распределения размеров гранул сырья на обучающей и тестовой выборках\n",
    "train_feed_size=train.filter(regex='feed_size',axis=1) \n",
    "test_feed_size=test.filter(regex='feed_size',axis=1) \n",
    "both=pd.concat([train_feed_size,test_feed_size], axis=1)"
   ]
  },
  {
   "cell_type": "code",
   "execution_count": 463,
   "metadata": {},
   "outputs": [
    {
     "data": {
      "text/html": [
       "<div>\n",
       "<style scoped>\n",
       "    .dataframe tbody tr th:only-of-type {\n",
       "        vertical-align: middle;\n",
       "    }\n",
       "\n",
       "    .dataframe tbody tr th {\n",
       "        vertical-align: top;\n",
       "    }\n",
       "\n",
       "    .dataframe thead th {\n",
       "        text-align: right;\n",
       "    }\n",
       "</style>\n",
       "<table border=\"1\" class=\"dataframe\">\n",
       "  <thead>\n",
       "    <tr style=\"text-align: right;\">\n",
       "      <th></th>\n",
       "      <th>primary_cleaner.input.feed_size</th>\n",
       "      <th>rougher.input.feed_size</th>\n",
       "    </tr>\n",
       "  </thead>\n",
       "  <tbody>\n",
       "    <tr>\n",
       "      <td>0</td>\n",
       "      <td>7.25</td>\n",
       "      <td>55.486599</td>\n",
       "    </tr>\n",
       "    <tr>\n",
       "      <td>1</td>\n",
       "      <td>7.25</td>\n",
       "      <td>57.278666</td>\n",
       "    </tr>\n",
       "    <tr>\n",
       "      <td>2</td>\n",
       "      <td>7.25</td>\n",
       "      <td>57.510649</td>\n",
       "    </tr>\n",
       "    <tr>\n",
       "      <td>3</td>\n",
       "      <td>7.25</td>\n",
       "      <td>57.792734</td>\n",
       "    </tr>\n",
       "    <tr>\n",
       "      <td>4</td>\n",
       "      <td>7.25</td>\n",
       "      <td>56.047189</td>\n",
       "    </tr>\n",
       "    <tr>\n",
       "      <td>...</td>\n",
       "      <td>...</td>\n",
       "      <td>...</td>\n",
       "    </tr>\n",
       "    <tr>\n",
       "      <td>16855</td>\n",
       "      <td>6.50</td>\n",
       "      <td>85.718304</td>\n",
       "    </tr>\n",
       "    <tr>\n",
       "      <td>16856</td>\n",
       "      <td>6.50</td>\n",
       "      <td>119.499241</td>\n",
       "    </tr>\n",
       "    <tr>\n",
       "      <td>16857</td>\n",
       "      <td>6.50</td>\n",
       "      <td>122.262690</td>\n",
       "    </tr>\n",
       "    <tr>\n",
       "      <td>16858</td>\n",
       "      <td>6.50</td>\n",
       "      <td>123.742430</td>\n",
       "    </tr>\n",
       "    <tr>\n",
       "      <td>16859</td>\n",
       "      <td>6.50</td>\n",
       "      <td>94.544358</td>\n",
       "    </tr>\n",
       "  </tbody>\n",
       "</table>\n",
       "<p>11017 rows × 2 columns</p>\n",
       "</div>"
      ],
      "text/plain": [
       "       primary_cleaner.input.feed_size  rougher.input.feed_size\n",
       "0                                 7.25                55.486599\n",
       "1                                 7.25                57.278666\n",
       "2                                 7.25                57.510649\n",
       "3                                 7.25                57.792734\n",
       "4                                 7.25                56.047189\n",
       "...                                ...                      ...\n",
       "16855                             6.50                85.718304\n",
       "16856                             6.50               119.499241\n",
       "16857                             6.50               122.262690\n",
       "16858                             6.50               123.742430\n",
       "16859                             6.50                94.544358\n",
       "\n",
       "[11017 rows x 2 columns]"
      ]
     },
     "execution_count": 463,
     "metadata": {},
     "output_type": "execute_result"
    }
   ],
   "source": [
    "train_feed_size"
   ]
  },
  {
   "cell_type": "code",
   "execution_count": 464,
   "metadata": {},
   "outputs": [
    {
     "data": {
      "text/html": [
       "<div>\n",
       "<style scoped>\n",
       "    .dataframe tbody tr th:only-of-type {\n",
       "        vertical-align: middle;\n",
       "    }\n",
       "\n",
       "    .dataframe tbody tr th {\n",
       "        vertical-align: top;\n",
       "    }\n",
       "\n",
       "    .dataframe thead th {\n",
       "        text-align: right;\n",
       "    }\n",
       "</style>\n",
       "<table border=\"1\" class=\"dataframe\">\n",
       "  <thead>\n",
       "    <tr style=\"text-align: right;\">\n",
       "      <th></th>\n",
       "      <th>primary_cleaner.input.feed_size</th>\n",
       "      <th>rougher.input.feed_size</th>\n",
       "    </tr>\n",
       "  </thead>\n",
       "  <tbody>\n",
       "    <tr>\n",
       "      <td>0</td>\n",
       "      <td>8.080000</td>\n",
       "      <td>62.710452</td>\n",
       "    </tr>\n",
       "    <tr>\n",
       "      <td>1</td>\n",
       "      <td>8.080000</td>\n",
       "      <td>61.961163</td>\n",
       "    </tr>\n",
       "    <tr>\n",
       "      <td>2</td>\n",
       "      <td>7.786667</td>\n",
       "      <td>66.903807</td>\n",
       "    </tr>\n",
       "    <tr>\n",
       "      <td>3</td>\n",
       "      <td>7.640000</td>\n",
       "      <td>59.865919</td>\n",
       "    </tr>\n",
       "    <tr>\n",
       "      <td>4</td>\n",
       "      <td>7.530000</td>\n",
       "      <td>63.315324</td>\n",
       "    </tr>\n",
       "    <tr>\n",
       "      <td>...</td>\n",
       "      <td>...</td>\n",
       "      <td>...</td>\n",
       "    </tr>\n",
       "    <tr>\n",
       "      <td>5851</td>\n",
       "      <td>8.070000</td>\n",
       "      <td>66.758479</td>\n",
       "    </tr>\n",
       "    <tr>\n",
       "      <td>5852</td>\n",
       "      <td>8.070000</td>\n",
       "      <td>62.560684</td>\n",
       "    </tr>\n",
       "    <tr>\n",
       "      <td>5853</td>\n",
       "      <td>8.070000</td>\n",
       "      <td>73.647513</td>\n",
       "    </tr>\n",
       "    <tr>\n",
       "      <td>5854</td>\n",
       "      <td>8.070000</td>\n",
       "      <td>78.066446</td>\n",
       "    </tr>\n",
       "    <tr>\n",
       "      <td>5855</td>\n",
       "      <td>8.070000</td>\n",
       "      <td>77.678700</td>\n",
       "    </tr>\n",
       "  </tbody>\n",
       "</table>\n",
       "<p>5383 rows × 2 columns</p>\n",
       "</div>"
      ],
      "text/plain": [
       "      primary_cleaner.input.feed_size  rougher.input.feed_size\n",
       "0                            8.080000                62.710452\n",
       "1                            8.080000                61.961163\n",
       "2                            7.786667                66.903807\n",
       "3                            7.640000                59.865919\n",
       "4                            7.530000                63.315324\n",
       "...                               ...                      ...\n",
       "5851                         8.070000                66.758479\n",
       "5852                         8.070000                62.560684\n",
       "5853                         8.070000                73.647513\n",
       "5854                         8.070000                78.066446\n",
       "5855                         8.070000                77.678700\n",
       "\n",
       "[5383 rows x 2 columns]"
      ]
     },
     "execution_count": 464,
     "metadata": {},
     "output_type": "execute_result"
    }
   ],
   "source": [
    "test_feed_size"
   ]
  },
  {
   "cell_type": "code",
   "execution_count": 465,
   "metadata": {},
   "outputs": [],
   "source": [
    "both.columns=['train_primary_cleaner.input.feed_size','train_rougher.input.feed_size','test_primary_cleaner.input.feed_size','test_rougher.input.feed_size']"
   ]
  },
  {
   "cell_type": "code",
   "execution_count": 466,
   "metadata": {},
   "outputs": [],
   "source": [
    "%matplotlib inline"
   ]
  },
  {
   "cell_type": "code",
   "execution_count": 467,
   "metadata": {},
   "outputs": [
    {
     "name": "stdout",
     "output_type": "stream",
     "text": [
      "Диаграмма распределения размеров гранул сырья на черновом этапе очистки по обучающей и тестовой выборке\n"
     ]
    },
    {
     "data": {
      "text/plain": [
       "<matplotlib.axes._subplots.AxesSubplot at 0x7fac564e7750>"
      ]
     },
     "execution_count": 467,
     "metadata": {},
     "output_type": "execute_result"
    },
    {
     "data": {
      "image/png": "[encoded data removed]",
      "text/plain": [
       "<Figure size 1080x720 with 1 Axes>"
      ]
     },
     "metadata": {
      "needs_background": "light"
     },
     "output_type": "display_data"
    }
   ],
   "source": [
    "print(\"Диаграмма распределения размеров гранул сырья на черновом этапе очистки по обучающей и тестовой выборке\")\n",
    "plt.figure(figsize=(15,10)) \n",
    "sns.boxplot(data=both[['train_rougher.input.feed_size','test_rougher.input.feed_size']])"
   ]
  },
  {
   "cell_type": "code",
   "execution_count": 468,
   "metadata": {},
   "outputs": [
    {
     "name": "stdout",
     "output_type": "stream",
     "text": [
      "Диаграмма распределения размеров гранул сырья на этапе первой очистки по обучающей и тестовой выборке\n"
     ]
    },
    {
     "data": {
      "text/plain": [
       "<matplotlib.axes._subplots.AxesSubplot at 0x7fac564e7b10>"
      ]
     },
     "execution_count": 468,
     "metadata": {},
     "output_type": "execute_result"
    },
    {
     "data": {
      "image/png": "[encoded data removed]",
      "text/plain": [
       "<Figure size 1080x720 with 1 Axes>"
      ]
     },
     "metadata": {
      "needs_background": "light"
     },
     "output_type": "display_data"
    }
   ],
   "source": [
    "print(\"Диаграмма распределения размеров гранул сырья на этапе первой очистки по обучающей и тестовой выборке\")\n",
    "plt.figure(figsize=(15,10)) \n",
    "sns.boxplot(data=both[['train_primary_cleaner.input.feed_size','test_primary_cleaner.input.feed_size']])"
   ]
  },
  {
   "cell_type": "code",
   "execution_count": 469,
   "metadata": {},
   "outputs": [
    {
     "data": {
      "text/html": [
       "<div>\n",
       "<style scoped>\n",
       "    .dataframe tbody tr th:only-of-type {\n",
       "        vertical-align: middle;\n",
       "    }\n",
       "\n",
       "    .dataframe tbody tr th {\n",
       "        vertical-align: top;\n",
       "    }\n",
       "\n",
       "    .dataframe thead th {\n",
       "        text-align: right;\n",
       "    }\n",
       "</style>\n",
       "<table border=\"1\" class=\"dataframe\">\n",
       "  <thead>\n",
       "    <tr style=\"text-align: right;\">\n",
       "      <th></th>\n",
       "      <th>primary_cleaner.input.feed_size</th>\n",
       "      <th>rougher.input.feed_size</th>\n",
       "    </tr>\n",
       "  </thead>\n",
       "  <tbody>\n",
       "    <tr>\n",
       "      <td>count</td>\n",
       "      <td>11017.000000</td>\n",
       "      <td>11017.000000</td>\n",
       "    </tr>\n",
       "    <tr>\n",
       "      <td>mean</td>\n",
       "      <td>7.396036</td>\n",
       "      <td>57.215128</td>\n",
       "    </tr>\n",
       "    <tr>\n",
       "      <td>std</td>\n",
       "      <td>0.575317</td>\n",
       "      <td>18.913146</td>\n",
       "    </tr>\n",
       "    <tr>\n",
       "      <td>min</td>\n",
       "      <td>1.080000</td>\n",
       "      <td>9.659576</td>\n",
       "    </tr>\n",
       "    <tr>\n",
       "      <td>25%</td>\n",
       "      <td>7.030000</td>\n",
       "      <td>48.397242</td>\n",
       "    </tr>\n",
       "    <tr>\n",
       "      <td>50%</td>\n",
       "      <td>7.323334</td>\n",
       "      <td>53.843359</td>\n",
       "    </tr>\n",
       "    <tr>\n",
       "      <td>75%</td>\n",
       "      <td>7.740000</td>\n",
       "      <td>61.461770</td>\n",
       "    </tr>\n",
       "    <tr>\n",
       "      <td>max</td>\n",
       "      <td>10.470000</td>\n",
       "      <td>484.967466</td>\n",
       "    </tr>\n",
       "  </tbody>\n",
       "</table>\n",
       "</div>"
      ],
      "text/plain": [
       "       primary_cleaner.input.feed_size  rougher.input.feed_size\n",
       "count                     11017.000000             11017.000000\n",
       "mean                          7.396036                57.215128\n",
       "std                           0.575317                18.913146\n",
       "min                           1.080000                 9.659576\n",
       "25%                           7.030000                48.397242\n",
       "50%                           7.323334                53.843359\n",
       "75%                           7.740000                61.461770\n",
       "max                          10.470000               484.967466"
      ]
     },
     "execution_count": 469,
     "metadata": {},
     "output_type": "execute_result"
    }
   ],
   "source": [
    "train_feed_size.describe()"
   ]
  },
  {
   "cell_type": "code",
   "execution_count": 470,
   "metadata": {},
   "outputs": [
    {
     "data": {
      "text/html": [
       "<div>\n",
       "<style scoped>\n",
       "    .dataframe tbody tr th:only-of-type {\n",
       "        vertical-align: middle;\n",
       "    }\n",
       "\n",
       "    .dataframe tbody tr th {\n",
       "        vertical-align: top;\n",
       "    }\n",
       "\n",
       "    .dataframe thead th {\n",
       "        text-align: right;\n",
       "    }\n",
       "</style>\n",
       "<table border=\"1\" class=\"dataframe\">\n",
       "  <thead>\n",
       "    <tr style=\"text-align: right;\">\n",
       "      <th></th>\n",
       "      <th>primary_cleaner.input.feed_size</th>\n",
       "      <th>rougher.input.feed_size</th>\n",
       "    </tr>\n",
       "  </thead>\n",
       "  <tbody>\n",
       "    <tr>\n",
       "      <td>count</td>\n",
       "      <td>5383.000000</td>\n",
       "      <td>5383.000000</td>\n",
       "    </tr>\n",
       "    <tr>\n",
       "      <td>mean</td>\n",
       "      <td>7.268670</td>\n",
       "      <td>56.338644</td>\n",
       "    </tr>\n",
       "    <tr>\n",
       "      <td>std</td>\n",
       "      <td>0.610441</td>\n",
       "      <td>21.836788</td>\n",
       "    </tr>\n",
       "    <tr>\n",
       "      <td>min</td>\n",
       "      <td>5.650000</td>\n",
       "      <td>0.046369</td>\n",
       "    </tr>\n",
       "    <tr>\n",
       "      <td>25%</td>\n",
       "      <td>6.892500</td>\n",
       "      <td>43.913766</td>\n",
       "    </tr>\n",
       "    <tr>\n",
       "      <td>50%</td>\n",
       "      <td>7.250000</td>\n",
       "      <td>50.924232</td>\n",
       "    </tr>\n",
       "    <tr>\n",
       "      <td>75%</td>\n",
       "      <td>7.600000</td>\n",
       "      <td>62.364984</td>\n",
       "    </tr>\n",
       "    <tr>\n",
       "      <td>max</td>\n",
       "      <td>15.500000</td>\n",
       "      <td>477.445473</td>\n",
       "    </tr>\n",
       "  </tbody>\n",
       "</table>\n",
       "</div>"
      ],
      "text/plain": [
       "       primary_cleaner.input.feed_size  rougher.input.feed_size\n",
       "count                      5383.000000              5383.000000\n",
       "mean                          7.268670                56.338644\n",
       "std                           0.610441                21.836788\n",
       "min                           5.650000                 0.046369\n",
       "25%                           6.892500                43.913766\n",
       "50%                           7.250000                50.924232\n",
       "75%                           7.600000                62.364984\n",
       "max                          15.500000               477.445473"
      ]
     },
     "execution_count": 470,
     "metadata": {},
     "output_type": "execute_result"
    }
   ],
   "source": [
    "test_feed_size.describe()"
   ]
  },
  {
   "cell_type": "markdown",
   "metadata": {},
   "source": [
    "Вывод: Распределения незначительно отличаются друг от друга."
   ]
  },
  {
   "cell_type": "markdown",
   "metadata": {},
   "source": [
    "# 2.3 Исследуем суммарную концентрацию всех веществ на разных стадиях: в сырье, в черновом и финальном концентратах. "
   ]
  },
  {
   "cell_type": "code",
   "execution_count": 471,
   "metadata": {},
   "outputs": [],
   "source": [
    "train[\"rougher_sum\"]=train[\"rougher.output.concentrate_ag\"]+train[\"rougher.output.concentrate_pb\"]+train['rougher.output.concentrate_sol']+train['rougher.output.concentrate_au']  \n",
    "train[\"primary_sum\"]=train[\"primary_cleaner.output.concentrate_ag\"]+train[\"primary_cleaner.output.concentrate_pb\"]+train['primary_cleaner.output.concentrate_sol']+train['primary_cleaner.output.concentrate_au']  \n",
    "train[\"final_sum\"]=train[\"final.output.concentrate_ag\"]+train[\"final.output.concentrate_pb\"]+train['final.output.concentrate_sol']+train['final.output.concentrate_au']  "
   ]
  },
  {
   "cell_type": "code",
   "execution_count": 472,
   "metadata": {},
   "outputs": [
    {
     "data": {
      "text/plain": [
       "count    11017.000000\n",
       "mean        67.898765\n",
       "std         12.244650\n",
       "min          0.000000\n",
       "25%         65.471243\n",
       "50%         69.701409\n",
       "75%         73.921804\n",
       "max         87.273435\n",
       "Name: rougher_sum, dtype: float64"
      ]
     },
     "execution_count": 472,
     "metadata": {},
     "output_type": "execute_result"
    }
   ],
   "source": [
    "train[\"rougher_sum\"].describe()"
   ]
  },
  {
   "cell_type": "code",
   "execution_count": 473,
   "metadata": {},
   "outputs": [
    {
     "data": {
      "text/plain": [
       "<matplotlib.axes._subplots.AxesSubplot at 0x7fac564554d0>"
      ]
     },
     "execution_count": 473,
     "metadata": {},
     "output_type": "execute_result"
    },
    {
     "data": {
      "image/png": "[encoded data removed]",
      "text/plain": [
       "<Figure size 432x288 with 1 Axes>"
      ]
     },
     "metadata": {
      "needs_background": "light"
     },
     "output_type": "display_data"
    }
   ],
   "source": [
    "train[\"rougher_sum\"].hist()"
   ]
  },
  {
   "cell_type": "code",
   "execution_count": 474,
   "metadata": {},
   "outputs": [
    {
     "data": {
      "text/plain": [
       "<matplotlib.axes._subplots.AxesSubplot at 0x7fac563d3190>"
      ]
     },
     "execution_count": 474,
     "metadata": {},
     "output_type": "execute_result"
    },
    {
     "data": {
      "image/png": "[encoded data removed]",
      "text/plain": [
       "<Figure size 432x288 with 1 Axes>"
      ]
     },
     "metadata": {
      "needs_background": "light"
     },
     "output_type": "display_data"
    }
   ],
   "source": [
    "train[\"primary_sum\"].hist()"
   ]
  },
  {
   "cell_type": "code",
   "execution_count": 475,
   "metadata": {},
   "outputs": [
    {
     "data": {
      "text/plain": [
       "<matplotlib.axes._subplots.AxesSubplot at 0x7fac56363dd0>"
      ]
     },
     "execution_count": 475,
     "metadata": {},
     "output_type": "execute_result"
    },
    {
     "data": {
      "image/png": "[encoded data removed]",
      "text/plain": [
       "<Figure size 432x288 with 1 Axes>"
      ]
     },
     "metadata": {
      "needs_background": "light"
     },
     "output_type": "display_data"
    }
   ],
   "source": [
    "train[\"final_sum\"].hist()"
   ]
  },
  {
   "cell_type": "code",
   "execution_count": 476,
   "metadata": {},
   "outputs": [],
   "source": [
    "test['input_sum']=test['rougher.input.feed_ag']+test['rougher.input.feed_pb']+test['rougher.input.feed_sol']+test['rougher.input.feed_au']  "
   ]
  },
  {
   "cell_type": "code",
   "execution_count": 477,
   "metadata": {},
   "outputs": [
    {
     "data": {
      "text/plain": [
       "<matplotlib.axes._subplots.AxesSubplot at 0x7fac5627b490>"
      ]
     },
     "execution_count": 477,
     "metadata": {},
     "output_type": "execute_result"
    },
    {
     "data": {
      "image/png": "[encoded data removed]",
      "text/plain": [
       "<Figure size 432x288 with 1 Axes>"
      ]
     },
     "metadata": {
      "needs_background": "light"
     },
     "output_type": "display_data"
    }
   ],
   "source": [
    "test['input_sum'].hist()"
   ]
  },
  {
   "cell_type": "markdown",
   "metadata": {},
   "source": [
    "Вывод: Наблюдаются аномальные значения в суммарном распределении. Их необходимо удалить. Данные по концентрации только в общей и обучающей выборке. Удалим из обеих выборок."
   ]
  },
  {
   "cell_type": "code",
   "execution_count": 478,
   "metadata": {},
   "outputs": [],
   "source": [
    "#удалим аномалии из обучающей выборки \n",
    "\n",
    "train=train.loc[(train['rougher_sum']>20) & (train['primary_sum']>20) & (train['final_sum']>20)] "
   ]
  },
  {
   "cell_type": "code",
   "execution_count": 479,
   "metadata": {},
   "outputs": [],
   "source": [
    "#удалим аномалии из тестовой выборки\n",
    "\n",
    "test=test.loc[test['input_sum']>20]"
   ]
  },
  {
   "cell_type": "markdown",
   "metadata": {},
   "source": [
    "# 3. Модель"
   ]
  },
  {
   "cell_type": "code",
   "execution_count": 480,
   "metadata": {},
   "outputs": [],
   "source": [
    "test=test.merge(full[['date','rougher.output.recovery','final.output.recovery']], on='date', how='left')"
   ]
  },
  {
   "cell_type": "code",
   "execution_count": 481,
   "metadata": {},
   "outputs": [],
   "source": [
    "test=test.dropna()"
   ]
  },
  {
   "cell_type": "markdown",
   "metadata": {},
   "source": [
    "Построим модель, которая спрогнозирует сразу две величины:\n",
    "эффективность обогащения чернового концентрата rougher.output.recovery;\n",
    "эффективность обогащения финального концентрата final.output.recovery.\n"
   ]
  },
  {
   "cell_type": "code",
   "execution_count": 482,
   "metadata": {},
   "outputs": [],
   "source": [
    "#создадим переменные для признаков и целевого признака rougher.output.recovery для 2х выборок:\n",
    "\n",
    "#для обучающей\n",
    "target_train_r = train['rougher.output.recovery']\n",
    "\n",
    "#отфильтруем по префиксам те признаки, которые относятся у самой первой стадии производства\n",
    "filt_state=train.filter(regex='^rougher.state',axis=1)\n",
    "filt_input=train.filter(regex='^rougher.input',axis=1)\n",
    " \n",
    "#признаки для обучающей выборки \n",
    "features_train_r =pd.concat([filt_state,filt_input], axis=1)"
   ]
  },
  {
   "cell_type": "code",
   "execution_count": 483,
   "metadata": {},
   "outputs": [
    {
     "name": "stdout",
     "output_type": "stream",
     "text": [
      "<class 'pandas.core.frame.DataFrame'>\n",
      "Int64Index: 10612 entries, 0 to 16859\n",
      "Data columns (total 22 columns):\n",
      "rougher.state.floatbank10_a_air       10612 non-null float64\n",
      "rougher.state.floatbank10_a_level     10612 non-null float64\n",
      "rougher.state.floatbank10_b_air       10612 non-null float64\n",
      "rougher.state.floatbank10_b_level     10612 non-null float64\n",
      "rougher.state.floatbank10_c_air       10612 non-null float64\n",
      "rougher.state.floatbank10_c_level     10612 non-null float64\n",
      "rougher.state.floatbank10_d_air       10612 non-null float64\n",
      "rougher.state.floatbank10_d_level     10612 non-null float64\n",
      "rougher.state.floatbank10_e_air       10612 non-null float64\n",
      "rougher.state.floatbank10_e_level     10612 non-null float64\n",
      "rougher.state.floatbank10_f_air       10612 non-null float64\n",
      "rougher.state.floatbank10_f_level     10612 non-null float64\n",
      "rougher.input.feed_ag                 10612 non-null float64\n",
      "rougher.input.feed_pb                 10612 non-null float64\n",
      "rougher.input.feed_rate               10612 non-null float64\n",
      "rougher.input.feed_size               10612 non-null float64\n",
      "rougher.input.feed_sol                10612 non-null float64\n",
      "rougher.input.feed_au                 10612 non-null float64\n",
      "rougher.input.floatbank10_sulfate     10612 non-null float64\n",
      "rougher.input.floatbank10_xanthate    10612 non-null float64\n",
      "rougher.input.floatbank11_sulfate     10612 non-null float64\n",
      "rougher.input.floatbank11_xanthate    10612 non-null float64\n",
      "dtypes: float64(22)\n",
      "memory usage: 1.9 MB\n"
     ]
    }
   ],
   "source": [
    "features_train_r.info()"
   ]
  },
  {
   "cell_type": "code",
   "execution_count": 484,
   "metadata": {},
   "outputs": [],
   "source": [
    "#для тестовой целевой признак\n",
    "\n",
    "target_test_r=test['rougher.output.recovery']\n",
    "\n",
    "#отфильтруем по префиксам те признаки, которые относятся у самой первой стадии производства\n",
    "filt_state_test=test.filter(regex='^rougher.state',axis=1)\n",
    "filt_input_test=test.filter(regex='^rougher.input',axis=1)\n",
    "filt_calculation_test=test.filter(regex='^rougher.calculation',axis=1)\n",
    "\n",
    "#признаки тестовой выборки \n",
    "features_test_r =pd.concat([filt_state_test,filt_input_test,filt_calculation_test], axis=1)"
   ]
  },
  {
   "cell_type": "code",
   "execution_count": 485,
   "metadata": {},
   "outputs": [
    {
     "data": {
      "text/plain": [
       "['rougher.state.floatbank10_a_air',\n",
       " 'rougher.state.floatbank10_a_level',\n",
       " 'rougher.state.floatbank10_b_air',\n",
       " 'rougher.state.floatbank10_b_level',\n",
       " 'rougher.state.floatbank10_c_air',\n",
       " 'rougher.state.floatbank10_c_level',\n",
       " 'rougher.state.floatbank10_d_air',\n",
       " 'rougher.state.floatbank10_d_level',\n",
       " 'rougher.state.floatbank10_e_air',\n",
       " 'rougher.state.floatbank10_e_level',\n",
       " 'rougher.state.floatbank10_f_air',\n",
       " 'rougher.state.floatbank10_f_level',\n",
       " 'rougher.input.feed_ag',\n",
       " 'rougher.input.feed_pb',\n",
       " 'rougher.input.feed_rate',\n",
       " 'rougher.input.feed_size',\n",
       " 'rougher.input.feed_sol',\n",
       " 'rougher.input.feed_au',\n",
       " 'rougher.input.floatbank10_sulfate',\n",
       " 'rougher.input.floatbank10_xanthate',\n",
       " 'rougher.input.floatbank11_sulfate',\n",
       " 'rougher.input.floatbank11_xanthate']"
      ]
     },
     "execution_count": 485,
     "metadata": {},
     "output_type": "execute_result"
    }
   ],
   "source": [
    "features_test_r_columns=list(features_test_r)\n",
    "features_test_r_columns"
   ]
  },
  {
   "cell_type": "code",
   "execution_count": 486,
   "metadata": {},
   "outputs": [
    {
     "data": {
      "text/plain": [
       "['rougher.state.floatbank10_a_air',\n",
       " 'rougher.state.floatbank10_a_level',\n",
       " 'rougher.state.floatbank10_b_air',\n",
       " 'rougher.state.floatbank10_b_level',\n",
       " 'rougher.state.floatbank10_c_air',\n",
       " 'rougher.state.floatbank10_c_level',\n",
       " 'rougher.state.floatbank10_d_air',\n",
       " 'rougher.state.floatbank10_d_level',\n",
       " 'rougher.state.floatbank10_e_air',\n",
       " 'rougher.state.floatbank10_e_level',\n",
       " 'rougher.state.floatbank10_f_air',\n",
       " 'rougher.state.floatbank10_f_level',\n",
       " 'rougher.input.feed_ag',\n",
       " 'rougher.input.feed_pb',\n",
       " 'rougher.input.feed_rate',\n",
       " 'rougher.input.feed_size',\n",
       " 'rougher.input.feed_sol',\n",
       " 'rougher.input.feed_au',\n",
       " 'rougher.input.floatbank10_sulfate',\n",
       " 'rougher.input.floatbank10_xanthate',\n",
       " 'rougher.input.floatbank11_sulfate',\n",
       " 'rougher.input.floatbank11_xanthate']"
      ]
     },
     "execution_count": 486,
     "metadata": {},
     "output_type": "execute_result"
    }
   ],
   "source": [
    "features_train_r_columns=list(features_train_r)\n",
    "features_train_r_columns"
   ]
  },
  {
   "cell_type": "code",
   "execution_count": 487,
   "metadata": {},
   "outputs": [],
   "source": [
    "#Произведем масштабирование \n",
    "#создадим функцию для масштабирования числовых данных, возвращающую отмасштабированные выборки признаков\n",
    "\n",
    "def scaler (features_train, features_test,columns):\n",
    "    numeric = columns\n",
    "    scaler = StandardScaler()\n",
    "    scaler.fit(features_train[numeric])\n",
    "    features_train[numeric] = scaler.transform(features_train[numeric])\n",
    "    features_test[numeric] = scaler.transform(features_test[numeric])\n",
    "    return features_train,features_test"
   ]
  },
  {
   "cell_type": "code",
   "execution_count": 488,
   "metadata": {},
   "outputs": [],
   "source": [
    "#применим для тренировочной и тестовой выборок функцию масштабирования\n",
    "features_train_r,features_test_r=scaler(features_train_r, features_test_r, features_test_r_columns)"
   ]
  },
  {
   "cell_type": "code",
   "execution_count": 489,
   "metadata": {},
   "outputs": [],
   "source": [
    "#создадим переменные для признаков и целевого признака final.output.recovery для 2х выборок:\n",
    "\n",
    "#для тестовой\n",
    "target_test_f = test['final.output.recovery']\n",
    "\n",
    "#отфильтруем по префиксам те признаки, которые ко всем стадиям кроме финальной\n",
    "filt_final=test.filter(regex='^final.output',axis=1)\n",
    "features_test_f=test.drop(filt_final, axis=1).drop(['date'], axis=1).drop(['input_sum'], axis=1).drop(['rougher.output.recovery'], axis=1)"
   ]
  },
  {
   "cell_type": "code",
   "execution_count": 490,
   "metadata": {},
   "outputs": [],
   "source": [
    "# проверим, соответствуют ли колонки фичам в тестовой выборке\n",
    "\n",
    "features_test_f=features_test_f.dropna()"
   ]
  },
  {
   "cell_type": "code",
   "execution_count": 491,
   "metadata": {},
   "outputs": [],
   "source": [
    "columns_features=list(features_test_f.columns)"
   ]
  },
  {
   "cell_type": "code",
   "execution_count": 492,
   "metadata": {},
   "outputs": [],
   "source": [
    "#для обучающей\n",
    "\n",
    "target_train_f = train['final.output.recovery']\n",
    "\n",
    "#отфильтруем по префиксам те признаки, которые относятся у самой первой стадии производства\n",
    "\n",
    "features_train_f=train[columns_features]"
   ]
  },
  {
   "cell_type": "code",
   "execution_count": 493,
   "metadata": {},
   "outputs": [],
   "source": [
    "#применим для тренировочной и тестовой выборок функцию масштабирования\n",
    "features_train_f,features_test_f=scaler(features_train_f, features_test_f, columns_features)"
   ]
  },
  {
   "cell_type": "markdown",
   "metadata": {},
   "source": [
    "3.1. Напишем функцию для вычисления итоговой sMAPE.\n",
    "\n",
    "3.2. Обучим разные модели и оценим их качество кросс-валидацией. Выберем лучшую модель и проверим её на тестовой выборке. "
   ]
  },
  {
   "cell_type": "code",
   "execution_count": 494,
   "metadata": {},
   "outputs": [],
   "source": [
    "#напишем функцию SMAPE\n",
    "def smape(target,predict):\n",
    "    try:\n",
    "        smape=(100/len(target) * np.sum(2 * np.abs(predict - target) / (np.abs(target) + np.abs(predict))))\n",
    "        return smape\n",
    "    except:\n",
    "        return np.nan"
   ]
  },
  {
   "cell_type": "code",
   "execution_count": 495,
   "metadata": {},
   "outputs": [],
   "source": [
    "#функция для вычисления итоговой sMAPE\n",
    "def final_smape(smape_rough,smape_final):\n",
    "    try:\n",
    "        final_smape=0.25*smape_rough+0.75*smape_final\n",
    "        return final_smape\n",
    "    except:\n",
    "        return np.nan"
   ]
  },
  {
   "cell_type": "code",
   "execution_count": 496,
   "metadata": {},
   "outputs": [],
   "source": [
    "#Исследуем качество разных моделей, меняя гиперпараметры. \n",
    "#начнем с линейной регрессии\n",
    "    \n",
    "def model_LR (features,target):\n",
    "    model_LR = LinearRegression().fit(features,target)\n",
    "    predict = cross_val_predict(model_LR,features, target,cv=3) \n",
    "    predict=pd.Series(predict)\n",
    "    smape_one=smape(target,predict)\n",
    "    print(\"sMAPE модели\", smape_one)\n",
    "    return smape_one"
   ]
  },
  {
   "cell_type": "code",
   "execution_count": 497,
   "metadata": {},
   "outputs": [
    {
     "name": "stdout",
     "output_type": "stream",
     "text": [
      "sMAPE модели 5.993147905363877\n"
     ]
    }
   ],
   "source": [
    "#рассчитаем предикт по первой стадии\n",
    "smape_LR_r=model_LR (features_train_r,target_train_r)"
   ]
  },
  {
   "cell_type": "code",
   "execution_count": 498,
   "metadata": {},
   "outputs": [
    {
     "name": "stdout",
     "output_type": "stream",
     "text": [
      "sMAPE модели 7.835410831158706\n"
     ]
    }
   ],
   "source": [
    "#рассчитаем предикт по финальной стадии\n",
    "smape_LR_f=model_LR (features_train_f,target_train_f)"
   ]
  },
  {
   "cell_type": "code",
   "execution_count": 499,
   "metadata": {},
   "outputs": [
    {
     "data": {
      "text/plain": [
       "7.374845099709999"
      ]
     },
     "execution_count": 499,
     "metadata": {},
     "output_type": "execute_result"
    }
   ],
   "source": [
    "#вычислим итоговую sMAPE для линейной регрессии\n",
    "final_smape(smape_LR_r,smape_LR_f)"
   ]
  },
  {
   "cell_type": "code",
   "execution_count": 500,
   "metadata": {},
   "outputs": [],
   "source": [
    "#функция для дерева решений\n",
    "\n",
    "def model_DT (features,target, depth):\n",
    "\n",
    "    model_DT= DecisionTreeRegressor(random_state=12345, max_depth=depth).fit(features,target)\n",
    "    predict = cross_val_predict(model_DT,features, target,cv=3)\n",
    "    predict=pd.Series(predict)\n",
    "    smape_one=smape(target,predict)\n",
    "    print(\"Глубина\", depth, \"sMAPE модели\", smape_one)\n",
    "    return smape_one    "
   ]
  },
  {
   "cell_type": "code",
   "execution_count": 501,
   "metadata": {},
   "outputs": [
    {
     "name": "stdout",
     "output_type": "stream",
     "text": [
      "Глубина 1 sMAPE модели 5.89044804819465\n"
     ]
    }
   ],
   "source": [
    "smape_DT_r=model_DT (features_train_r,target_train_r,1)"
   ]
  },
  {
   "cell_type": "code",
   "execution_count": 502,
   "metadata": {},
   "outputs": [
    {
     "name": "stdout",
     "output_type": "stream",
     "text": [
      "Глубина 1 sMAPE модели 6.978659625514159\n"
     ]
    }
   ],
   "source": [
    "smape_DT_f=model_DT (features_train_f,target_train_f,1)"
   ]
  },
  {
   "cell_type": "code",
   "execution_count": 503,
   "metadata": {},
   "outputs": [
    {
     "data": {
      "text/plain": [
       "6.706606731184282"
      ]
     },
     "execution_count": 503,
     "metadata": {},
     "output_type": "execute_result"
    }
   ],
   "source": [
    "#вычислим итоговую sMAPE для дерева решений с лучшими гиперпараметрами depth=1\n",
    "final_smape(smape_DT_r,smape_DT_f)"
   ]
  },
  {
   "cell_type": "code",
   "execution_count": 504,
   "metadata": {},
   "outputs": [],
   "source": [
    "#в цикле проверим гиперпараметр глубины дерева от 1 до 100, кратно 3\n",
    "#for depth in range(1,100,3):\n",
    "    #model_DT (features_train_r,target_train_r, depth)"
   ]
  },
  {
   "cell_type": "code",
   "execution_count": 505,
   "metadata": {},
   "outputs": [],
   "source": [
    "#в цикле проверим гиперпараметр глубины дерева от 1 до 100, кратно 3\n",
    "#for depth in range(1,100,3):\n",
    "    #model_DT (features_train_f, target_train_f, depth)"
   ]
  },
  {
   "cell_type": "code",
   "execution_count": 506,
   "metadata": {},
   "outputs": [],
   "source": [
    "#для модели случайного леса \n",
    "\n",
    "def model_RFR(features,target, estim, depth):\n",
    "    \n",
    "    model_RFR= RandomForestRegressor(random_state=12345, n_estimators=estim, max_depth=depth).fit(features,target)\n",
    "    predict = cross_val_predict(model_RFR,features, target,cv=3)\n",
    "    predict=pd.Series(predict)\n",
    "    smape_one=smape(target,predict)\n",
    "    print(\"Количество оценщиков:\", estim, \"Глубина\", depth, \"sMAPE модели\", smape_one)\n",
    "    return smape_one  "
   ]
  },
  {
   "cell_type": "code",
   "execution_count": 507,
   "metadata": {},
   "outputs": [],
   "source": [
    "#в цикле проверим качество модели для гиперпараметра количество оценщиков от 1 до 100, кратно 10\n",
    "#for estim in range(1,100,5):\n",
    "    #for depth in range (1,60,3):\n",
    "        #model_RFR(features_train_r,target_train_r, estim, depth)"
   ]
  },
  {
   "cell_type": "code",
   "execution_count": 508,
   "metadata": {},
   "outputs": [],
   "source": [
    "#в цикле проверим качество модели для гиперпараметра количество оценщиков от 1 до 100, кратно 10\n",
    "#for estim in range(1,100,5):\n",
    "    #for depth in range (1,60,3):\n",
    "        #model_RFR(features_train_f, target_train_f, estim, depth)"
   ]
  },
  {
   "cell_type": "code",
   "execution_count": 509,
   "metadata": {},
   "outputs": [
    {
     "name": "stdout",
     "output_type": "stream",
     "text": [
      "Количество оценщиков: 6 Глубина 1 sMAPE модели 5.851570532576901\n"
     ]
    }
   ],
   "source": [
    "smape_RFR_r=model_RFR (features_train_r,target_train_r, 6, 1)"
   ]
  },
  {
   "cell_type": "code",
   "execution_count": 510,
   "metadata": {},
   "outputs": [
    {
     "name": "stdout",
     "output_type": "stream",
     "text": [
      "Количество оценщиков: 16 Глубина 1 sMAPE модели 6.909983183224259\n"
     ]
    }
   ],
   "source": [
    "smape_RFR_f=model_RFR (features_train_f,target_train_f, 16, 1)"
   ]
  },
  {
   "cell_type": "code",
   "execution_count": 511,
   "metadata": {},
   "outputs": [
    {
     "data": {
      "text/plain": [
       "6.64538002056242"
      ]
     },
     "execution_count": 511,
     "metadata": {},
     "output_type": "execute_result"
    }
   ],
   "source": [
    "#вычислим итоговую sMAPE для случайного леса с лучшими гиперпараметрами \n",
    "final_smape(smape_RFR_r,smape_RFR_f)"
   ]
  },
  {
   "cell_type": "code",
   "execution_count": 512,
   "metadata": {},
   "outputs": [],
   "source": [
    "from sklearn.dummy import DummyRegressor\n",
    "def dummy (features,target):\n",
    "    dummy_regr = DummyRegressor(strategy=\"mean\")\n",
    "    dummy_regr.fit(features,target)\n",
    "    predict = cross_val_predict(dummy_regr,features, target,cv=3)\n",
    "    predict=pd.Series(predict)\n",
    "    smape_one=smape(target,predict)\n",
    "    print(\"sMAPE модели\", smape_one)\n",
    "    return smape_one"
   ]
  },
  {
   "cell_type": "code",
   "execution_count": 513,
   "metadata": {},
   "outputs": [
    {
     "name": "stdout",
     "output_type": "stream",
     "text": [
      "sMAPE модели 5.236170357878701\n"
     ]
    }
   ],
   "source": [
    "smape_dummy_r=dummy (features_train_r,target_train_r)"
   ]
  },
  {
   "cell_type": "code",
   "execution_count": 514,
   "metadata": {},
   "outputs": [
    {
     "name": "stdout",
     "output_type": "stream",
     "text": [
      "sMAPE модели 6.201792420561682\n"
     ]
    }
   ],
   "source": [
    "smape_dummy_f=dummy (features_train_f,target_train_f)"
   ]
  },
  {
   "cell_type": "code",
   "execution_count": 515,
   "metadata": {},
   "outputs": [
    {
     "data": {
      "text/plain": [
       "5.960386904890937"
      ]
     },
     "execution_count": 515,
     "metadata": {},
     "output_type": "execute_result"
    }
   ],
   "source": [
    "#вычислим итоговую sMAPE для дамми регрессии\n",
    "final_smape(smape_dummy_r,smape_dummy_f)"
   ]
  },
  {
   "cell_type": "markdown",
   "metadata": {},
   "source": [
    "Лучшие гиперпараметры по значению sMAPE среди моделей:\n",
    "\n",
    "Дерево решений  Финальное sMAPE = 6.706606731184282\n",
    "\n",
    "Линейная регрессия  Финальное sMAPE = 7.374845099709999\n",
    "\n",
    "Случайный лес: Финальное sMAPE = 6.64538002056242\n",
    "\n",
    "Дамми регрессор: Финальное sMAPE = 5.960386904890937"
   ]
  },
  {
   "cell_type": "code",
   "execution_count": 516,
   "metadata": {},
   "outputs": [],
   "source": [
    "#Проверим качество лучшей модели на тестовой выборке \n",
    "model_RFR_r= RandomForestRegressor(random_state=12345, n_estimators=6, max_depth=1).fit(features_train_r,target_train_r)\n",
    "predict_r = cross_val_predict(model_RFR_r,features_test_r, target_test_r,cv=3) ### ошибка!\n",
    "predict_r=pd.Series(predict_r)\n",
    "smape_test_r=smape(target_test_r,predict_r)"
   ]
  },
  {
   "cell_type": "code",
   "execution_count": 517,
   "metadata": {},
   "outputs": [],
   "source": [
    "model_RFR_f= RandomForestRegressor(random_state=12345, n_estimators=16, max_depth=1).fit(features_train_f,target_train_f)\n",
    "predict_f = cross_val_predict(model_RFR_f,features_test_r, target_test_r,cv=3) ### та же ошибка + features_test_f, а не features_test_r\n",
    "predict_f=pd.Series(predict_f)\n",
    "smape_test_f=smape(target_test_f,predict_f)"
   ]
  },
  {
   "cell_type": "code",
   "execution_count": 518,
   "metadata": {},
   "outputs": [
    {
     "data": {
      "text/plain": [
       "17.290323672653706"
      ]
     },
     "execution_count": 518,
     "metadata": {},
     "output_type": "execute_result"
    }
   ],
   "source": [
    "#вычислим итоговую sMAPE для случайного леса на тестовой выборке\n",
    "final_smape(smape_test_r,smape_test_f)"
   ]
  },
  {
   "cell_type": "markdown",
   "metadata": {},
   "source": [
    "# Вывод:\n",
    "Были проверены 4 модели: линейная регрессия, модель дерева решений, модель случайного леса, дамми модель.\n",
    "\n",
    "Лучшие гиперпараметры по значению sMAPE среди моделей:\n",
    "\n",
    "Дерево решений  Финальное sMAPE = 6.706606731184282\n",
    "\n",
    "Линейная регрессия  Финальное sMAPE = 7.374845099709999\n",
    "\n",
    "Случайный лес: Финальное sMAPE = 6.64538002056242\n",
    "\n",
    "Дамми регрессор: Финальное sMAPE = 5.960386904890937\n",
    "\n",
    "Качество дамми модели выше, чем у обученных моделей. Тем не менее качество лучшей модели ( случайный лес ) проверено на тестовой выборке. Значение sMAPE на тестовой выборке равно 17.290323672653706. "
   ]
  },
  {
   "cell_type": "markdown",
   "metadata": {},
   "source": [
    "Константная модель обогнала другие модели машинного обучения. Значит, итоговая модель неадекватна, необходимо дальнейшее исследование. \n"
   ]
  }
 ],
 "metadata": {
  "kernelspec": {
   "display_name": "Python 3",
   "language": "python",
   "name": "python3"
  },
  "language_info": {
   "codemirror_mode": {
    "name": "ipython",
    "version": 3
   },
   "file_extension": ".py",
   "mimetype": "text/x-python",
   "name": "python",
   "nbconvert_exporter": "python",
   "pygments_lexer": "ipython3",
   "version": "3.7.6"
  }
 },
 "nbformat": 4,
 "nbformat_minor": 2
}
