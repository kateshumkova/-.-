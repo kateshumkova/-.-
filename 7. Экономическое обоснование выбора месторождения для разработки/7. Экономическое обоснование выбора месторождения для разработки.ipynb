{
 "cells": [
  {
   "cell_type": "markdown",
   "metadata": {},
   "source": [
    "# Описание проекта"
   ]
  },
  {
   "cell_type": "markdown",
   "metadata": {},
   "source": [
    "Для добывающей компании «ГлавРосГосНефть» необходимо выяснить, где бурить новую скважину.\n",
    "\n",
    "Нам предоставлены пробы нефти в трёх регионах: в каждом 10 000 месторождений, где измерили качество нефти и объём её запасов. Построим модель машинного обучения, которая поможет определить регион, где добыча принесёт наибольшую прибыль. Проанализируем возможную прибыль и риски техникой *Bootstrap.\n",
    "\n",
    "Шаги для выбора локации:\n",
    "\n",
    "- В избранном регионе ищут месторождения, для каждого определяют значения признаков;\n",
    "\n",
    "- Строят модель и оценивают объём запасов;\n",
    "\n",
    "- Выбирают месторождения с самым высокими оценками значений. Количество месторождений зависит от бюджета компании и стоимости разработки одной скважины;\n",
    "\n",
    "- Прибыль равна суммарной прибыли отобранных месторождений.\n",
    "\n",
    "Описание данных\n",
    "\n",
    "id — уникальный идентификатор месторождения;\n",
    "\n",
    "f0, f1, f2 — три признака точек (неважно, что они означают, но сами признаки значимы);\n",
    "\n",
    "product — объём запасов в месторождении (тыс. баррелей).\n",
    "\n",
    "Условия задачи:\n",
    "\n",
    "Для обучения модели подходит только линейная регрессия (остальные — недостаточно предсказуемые).\n",
    "\n",
    "При разведке региона проводится исследование 500 точек.\n",
    "\n",
    "Бюджет на разработку месторождений — 10 млрд рублей, стоимость бурения одной скважины — 50 млн рублей.\n",
    "\n",
    "Один баррель сырья приносит 4500 рублей прибыли.\n",
    "\n",
    "Не рассматривать регионы, в которых риск убытков выше 2.5%. Из оставшихся выбирается регион с наибольшей средней прибылью.\n"
   ]
  },
  {
   "cell_type": "markdown",
   "metadata": {},
   "source": [
    "# 1. Загрузка и подготовка данных"
   ]
  },
  {
   "cell_type": "code",
   "execution_count": 67,
   "metadata": {},
   "outputs": [],
   "source": [
    "import pandas as pd\n",
    "import numpy as np\n",
    "from sklearn.model_selection import train_test_split #импортируем функцию train_test_split из библиотеки sklearn \n",
    "from sklearn.linear_model import LinearRegression\n",
    "from sklearn.metrics import mean_squared_error\n",
    "from sklearn.preprocessing import StandardScaler\n",
    "from sklearn.metrics import r2_score\n",
    "from sklearn.metrics import mean_absolute_error\n",
    "from scipy import stats as st\n",
    "from scipy.stats import t\n",
    "import warnings \n",
    "warnings.filterwarnings('ignore')"
   ]
  },
  {
   "cell_type": "code",
   "execution_count": 68,
   "metadata": {},
   "outputs": [],
   "source": [
    "df_0=pd.read_csv('/datasets/geo_data_0.csv') #прочитаем файлы\n",
    "df_1=pd.read_csv('/datasets/geo_data_1.csv')\n",
    "df_2=pd.read_csv('/datasets/geo_data_2.csv')"
   ]
  },
  {
   "cell_type": "code",
   "execution_count": 69,
   "metadata": {},
   "outputs": [],
   "source": [
    "df=[df_0,df_1,df_2]"
   ]
  },
  {
   "cell_type": "code",
   "execution_count": 70,
   "metadata": {},
   "outputs": [
    {
     "name": "stdout",
     "output_type": "stream",
     "text": [
      "Для региона\n",
      "\n",
      "<class 'pandas.core.frame.DataFrame'>\n",
      "RangeIndex: 100000 entries, 0 to 99999\n",
      "Data columns (total 5 columns):\n",
      "id         100000 non-null object\n",
      "f0         100000 non-null float64\n",
      "f1         100000 non-null float64\n",
      "f2         100000 non-null float64\n",
      "product    100000 non-null float64\n",
      "dtypes: float64(4), object(1)\n",
      "memory usage: 3.8+ MB\n",
      "None\n",
      "       id        f0        f1        f2     product\n",
      "0   txEyH  0.705745 -0.497823  1.221170  105.280062\n",
      "1   2acmU  1.334711 -0.340164  4.365080   73.037750\n",
      "2   409Wp  1.022732  0.151990  1.419926   85.265647\n",
      "3   iJLyR -0.032172  0.139033  2.978566  168.620776\n",
      "4   Xdl7t  1.988431  0.155413  4.751769  154.036647\n",
      "..    ...       ...       ...       ...         ...\n",
      "95  U2v01 -0.299399  1.080699  1.296372   20.701885\n",
      "96  6bstl  0.332135 -0.140657  2.808669   63.864110\n",
      "97  PfuFQ  1.682084 -0.139053  2.703813  168.087330\n",
      "98  D1vZK -1.072434  0.350963  5.353898  114.833418\n",
      "99  vT7FD  1.929955  0.116360 -1.044324  158.819062\n",
      "\n",
      "[100 rows x 5 columns]\n",
      "Для региона\n",
      "\n",
      "<class 'pandas.core.frame.DataFrame'>\n",
      "RangeIndex: 100000 entries, 0 to 99999\n",
      "Data columns (total 5 columns):\n",
      "id         100000 non-null object\n",
      "f0         100000 non-null float64\n",
      "f1         100000 non-null float64\n",
      "f2         100000 non-null float64\n",
      "product    100000 non-null float64\n",
      "dtypes: float64(4), object(1)\n",
      "memory usage: 3.8+ MB\n",
      "None\n",
      "       id         f0         f1        f2     product\n",
      "0   kBEdx -15.001348  -8.276000 -0.005876    3.179103\n",
      "1   62mP7  14.272088  -3.475083  0.999183   26.953261\n",
      "2   vyE1P   6.263187  -5.948386  5.001160  134.766305\n",
      "3   KcrkZ -13.081196 -11.506057  4.999415  137.945408\n",
      "4   AHL4O  12.702195  -8.147433  5.004363  134.766305\n",
      "..    ...        ...        ...       ...         ...\n",
      "95  9plKW  15.411156   1.117979  1.002825   26.953261\n",
      "96  FFBRr  -9.631558  -3.142134 -0.000449    3.179103\n",
      "97  NJgyC  -7.317779  -6.071897  4.006200  110.992147\n",
      "98  0m7Gs  11.877073   4.792457  3.001572   80.859783\n",
      "99  n93UD  18.452972  -8.879619  4.003719  107.813044\n",
      "\n",
      "[100 rows x 5 columns]\n",
      "Для региона\n",
      "\n",
      "<class 'pandas.core.frame.DataFrame'>\n",
      "RangeIndex: 100000 entries, 0 to 99999\n",
      "Data columns (total 5 columns):\n",
      "id         100000 non-null object\n",
      "f0         100000 non-null float64\n",
      "f1         100000 non-null float64\n",
      "f2         100000 non-null float64\n",
      "product    100000 non-null float64\n",
      "dtypes: float64(4), object(1)\n",
      "memory usage: 3.8+ MB\n",
      "None\n",
      "       id        f0        f1        f2     product\n",
      "0   fwXo0 -1.146987  0.963328 -0.828965   27.758673\n",
      "1   WJtFt  0.262778  0.269839 -2.530187   56.069697\n",
      "2   ovLUW  0.194587  0.289035 -5.586433   62.871910\n",
      "3   q6cA6  2.236060 -0.553760  0.930038  114.572842\n",
      "4   WPMUX -0.515993  1.716266  5.899011  149.600746\n",
      "..    ...       ...       ...       ...         ...\n",
      "95  9v3QN -2.133221  0.362536  5.722595  168.507922\n",
      "96  a0qWE -2.227204  0.624627 -0.804711   77.504331\n",
      "97  0oX8v -3.375801 -2.021755  3.999755  108.882155\n",
      "98  opNAr  0.058635 -1.347149  3.400361   81.555711\n",
      "99  QMk6k  2.490791 -3.454526  1.841053   40.063656\n",
      "\n",
      "[100 rows x 5 columns]\n"
     ]
    }
   ],
   "source": [
    "for k in df:\n",
    "    print('Для региона')\n",
    "    print(\"\")\n",
    "    print(k.info())\n",
    "    print(k.head(100)) #изучим датасеты"
   ]
  },
  {
   "cell_type": "code",
   "execution_count": 71,
   "metadata": {},
   "outputs": [],
   "source": [
    "def features_target(df): #создадим функцию для присвоения признаков и целевого значения\n",
    "    features=df.drop(['id','product'], axis=1)\n",
    "    target=df['product']\n",
    "    return features, target"
   ]
  },
  {
   "cell_type": "code",
   "execution_count": 72,
   "metadata": {},
   "outputs": [],
   "source": [
    "features_0, target_0=features_target(df_0) #присвоим признакам и цел показателю соотвествующий номер\n",
    "features_1, target_1=features_target(df_1)\n",
    "features_2, target_2=features_target(df_2)"
   ]
  },
  {
   "cell_type": "code",
   "execution_count": 73,
   "metadata": {},
   "outputs": [],
   "source": [
    "def split(x,y): #функция для разделения выборки, которая возвращает значения для разделенных выборок признаков и целев признака\n",
    "    x_train, x_valid, y_train, y_valid = train_test_split(x,y, test_size=0.25, random_state=12345)\n",
    "    return x_train, x_valid, y_train, y_valid"
   ]
  },
  {
   "cell_type": "code",
   "execution_count": 74,
   "metadata": {},
   "outputs": [],
   "source": [
    "features_train_0, features_valid_0, target_train_0, target_valid_0 = split(features_0, target_0)"
   ]
  },
  {
   "cell_type": "code",
   "execution_count": 75,
   "metadata": {},
   "outputs": [
    {
     "data": {
      "text/html": [
       "<div>\n",
       "<style scoped>\n",
       "    .dataframe tbody tr th:only-of-type {\n",
       "        vertical-align: middle;\n",
       "    }\n",
       "\n",
       "    .dataframe tbody tr th {\n",
       "        vertical-align: top;\n",
       "    }\n",
       "\n",
       "    .dataframe thead th {\n",
       "        text-align: right;\n",
       "    }\n",
       "</style>\n",
       "<table border=\"1\" class=\"dataframe\">\n",
       "  <thead>\n",
       "    <tr style=\"text-align: right;\">\n",
       "      <th></th>\n",
       "      <th>f0</th>\n",
       "      <th>f1</th>\n",
       "      <th>f2</th>\n",
       "    </tr>\n",
       "  </thead>\n",
       "  <tbody>\n",
       "    <tr>\n",
       "      <td>27212</td>\n",
       "      <td>0.022450</td>\n",
       "      <td>0.951034</td>\n",
       "      <td>2.197333</td>\n",
       "    </tr>\n",
       "    <tr>\n",
       "      <td>7866</td>\n",
       "      <td>1.766731</td>\n",
       "      <td>0.007835</td>\n",
       "      <td>6.436602</td>\n",
       "    </tr>\n",
       "    <tr>\n",
       "      <td>62041</td>\n",
       "      <td>0.724514</td>\n",
       "      <td>0.666063</td>\n",
       "      <td>1.840177</td>\n",
       "    </tr>\n",
       "    <tr>\n",
       "      <td>70185</td>\n",
       "      <td>-1.104181</td>\n",
       "      <td>0.255268</td>\n",
       "      <td>2.026156</td>\n",
       "    </tr>\n",
       "    <tr>\n",
       "      <td>82230</td>\n",
       "      <td>-0.635263</td>\n",
       "      <td>0.747990</td>\n",
       "      <td>6.643327</td>\n",
       "    </tr>\n",
       "    <tr>\n",
       "      <td>...</td>\n",
       "      <td>...</td>\n",
       "      <td>...</td>\n",
       "      <td>...</td>\n",
       "    </tr>\n",
       "    <tr>\n",
       "      <td>4094</td>\n",
       "      <td>1.863680</td>\n",
       "      <td>-0.298123</td>\n",
       "      <td>1.621324</td>\n",
       "    </tr>\n",
       "    <tr>\n",
       "      <td>85412</td>\n",
       "      <td>-1.162682</td>\n",
       "      <td>-0.014822</td>\n",
       "      <td>6.819941</td>\n",
       "    </tr>\n",
       "    <tr>\n",
       "      <td>2177</td>\n",
       "      <td>0.862688</td>\n",
       "      <td>-0.403776</td>\n",
       "      <td>1.867662</td>\n",
       "    </tr>\n",
       "    <tr>\n",
       "      <td>77285</td>\n",
       "      <td>0.846235</td>\n",
       "      <td>-0.489533</td>\n",
       "      <td>1.058786</td>\n",
       "    </tr>\n",
       "    <tr>\n",
       "      <td>86498</td>\n",
       "      <td>2.019850</td>\n",
       "      <td>0.263887</td>\n",
       "      <td>11.497239</td>\n",
       "    </tr>\n",
       "  </tbody>\n",
       "</table>\n",
       "<p>75000 rows × 3 columns</p>\n",
       "</div>"
      ],
      "text/plain": [
       "             f0        f1         f2\n",
       "27212  0.022450  0.951034   2.197333\n",
       "7866   1.766731  0.007835   6.436602\n",
       "62041  0.724514  0.666063   1.840177\n",
       "70185 -1.104181  0.255268   2.026156\n",
       "82230 -0.635263  0.747990   6.643327\n",
       "...         ...       ...        ...\n",
       "4094   1.863680 -0.298123   1.621324\n",
       "85412 -1.162682 -0.014822   6.819941\n",
       "2177   0.862688 -0.403776   1.867662\n",
       "77285  0.846235 -0.489533   1.058786\n",
       "86498  2.019850  0.263887  11.497239\n",
       "\n",
       "[75000 rows x 3 columns]"
      ]
     },
     "execution_count": 75,
     "metadata": {},
     "output_type": "execute_result"
    }
   ],
   "source": [
    "features_train_0 # посмотрим как выглядит обучающая выборка первого региона"
   ]
  },
  {
   "cell_type": "code",
   "execution_count": 76,
   "metadata": {},
   "outputs": [],
   "source": [
    "features_train_1, features_valid_1, target_train_1, target_valid_1 = split(features_1, target_1)"
   ]
  },
  {
   "cell_type": "code",
   "execution_count": 77,
   "metadata": {},
   "outputs": [],
   "source": [
    "features_train_2, features_valid_2, target_train_2, target_valid_2 = split(features_2, target_2)"
   ]
  },
  {
   "cell_type": "code",
   "execution_count": 78,
   "metadata": {},
   "outputs": [],
   "source": [
    "#Произведем масштабирование \n",
    "#создадим функцию для масштабирования числовых данных, возвращающую отмасштабированные выборки признаков\n",
    "\n",
    "def scaler (features_train, features_valid):\n",
    "    numeric = ['f0', 'f1', 'f2']\n",
    "    scaler = StandardScaler()\n",
    "    scaler.fit(features_train[numeric])\n",
    "    features_train[numeric] = scaler.transform(features_train[numeric])\n",
    "    features_valid[numeric] = scaler.transform(features_valid[numeric])\n",
    "    return features_train,features_valid"
   ]
  },
  {
   "cell_type": "code",
   "execution_count": 79,
   "metadata": {},
   "outputs": [],
   "source": [
    "#применим для выборок каждого региона\n",
    "features_train_0,features_valid_0=scaler(features_train_0, features_valid_0)\n",
    "features_train_1,features_valid_1=scaler(features_train_1, features_valid_1)\n",
    "features_train_2,features_valid_2=scaler(features_train_2, features_valid_2)"
   ]
  },
  {
   "cell_type": "code",
   "execution_count": 80,
   "metadata": {},
   "outputs": [
    {
     "data": {
      "text/html": [
       "<div>\n",
       "<style scoped>\n",
       "    .dataframe tbody tr th:only-of-type {\n",
       "        vertical-align: middle;\n",
       "    }\n",
       "\n",
       "    .dataframe tbody tr th {\n",
       "        vertical-align: top;\n",
       "    }\n",
       "\n",
       "    .dataframe thead th {\n",
       "        text-align: right;\n",
       "    }\n",
       "</style>\n",
       "<table border=\"1\" class=\"dataframe\">\n",
       "  <thead>\n",
       "    <tr style=\"text-align: right;\">\n",
       "      <th></th>\n",
       "      <th>f0</th>\n",
       "      <th>f1</th>\n",
       "      <th>f2</th>\n",
       "    </tr>\n",
       "  </thead>\n",
       "  <tbody>\n",
       "    <tr>\n",
       "      <td>27212</td>\n",
       "      <td>-0.544828</td>\n",
       "      <td>1.390264</td>\n",
       "      <td>-0.094959</td>\n",
       "    </tr>\n",
       "    <tr>\n",
       "      <td>7866</td>\n",
       "      <td>1.455912</td>\n",
       "      <td>-0.480422</td>\n",
       "      <td>1.209567</td>\n",
       "    </tr>\n",
       "    <tr>\n",
       "      <td>62041</td>\n",
       "      <td>0.260460</td>\n",
       "      <td>0.825069</td>\n",
       "      <td>-0.204865</td>\n",
       "    </tr>\n",
       "    <tr>\n",
       "      <td>70185</td>\n",
       "      <td>-1.837105</td>\n",
       "      <td>0.010321</td>\n",
       "      <td>-0.147634</td>\n",
       "    </tr>\n",
       "    <tr>\n",
       "      <td>82230</td>\n",
       "      <td>-1.299243</td>\n",
       "      <td>0.987558</td>\n",
       "      <td>1.273181</td>\n",
       "    </tr>\n",
       "    <tr>\n",
       "      <td>...</td>\n",
       "      <td>...</td>\n",
       "      <td>...</td>\n",
       "      <td>...</td>\n",
       "    </tr>\n",
       "    <tr>\n",
       "      <td>4094</td>\n",
       "      <td>1.567114</td>\n",
       "      <td>-1.087243</td>\n",
       "      <td>-0.272211</td>\n",
       "    </tr>\n",
       "    <tr>\n",
       "      <td>85412</td>\n",
       "      <td>-1.904207</td>\n",
       "      <td>-0.525360</td>\n",
       "      <td>1.327530</td>\n",
       "    </tr>\n",
       "    <tr>\n",
       "      <td>2177</td>\n",
       "      <td>0.418949</td>\n",
       "      <td>-1.296788</td>\n",
       "      <td>-0.196407</td>\n",
       "    </tr>\n",
       "    <tr>\n",
       "      <td>77285</td>\n",
       "      <td>0.400077</td>\n",
       "      <td>-1.466874</td>\n",
       "      <td>-0.445317</td>\n",
       "    </tr>\n",
       "    <tr>\n",
       "      <td>86498</td>\n",
       "      <td>1.746246</td>\n",
       "      <td>0.027415</td>\n",
       "      <td>2.766848</td>\n",
       "    </tr>\n",
       "  </tbody>\n",
       "</table>\n",
       "<p>75000 rows × 3 columns</p>\n",
       "</div>"
      ],
      "text/plain": [
       "             f0        f1        f2\n",
       "27212 -0.544828  1.390264 -0.094959\n",
       "7866   1.455912 -0.480422  1.209567\n",
       "62041  0.260460  0.825069 -0.204865\n",
       "70185 -1.837105  0.010321 -0.147634\n",
       "82230 -1.299243  0.987558  1.273181\n",
       "...         ...       ...       ...\n",
       "4094   1.567114 -1.087243 -0.272211\n",
       "85412 -1.904207 -0.525360  1.327530\n",
       "2177   0.418949 -1.296788 -0.196407\n",
       "77285  0.400077 -1.466874 -0.445317\n",
       "86498  1.746246  0.027415  2.766848\n",
       "\n",
       "[75000 rows x 3 columns]"
      ]
     },
     "execution_count": 80,
     "metadata": {},
     "output_type": "execute_result"
    }
   ],
   "source": [
    "#сравним с тем, что было до масштабирования\n",
    "features_train_0 "
   ]
  },
  {
   "cell_type": "markdown",
   "metadata": {},
   "source": [
    "# Вывод:\n",
    "\n",
    "Данные выгружены, прошли масштабирование числовых значений, разделили на выборки, присвоили значения признакам."
   ]
  },
  {
   "cell_type": "markdown",
   "metadata": {},
   "source": [
    "# 2. Обучение и проверка модели"
   ]
  },
  {
   "cell_type": "code",
   "execution_count": 81,
   "metadata": {},
   "outputs": [],
   "source": [
    "#создадим функцию, которая обучает линейную регрессию, \n",
    "#находит средний запас сырья в регионе, расчитывает качество модели\n",
    "#возвращает предсказания и правильные ответы валидационной выборки\n",
    "def log_reg(features_train, features_valid, target_train, target_valid):\n",
    "    model = LinearRegression()\n",
    "    model.fit(features_train, target_train)\n",
    "    predicted_valid = model.predict(features_valid)\n",
    "    predicted_mean = predicted_valid.mean()\n",
    "    print('Средний запас сырья', predicted_mean)\n",
    "    rmse = mean_squared_error(target_valid, predicted_valid)**0.5\n",
    "    print('Квадратный корень из средней квадратичной ошибки модели =', rmse)\n",
    "    r2 = r2_score(target_valid,predicted_valid)\n",
    "    print(\"Коэффициент детерминации =\", r2)\n",
    "    mae=mean_absolute_error(target_valid, predicted_valid)\n",
    "    print(\"Среднее абсолютное отклонение =\", mae)\n",
    "    return predicted_valid, target_valid, predicted_mean,rmse,r2, mae\n"
   ]
  },
  {
   "cell_type": "code",
   "execution_count": 82,
   "metadata": {},
   "outputs": [
    {
     "name": "stdout",
     "output_type": "stream",
     "text": [
      "Средний запас сырья 92.59256778438038\n",
      "Квадратный корень из средней квадратичной ошибки модели = 37.5794217150813\n",
      "Коэффициент детерминации = 0.27994321524487786\n",
      "Среднее абсолютное отклонение = 30.919600777151313\n"
     ]
    }
   ],
   "source": [
    "predicted_valid_0, target_valid_0, predicted_mean_0,rmse_0,r2_0, mae_0=log_reg (features_train_0, features_valid_0, target_train_0, target_valid_0)"
   ]
  },
  {
   "cell_type": "code",
   "execution_count": 83,
   "metadata": {},
   "outputs": [
    {
     "name": "stdout",
     "output_type": "stream",
     "text": [
      "Средний запас сырья 68.728546895446\n",
      "Квадратный корень из средней квадратичной ошибки модели = 0.8930992867756158\n",
      "Коэффициент детерминации = 0.9996233978805127\n",
      "Среднее абсолютное отклонение = 0.718766244212475\n"
     ]
    }
   ],
   "source": [
    "predicted_valid_1, target_valid_1, predicted_mean_1,rmse_1,r2_1,mae_1=log_reg (features_train_1, features_valid_1, target_train_1, target_valid_1)"
   ]
  },
  {
   "cell_type": "code",
   "execution_count": 84,
   "metadata": {},
   "outputs": [
    {
     "name": "stdout",
     "output_type": "stream",
     "text": [
      "Средний запас сырья 94.96504596800489\n",
      "Квадратный корень из средней квадратичной ошибки модели = 40.02970873393434\n",
      "Коэффициент детерминации = 0.20524758386040443\n",
      "Среднее абсолютное отклонение = 32.792652105481814\n"
     ]
    }
   ],
   "source": [
    "predicted_valid_2, target_valid_2, predicted_mean_2,rmse_2,r2_2,mae_2=log_reg (features_train_2, features_valid_2, target_train_2, target_valid_2)"
   ]
  },
  {
   "cell_type": "markdown",
   "metadata": {},
   "source": [
    "# Вывод\n",
    "модель 1 и 3 переоценивает объем запасов. модель 1 в среднем ошибается на 30,9 тыс. баррелей, модель 3 ошибается на 32,7 тыс. баррелей. Вторая модель самая точная. Средний запас 68,7 тыс. баррелей. "
   ]
  },
  {
   "cell_type": "markdown",
   "metadata": {},
   "source": [
    "# 3. Подготовка к расчёту прибыли"
   ]
  },
  {
   "cell_type": "markdown",
   "metadata": {},
   "source": [
    "Исходя из условий задачи рассчитаем минимальный средний объём сырья в месторождениях региона, достаточный для его разработки.\n",
    "Стоимость бурения одной скважины — 50 млн рублей. Один баррель сырья приносит 4500 рублей прибыли. "
   ]
  },
  {
   "cell_type": "code",
   "execution_count": 85,
   "metadata": {},
   "outputs": [],
   "source": [
    "#Сохраним в коде все ключевые значения для расчётов\n",
    "\n",
    "budget=10000000\n",
    "expan_one=50000\n",
    "one_barrel=4.5"
   ]
  },
  {
   "cell_type": "code",
   "execution_count": 86,
   "metadata": {},
   "outputs": [],
   "source": [
    "def revenue(target_valid, predicted_valid, count):\n",
    "    sorted_predicted = predicted_valid.sort_values(ascending=False)\n",
    "    selected = target_valid[sorted_predicted.index][:count]\n",
    "    total_expan=expan_one*count\n",
    "    revenue=total_expan-one_barrel*selected.sum()\n",
    "    return revenue"
   ]
  },
  {
   "cell_type": "code",
   "execution_count": 87,
   "metadata": {},
   "outputs": [],
   "source": [
    "from numpy.random import RandomState\n",
    "state = np.random.RandomState(12345)\n",
    "\n",
    "def bootstrap_min_barrels (target_valid, predicted_valid):\n",
    "        \n",
    "    values = []\n",
    "        \n",
    "    for i in range(1000):\n",
    "        predicted_valid=pd.Series(predicted_valid)\n",
    "        target_valid=pd.Series(target_valid)\n",
    "        target_subsample=target_valid.sample(n=500,replace=True,random_state=state)\n",
    "        predicted_subsample=predicted_valid[target_subsample.index]\n",
    "        values.append(revenue(target_subsample,predicted_subsample,200))\n",
    "\n",
    "    values = pd.Series(values)\n",
    "    lower = values.quantile(0.025)\n",
    "    mean_revenue = values.mean()\n",
    "    budget=10000000\n",
    "    print(\"2.5%-квантиль:\", lower)\n",
    "    if values.mean()>budget:\n",
    "        return print(\"Регион рассматриваем, риск убытков меньше 2.5%\")\n",
    "        "
   ]
  },
  {
   "cell_type": "code",
   "execution_count": 88,
   "metadata": {},
   "outputs": [
    {
     "name": "stdout",
     "output_type": "stream",
     "text": [
      "2.5%-квантиль: 9911678.913158959\n"
     ]
    }
   ],
   "source": [
    "bootstrap_min_barrels(target_valid_0, predicted_valid_0)"
   ]
  },
  {
   "cell_type": "code",
   "execution_count": 89,
   "metadata": {},
   "outputs": [
    {
     "name": "stdout",
     "output_type": "stream",
     "text": [
      "2.5%-квантиль: 9932394.30160146\n"
     ]
    }
   ],
   "source": [
    "bootstrap_min_barrels(target_valid_1, predicted_valid_1)"
   ]
  },
  {
   "cell_type": "code",
   "execution_count": 90,
   "metadata": {},
   "outputs": [
    {
     "name": "stdout",
     "output_type": "stream",
     "text": [
      "2.5%-квантиль: 9909186.18235849\n"
     ]
    }
   ],
   "source": [
    "bootstrap_min_barrels(target_valid_2, predicted_valid_2)"
   ]
  },
  {
   "cell_type": "markdown",
   "metadata": {},
   "source": [
    "У всех регионов значение 2,5% квантиля позволяет сделать вывод о безубыточности регионов."
   ]
  },
  {
   "cell_type": "markdown",
   "metadata": {},
   "source": [
    "# 4. Расчёт прибыли и рисков "
   ]
  },
  {
   "cell_type": "code",
   "execution_count": 91,
   "metadata": {},
   "outputs": [],
   "source": [
    "from numpy.random import RandomState\n",
    "state = np.random.RandomState(12345)\n",
    "\n",
    "def bootstrap (target_valid, predicted_valid):\n",
    "        \n",
    "    values = []\n",
    "        \n",
    "    for i in range(1000):\n",
    "        predicted_valid=pd.Series(predicted_valid)\n",
    "        target_valid=pd.Series(target_valid)\n",
    "        target_subsample=target_valid.sample(n=500,replace=True,random_state=state)\n",
    "        predicted_subsample=predicted_valid[target_subsample.index]\n",
    "        values.append(revenue(target_subsample,predicted_subsample,200))\n",
    "\n",
    "    values = pd.Series(values)\n",
    "    lower = values.quantile(0.025)\n",
    "    upper= values.quantile(0.975)\n",
    "    mean_revenue = values.mean()\n",
    "    confidence_interval = st.t.interval(0.95, len(values)-1, values.mean(), values.sem())\n",
    "\n",
    "    print(\"Средняя выручка:\", mean_revenue)\n",
    "    print(\"95%-ый доверительный интервал:\", confidence_interval)\n",
    "    return mean_revenue, confidence_interval"
   ]
  },
  {
   "cell_type": "code",
   "execution_count": 92,
   "metadata": {},
   "outputs": [
    {
     "name": "stdout",
     "output_type": "stream",
     "text": [
      "Средняя выручка: 9917270.74054416\n",
      "95%-ый доверительный интервал: (9917090.642103251, 9917450.83898507)\n"
     ]
    }
   ],
   "source": [
    "mean_revenue_0, confidence_interval_0= bootstrap (target_valid_0, predicted_valid_0)"
   ]
  },
  {
   "cell_type": "code",
   "execution_count": 93,
   "metadata": {},
   "outputs": [
    {
     "name": "stdout",
     "output_type": "stream",
     "text": [
      "Средняя выручка: 9938115.14804936\n",
      "95%-ый доверительный интервал: (9937931.357645914, 9938298.938452806)\n"
     ]
    }
   ],
   "source": [
    "mean_revenue_1, confidence_interval_1= bootstrap (target_valid_1, predicted_valid_1)"
   ]
  },
  {
   "cell_type": "code",
   "execution_count": 94,
   "metadata": {},
   "outputs": [
    {
     "name": "stdout",
     "output_type": "stream",
     "text": [
      "Средняя выручка: 9914804.177735426\n",
      "95%-ый доверительный интервал: (9914619.846902106, 9914988.508568745)\n"
     ]
    }
   ],
   "source": [
    "mean_revenue_2, confidence_interval_2= bootstrap (target_valid_2, predicted_valid_2)"
   ]
  },
  {
   "cell_type": "markdown",
   "metadata": {},
   "source": [
    "# Вывод:  \n",
    "\n",
    "Для обучения модели  была использована линейная регрессия (остальные — недостаточно предсказуемые). В результате анализа 3х регионов методом bootstrap лучшие показатели демонстрирует регион №2  2 и по средней выручке, и по 95%-й доверительному интервалу."
   ]
  }
 ],
 "metadata": {
  "kernelspec": {
   "display_name": "Python 3",
   "language": "python",
   "name": "python3"
  },
  "language_info": {
   "codemirror_mode": {
    "name": "ipython",
    "version": 3
   },
   "file_extension": ".py",
   "mimetype": "text/x-python",
   "name": "python",
   "nbconvert_exporter": "python",
   "pygments_lexer": "ipython3",
   "version": "3.7.6"
  }
 },
 "nbformat": 4,
 "nbformat_minor": 2
}
