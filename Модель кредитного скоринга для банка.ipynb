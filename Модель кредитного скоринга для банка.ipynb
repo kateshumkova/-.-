{
 "cells": [
  {
   "cell_type": "markdown",
   "metadata": {},
   "source": [
    "## Исследование надёжности заёмщиков\n",
    "\n",
    "Заказчик — кредитный отдел банка. Нужно разобраться, влияет ли семейное положение и количество детей клиента на факт погашения кредита в срок. Входные данные от банка — статистика о платёжеспособности клиентов.\n",
    "\n",
    "Результаты исследования будут учтены при построении модели **кредитного скоринга** — специальной системы, которая оценивает способность потенциального заёмщика вернуть кредит банку.\n",
    "\n",
    "Описание данных\n",
    "\n",
    "children — количество детей в семье\n",
    "\n",
    "days_employed — общий трудовой стаж в днях\n",
    "\n",
    "dob_years — возраст клиента в годах\n",
    "\n",
    "education — уровень образования клиента\n",
    "\n",
    "education_id — идентификатор уровня образования\n",
    "\n",
    "family_status — семейное положение\n",
    "\n",
    "family_status_id — идентификатор семейного положения\n",
    "\n",
    "gender — пол клиента\n",
    "\n",
    "income_type — тип занятости\n",
    "\n",
    "debt — имел ли задолженность по возврату кредитов\n",
    "\n",
    "total_income — ежемесячный доход\n",
    "\n",
    "purpose — цель получения кредита"
   ]
  },
  {
   "cell_type": "markdown",
   "metadata": {},
   "source": [
    "### Шаг 1. Просмотр данных"
   ]
  },
  {
   "cell_type": "code",
   "execution_count": 1,
   "metadata": {},
   "outputs": [
    {
     "name": "stdout",
     "output_type": "stream",
     "text": [
      "<class 'pandas.core.frame.DataFrame'>\n",
      "RangeIndex: 21525 entries, 0 to 21524\n",
      "Data columns (total 12 columns):\n",
      "children            21525 non-null int64\n",
      "days_employed       19351 non-null float64\n",
      "dob_years           21525 non-null int64\n",
      "education           21525 non-null object\n",
      "education_id        21525 non-null int64\n",
      "family_status       21525 non-null object\n",
      "family_status_id    21525 non-null int64\n",
      "gender              21525 non-null object\n",
      "income_type         21525 non-null object\n",
      "debt                21525 non-null int64\n",
      "total_income        19351 non-null float64\n",
      "purpose             21525 non-null object\n",
      "dtypes: float64(2), int64(5), object(5)\n",
      "memory usage: 2.0+ MB\n",
      "None\n",
      "(21525, 12)\n"
     ]
    },
    {
     "data": {
      "text/html": [
       "<div>\n",
       "<style scoped>\n",
       "    .dataframe tbody tr th:only-of-type {\n",
       "        vertical-align: middle;\n",
       "    }\n",
       "\n",
       "    .dataframe tbody tr th {\n",
       "        vertical-align: top;\n",
       "    }\n",
       "\n",
       "    .dataframe thead th {\n",
       "        text-align: right;\n",
       "    }\n",
       "</style>\n",
       "<table border=\"1\" class=\"dataframe\">\n",
       "  <thead>\n",
       "    <tr style=\"text-align: right;\">\n",
       "      <th></th>\n",
       "      <th>children</th>\n",
       "      <th>days_employed</th>\n",
       "      <th>dob_years</th>\n",
       "      <th>education</th>\n",
       "      <th>education_id</th>\n",
       "      <th>family_status</th>\n",
       "      <th>family_status_id</th>\n",
       "      <th>gender</th>\n",
       "      <th>income_type</th>\n",
       "      <th>debt</th>\n",
       "      <th>total_income</th>\n",
       "      <th>purpose</th>\n",
       "    </tr>\n",
       "  </thead>\n",
       "  <tbody>\n",
       "    <tr>\n",
       "      <td>21425</td>\n",
       "      <td>0</td>\n",
       "      <td>-106.691955</td>\n",
       "      <td>34</td>\n",
       "      <td>среднее</td>\n",
       "      <td>1</td>\n",
       "      <td>женат / замужем</td>\n",
       "      <td>0</td>\n",
       "      <td>F</td>\n",
       "      <td>компаньон</td>\n",
       "      <td>0</td>\n",
       "      <td>400614.785374</td>\n",
       "      <td>ремонт жилью</td>\n",
       "    </tr>\n",
       "    <tr>\n",
       "      <td>21426</td>\n",
       "      <td>0</td>\n",
       "      <td>NaN</td>\n",
       "      <td>49</td>\n",
       "      <td>среднее</td>\n",
       "      <td>1</td>\n",
       "      <td>женат / замужем</td>\n",
       "      <td>0</td>\n",
       "      <td>F</td>\n",
       "      <td>сотрудник</td>\n",
       "      <td>1</td>\n",
       "      <td>NaN</td>\n",
       "      <td>недвижимость</td>\n",
       "    </tr>\n",
       "    <tr>\n",
       "      <td>21427</td>\n",
       "      <td>2</td>\n",
       "      <td>-1050.799939</td>\n",
       "      <td>42</td>\n",
       "      <td>среднее</td>\n",
       "      <td>1</td>\n",
       "      <td>женат / замужем</td>\n",
       "      <td>0</td>\n",
       "      <td>F</td>\n",
       "      <td>сотрудник</td>\n",
       "      <td>1</td>\n",
       "      <td>131833.723511</td>\n",
       "      <td>операции со своей недвижимостью</td>\n",
       "    </tr>\n",
       "    <tr>\n",
       "      <td>21428</td>\n",
       "      <td>1</td>\n",
       "      <td>-255.663311</td>\n",
       "      <td>38</td>\n",
       "      <td>высшее</td>\n",
       "      <td>0</td>\n",
       "      <td>гражданский брак</td>\n",
       "      <td>1</td>\n",
       "      <td>F</td>\n",
       "      <td>сотрудник</td>\n",
       "      <td>0</td>\n",
       "      <td>96036.808046</td>\n",
       "      <td>сделка с подержанным автомобилем</td>\n",
       "    </tr>\n",
       "    <tr>\n",
       "      <td>21429</td>\n",
       "      <td>0</td>\n",
       "      <td>-7030.056218</td>\n",
       "      <td>66</td>\n",
       "      <td>ВЫСШЕЕ</td>\n",
       "      <td>0</td>\n",
       "      <td>вдовец / вдова</td>\n",
       "      <td>2</td>\n",
       "      <td>F</td>\n",
       "      <td>компаньон</td>\n",
       "      <td>0</td>\n",
       "      <td>336838.443273</td>\n",
       "      <td>операции со своей недвижимостью</td>\n",
       "    </tr>\n",
       "    <tr>\n",
       "      <td>...</td>\n",
       "      <td>...</td>\n",
       "      <td>...</td>\n",
       "      <td>...</td>\n",
       "      <td>...</td>\n",
       "      <td>...</td>\n",
       "      <td>...</td>\n",
       "      <td>...</td>\n",
       "      <td>...</td>\n",
       "      <td>...</td>\n",
       "      <td>...</td>\n",
       "      <td>...</td>\n",
       "      <td>...</td>\n",
       "    </tr>\n",
       "    <tr>\n",
       "      <td>21520</td>\n",
       "      <td>1</td>\n",
       "      <td>-4529.316663</td>\n",
       "      <td>43</td>\n",
       "      <td>среднее</td>\n",
       "      <td>1</td>\n",
       "      <td>гражданский брак</td>\n",
       "      <td>1</td>\n",
       "      <td>F</td>\n",
       "      <td>компаньон</td>\n",
       "      <td>0</td>\n",
       "      <td>224791.862382</td>\n",
       "      <td>операции с жильем</td>\n",
       "    </tr>\n",
       "    <tr>\n",
       "      <td>21521</td>\n",
       "      <td>0</td>\n",
       "      <td>343937.404131</td>\n",
       "      <td>67</td>\n",
       "      <td>среднее</td>\n",
       "      <td>1</td>\n",
       "      <td>женат / замужем</td>\n",
       "      <td>0</td>\n",
       "      <td>F</td>\n",
       "      <td>пенсионер</td>\n",
       "      <td>0</td>\n",
       "      <td>155999.806512</td>\n",
       "      <td>сделка с автомобилем</td>\n",
       "    </tr>\n",
       "    <tr>\n",
       "      <td>21522</td>\n",
       "      <td>1</td>\n",
       "      <td>-2113.346888</td>\n",
       "      <td>38</td>\n",
       "      <td>среднее</td>\n",
       "      <td>1</td>\n",
       "      <td>гражданский брак</td>\n",
       "      <td>1</td>\n",
       "      <td>M</td>\n",
       "      <td>сотрудник</td>\n",
       "      <td>1</td>\n",
       "      <td>89672.561153</td>\n",
       "      <td>недвижимость</td>\n",
       "    </tr>\n",
       "    <tr>\n",
       "      <td>21523</td>\n",
       "      <td>3</td>\n",
       "      <td>-3112.481705</td>\n",
       "      <td>38</td>\n",
       "      <td>среднее</td>\n",
       "      <td>1</td>\n",
       "      <td>женат / замужем</td>\n",
       "      <td>0</td>\n",
       "      <td>M</td>\n",
       "      <td>сотрудник</td>\n",
       "      <td>1</td>\n",
       "      <td>244093.050500</td>\n",
       "      <td>на покупку своего автомобиля</td>\n",
       "    </tr>\n",
       "    <tr>\n",
       "      <td>21524</td>\n",
       "      <td>2</td>\n",
       "      <td>-1984.507589</td>\n",
       "      <td>40</td>\n",
       "      <td>среднее</td>\n",
       "      <td>1</td>\n",
       "      <td>женат / замужем</td>\n",
       "      <td>0</td>\n",
       "      <td>F</td>\n",
       "      <td>сотрудник</td>\n",
       "      <td>0</td>\n",
       "      <td>82047.418899</td>\n",
       "      <td>на покупку автомобиля</td>\n",
       "    </tr>\n",
       "  </tbody>\n",
       "</table>\n",
       "<p>100 rows × 12 columns</p>\n",
       "</div>"
      ],
      "text/plain": [
       "       children  days_employed  dob_years education  education_id  \\\n",
       "21425         0    -106.691955         34   среднее             1   \n",
       "21426         0            NaN         49   среднее             1   \n",
       "21427         2   -1050.799939         42   среднее             1   \n",
       "21428         1    -255.663311         38    высшее             0   \n",
       "21429         0   -7030.056218         66    ВЫСШЕЕ             0   \n",
       "...         ...            ...        ...       ...           ...   \n",
       "21520         1   -4529.316663         43   среднее             1   \n",
       "21521         0  343937.404131         67   среднее             1   \n",
       "21522         1   -2113.346888         38   среднее             1   \n",
       "21523         3   -3112.481705         38   среднее             1   \n",
       "21524         2   -1984.507589         40   среднее             1   \n",
       "\n",
       "          family_status  family_status_id gender income_type  debt  \\\n",
       "21425   женат / замужем                 0      F   компаньон     0   \n",
       "21426   женат / замужем                 0      F   сотрудник     1   \n",
       "21427   женат / замужем                 0      F   сотрудник     1   \n",
       "21428  гражданский брак                 1      F   сотрудник     0   \n",
       "21429    вдовец / вдова                 2      F   компаньон     0   \n",
       "...                 ...               ...    ...         ...   ...   \n",
       "21520  гражданский брак                 1      F   компаньон     0   \n",
       "21521   женат / замужем                 0      F   пенсионер     0   \n",
       "21522  гражданский брак                 1      M   сотрудник     1   \n",
       "21523   женат / замужем                 0      M   сотрудник     1   \n",
       "21524   женат / замужем                 0      F   сотрудник     0   \n",
       "\n",
       "        total_income                           purpose  \n",
       "21425  400614.785374                      ремонт жилью  \n",
       "21426            NaN                      недвижимость  \n",
       "21427  131833.723511   операции со своей недвижимостью  \n",
       "21428   96036.808046  сделка с подержанным автомобилем  \n",
       "21429  336838.443273   операции со своей недвижимостью  \n",
       "...              ...                               ...  \n",
       "21520  224791.862382                 операции с жильем  \n",
       "21521  155999.806512              сделка с автомобилем  \n",
       "21522   89672.561153                      недвижимость  \n",
       "21523  244093.050500      на покупку своего автомобиля  \n",
       "21524   82047.418899             на покупку автомобиля  \n",
       "\n",
       "[100 rows x 12 columns]"
      ]
     },
     "execution_count": 1,
     "metadata": {},
     "output_type": "execute_result"
    }
   ],
   "source": [
    "import pandas as pd \n",
    "data= pd.read_csv('/datasets/data.csv') #открываю файл с данными \n",
    "print(data.info()) # изучаю общую информацию по дата фрейму\n",
    "print(data.shape)\n",
    "data.tail(100)"
   ]
  },
  {
   "cell_type": "markdown",
   "metadata": {},
   "source": [
    "### Вывод"
   ]
  },
  {
   "cell_type": "markdown",
   "metadata": {},
   "source": [
    "Много пропусков и нолей в столбцах 'days_employed','total_income' , регистр разный в строках, ошибки в данных, например, отрицательный стаж, отрицательное количество детей."
   ]
  },
  {
   "cell_type": "markdown",
   "metadata": {},
   "source": [
    "### Шаг 2. Предобработка данных"
   ]
  },
  {
   "cell_type": "markdown",
   "metadata": {},
   "source": [
    "### Обработка пропусков"
   ]
  },
  {
   "cell_type": "code",
   "execution_count": 2,
   "metadata": {},
   "outputs": [
    {
     "name": "stdout",
     "output_type": "stream",
     "text": [
      "Количество пропусков:\n",
      "children               0\n",
      "days_employed       2174\n",
      "dob_years              0\n",
      "education              0\n",
      "education_id           0\n",
      "family_status          0\n",
      "family_status_id       0\n",
      "gender                 0\n",
      "income_type            0\n",
      "debt                   0\n",
      "total_income        2174\n",
      "purpose                0\n",
      "dtype: int64\n",
      "Количество пропусков после проверки:\n",
      "children            0\n",
      "days_employed       0\n",
      "dob_years           0\n",
      "education           0\n",
      "education_id        0\n",
      "family_status       0\n",
      "family_status_id    0\n",
      "gender              0\n",
      "income_type         0\n",
      "debt                0\n",
      "total_income        0\n",
      "purpose             0\n",
      "dtype: int64\n"
     ]
    }
   ],
   "source": [
    "data['children']=data['children'].abs() #привела все отрицательные значения по детям в положительное значение, так как возможно, данная ошибка вызвана человеческим фактором\n",
    "data['days_employed']=data['days_employed'].abs() # тоже самое сделала со стажем, так как отрицательными данные значения быть не могут. и вероятнее всего данные внесены с ошибкой\n",
    "print(\"Количество пропусков:\") #считаю все пропуски\n",
    "print(data.isnull().sum())\n",
    "#основные пропуски содержатся в столбцах \"days_employed\" и \"total_income\"\n",
    "#почитаем медиану для данных столбцов, так как при разнице зп в 110 раз, медиана лучше характеризует\n",
    "\n",
    "days_employed_median=data['days_employed'].median() # нашла медиану\n",
    "total_income_median=data['total_income'].median()\n",
    "\n",
    "data['days_employed'].fillna(days_employed_median, inplace=True) # подставила медианное значение в пропуски\n",
    "data['total_income'].fillna(total_income_median, inplace=True)\n",
    "print(\"Количество пропусков после проверки:\")\n",
    "print(data.isnull().sum()) #проверяем, остались ли пропуски\n",
    "#пропусков нет\n"
   ]
  },
  {
   "cell_type": "markdown",
   "metadata": {},
   "source": [
    "### Вывод"
   ]
  },
  {
   "cell_type": "markdown",
   "metadata": {},
   "source": [
    "Основные пропуски содержатся в столбцах \"days_employed\" и \"total_income\", по 2174 пропусков в каждом столбце.\n",
    "Пропуски заполнила медианой по столбцу, так как разница зп в 110 раз, медиана в данном случае больше подходит, чем среднее значение."
   ]
  },
  {
   "cell_type": "markdown",
   "metadata": {},
   "source": [
    "### Замена типа данных"
   ]
  },
  {
   "cell_type": "code",
   "execution_count": 3,
   "metadata": {},
   "outputs": [
    {
     "name": "stdout",
     "output_type": "stream",
     "text": [
      "<class 'pandas.core.frame.DataFrame'>\n",
      "RangeIndex: 21525 entries, 0 to 21524\n",
      "Data columns (total 12 columns):\n",
      "children            21525 non-null int64\n",
      "days_employed       21525 non-null int64\n",
      "dob_years           21525 non-null int64\n",
      "education           21525 non-null object\n",
      "education_id        21525 non-null int64\n",
      "family_status       21525 non-null object\n",
      "family_status_id    21525 non-null int64\n",
      "gender              21525 non-null object\n",
      "income_type         21525 non-null object\n",
      "debt                21525 non-null int64\n",
      "total_income        21525 non-null int64\n",
      "purpose             21525 non-null object\n",
      "dtypes: int64(7), object(5)\n",
      "memory usage: 2.0+ MB\n"
     ]
    }
   ],
   "source": [
    "data['days_employed']=data['days_employed'].astype('int') \n",
    "data['total_income']=data['total_income'].astype('int') \n",
    "data.info()"
   ]
  },
  {
   "cell_type": "markdown",
   "metadata": {},
   "source": [
    "### Вывод"
   ]
  },
  {
   "cell_type": "markdown",
   "metadata": {},
   "source": [
    "Для перевода из дробного числа в целочисленное я использовала метод astype().  Исходя из общей информации о таблице, мы видим, что два столбца имеют вещественный тип данных, который и нужно было заменить на целочисленный. Также можно использовать метод to_numeric()."
   ]
  },
  {
   "cell_type": "markdown",
   "metadata": {},
   "source": [
    "### Обработка дубликатов"
   ]
  },
  {
   "cell_type": "code",
   "execution_count": 4,
   "metadata": {},
   "outputs": [
    {
     "name": "stdout",
     "output_type": "stream",
     "text": [
      "Количество дубликатов до удаления 71\n",
      "Количество дубликатов после проверки 0\n"
     ]
    }
   ],
   "source": [
    "data['education']=data['education'].str.lower() #приводим все строки таблицы к нижнему регистру, чтобы избежать выявить и убрать все дубликаты\n",
    "data['family_status']=data['family_status'].str.lower()\n",
    "data['gender']=data['gender'].str.lower()\n",
    "data['income_type']=data['income_type'].str.lower()\n",
    "data['purpose']=data['purpose'].str.lower()\n",
    "print(\"Количество дубликатов до удаления\", data.duplicated().sum())\n",
    "data = data.drop_duplicates().reset_index(drop=True) # возможно, появление дубликатов связано с ошибкой выгрузки  \n",
    "print(\"Количество дубликатов после проверки\", data.duplicated().sum()) #проверяю есть ли дубликаты"
   ]
  },
  {
   "cell_type": "markdown",
   "metadata": {},
   "source": [
    "### Вывод"
   ]
  },
  {
   "cell_type": "markdown",
   "metadata": {},
   "source": [
    "Дубликаты вызывают смещение наших финальных оценок. Именно поэтому их и надо удалять. Воспользовавшись приведением данных таблицы к нижнему регистру, было выявлено около 20 дубликатов. избавилась от них методом drop_duplicates() и переустановила индексы."
   ]
  },
  {
   "cell_type": "markdown",
   "metadata": {},
   "source": [
    "### Лемматизация"
   ]
  },
  {
   "cell_type": "code",
   "execution_count": 5,
   "metadata": {},
   "outputs": [
    {
     "name": "stdout",
     "output_type": "stream",
     "text": [
      "Counter({'автомобиль\\n': 972, 'свадьба\\n': 791, 'на проведение свадьба\\n': 768, 'сыграть свадьба\\n': 765, 'операция с недвижимость\\n': 675, 'покупка коммерческий недвижимость\\n': 661, 'операция с жилье\\n': 652, 'покупка жилье для сдача\\n': 651, 'операция с коммерческий недвижимость\\n': 650, 'покупка жилье\\n': 646, 'жилье\\n': 646, 'покупка жилье для семья\\n': 638, 'строительство собственный недвижимость\\n': 635, 'недвижимость\\n': 633, 'операция со свой недвижимость\\n': 627, 'строительство жилой недвижимость\\n': 624, 'покупка недвижимость\\n': 621, 'покупка свой жилье\\n': 620, 'строительство недвижимость\\n': 619, 'ремонт жилье\\n': 607, 'покупка жилой недвижимость\\n': 606, 'на покупка свой автомобиль\\n': 505, 'заниматься высокий образование\\n': 496, 'сделка с подержанный автомобиль\\n': 486, 'на покупка подержать автомобиль\\n': 478, 'свой автомобиль\\n': 478, 'на покупка автомобиль\\n': 471, 'приобретение автомобиль\\n': 461, 'дополнительный образование\\n': 460, 'сделка с автомобиль\\n': 455, 'высокий образование\\n': 452, 'образование\\n': 447, 'получение дополнительный образование\\n': 446, 'получение образование\\n': 442, 'профильный образование\\n': 436, 'получение высокий образование\\n': 426, 'заниматься образование\\n': 408})\n"
     ]
    }
   ],
   "source": [
    "from pymystem3 import Mystem #импортирую библиотеку pymystem3 для лемматизации\n",
    "m = Mystem()\n",
    "lemmas=[]\n",
    "for row in data['purpose']: #циклом прохожусь по каждому слову в ячейках столбца 'purpose'\n",
    "    word=''.join(m.lemmatize(row)) \n",
    "    lemmas.append(word)\n",
    "    \n",
    "from collections import Counter\n",
    "print(Counter(lemmas))  # включаю счетчик уникальных лемм, вывожу список уникальных целей кредита с их количеством \n",
    "data['purpose_lemmas']=pd.DataFrame(lemmas, columns=['purpose_lemmas'])  #делаю дата фрейм из списка лемм, добавляю столбец 'purpose_lemmas' в главную таблицу, куда попадают все леммы столбца 'purpose'\n"
   ]
  },
  {
   "cell_type": "markdown",
   "metadata": {},
   "source": [
    "### Вывод"
   ]
  },
  {
   "cell_type": "markdown",
   "metadata": {},
   "source": [
    "Проанализировав основные леммы целей кредита, можно выделить 5 основых категорий целей кредита: 'автокредит', 'кредит на коммерческую недвижимость', 'ипотека', 'кредит на свадьбу', 'кредит на образование'. "
   ]
  },
  {
   "cell_type": "markdown",
   "metadata": {},
   "source": [
    "### Категоризация данных"
   ]
  },
  {
   "cell_type": "code",
   "execution_count": 6,
   "metadata": {},
   "outputs": [],
   "source": [
    "def purpose_group (row): # функция для категоризации целей кредита \n",
    "    try: \n",
    "        if \"автомобиль\" in row:\n",
    "            return ('автокредит')\n",
    "        elif \"коммерческий недвижимость\" in row:\n",
    "            return ('кредит на коммерческую недвижимость')\n",
    "        elif \"недвижимость\" in row:\n",
    "            return ('ипотека')\n",
    "        elif \"жилье\" in row:\n",
    "            return ('ипотека')\n",
    "        elif \"свадьба\" in row:\n",
    "            return ('кредит на свадьбу')\n",
    "        elif \"образование\" in row:\n",
    "            return ('кредит на образование')\n",
    "        return 'другое'\n",
    "    except:\n",
    "        print('проверь код, есть какая-то ошибка')\n",
    "data['purpose_group']=data['purpose_lemmas'].apply(purpose_group) # применяю функцию по каждому слову в ячейках столбца 'purpose_lemmas' и получаю новый столбец с целью кредита\n"
   ]
  },
  {
   "cell_type": "markdown",
   "metadata": {},
   "source": [
    "### Вывод"
   ]
  },
  {
   "cell_type": "markdown",
   "metadata": {},
   "source": [
    "С помощью функции purpose_group, примененной к стобцу 'purpose_lemmas' и получаю новый столбец с категоризацией по цели кредита"
   ]
  },
  {
   "cell_type": "markdown",
   "metadata": {},
   "source": [
    "### Шаг 3. "
   ]
  },
  {
   "cell_type": "markdown",
   "metadata": {},
   "source": [
    "- Есть ли зависимость между наличием детей и возвратом кредита в срок?"
   ]
  },
  {
   "cell_type": "code",
   "execution_count": 7,
   "metadata": {},
   "outputs": [
    {
     "name": "stdout",
     "output_type": "stream",
     "text": [
      "debt                   0     1   ratio, %\n",
      "children_id                              \n",
      "есть дети           6268   639  10.194639\n",
      "многодетная семья    417    39   9.352518\n",
      "нет детей          13028  1063   8.159349\n",
      "639\n",
      "9.352517985611511\n"
     ]
    }
   ],
   "source": [
    "def with_children (i):\n",
    "    try: \n",
    "        if i>=3:\n",
    "            return ('многодетная семья')\n",
    "        elif i>0:\n",
    "            return ('есть дети')\n",
    "        return 'нет детей'\n",
    "    except:\n",
    "        print('проверь код, есть какая-то ошибка')\n",
    "data['children_id']=data['children'].apply(with_children)\n",
    "data_pivot_children = data.pivot_table(index=['children_id'], columns='debt', values='total_income', aggfunc='count')\n",
    "\n",
    "data_pivot_children['ratio, %']=data_pivot_children[1]/data_pivot_children[0]*100 #добавляю столбец 'ratio, %', который характеризует % невыплативших кредит по категориям семьи, в которых \"есть дети\",\"нет детей\" или \"многодетная семья\" \n",
    "data_pivot_children.sort_values('ratio, %', ascending=False)\n",
    "print(data_pivot_children)\n",
    "x=data_pivot_children.loc[\"есть дети\", 1]\n",
    "print(x)\n",
    "y=data_pivot_children.loc[\"многодетная семья\", \"ratio, %\"]\n",
    "print(y)\n",
    "#df.loc[row_indexer, column_indexer]."
   ]
  },
  {
   "cell_type": "markdown",
   "metadata": {},
   "source": [
    "### Вывод"
   ]
  },
  {
   "cell_type": "markdown",
   "metadata": {},
   "source": [
    "##### После анализа отношения количества невыплаченных кредитов в срок к количеству людей, взявших кредит, можно сделать вывод о том,  что:\n",
    "самое большое количество кредитуемых не имеет детей (65,7%) при этом 8,15 % из них не возвращают кредит в срок, и в семьях с детьми чаще не возвращают кредиты в срок.\n"
   ]
  },
  {
   "cell_type": "markdown",
   "metadata": {},
   "source": [
    "- Есть ли зависимость между семейным положением и возвратом кредита в срок?"
   ]
  },
  {
   "cell_type": "code",
   "execution_count": 8,
   "metadata": {},
   "outputs": [
    {
     "name": "stdout",
     "output_type": "stream",
     "text": [
      "debt                       0    1   ratio, %\n",
      "family_status                               \n",
      "не женат / не замужем   2536  274  10.804416\n",
      "гражданский брак        3763  388  10.310922\n",
      "женат / замужем        11408  931   8.160940\n",
      "в разводе               1110   85   7.657658\n",
      "вдовец / вдова           896   63   7.031250\n",
      "debt                    0     1  ratio, %\n",
      "family_or_solitary                       \n",
      "одинокие             4542   422  9.291061\n",
      "в браке             15171  1319  8.694219\n"
     ]
    }
   ],
   "source": [
    "data_pivot_family = data.pivot_table(index=['family_status'], columns='debt', values='total_income', aggfunc='count') #строю сводную таблицу\n",
    "\n",
    "data_pivot_family['ratio, %']=data_pivot_family[1]/data_pivot_family[0]*100 #добавляю столбец 'ratio, %', который характеризует % невыплативших кредит во время в соответствующей категории по семейному статусу \n",
    "print(data_pivot_family.sort_values('ratio, %', ascending=False))\n",
    "\n",
    "#не очень информативные данные по категоризации 'family_status', объединим всех одиночек в одну группу, а женатых и гражданский брак в отдельную сводную \n",
    "#для этого функцией пробежимся по столбцу 'family_status_id'. Гражданский брак \"1\" и женатые \"0\", остальные одинокие \"2\",\"3\",\"4\"\n",
    "def family_or_solitary (i):\n",
    "    try: \n",
    "        if i==1:\n",
    "            return ('в браке')\n",
    "        elif i==0:\n",
    "            return ('в браке')\n",
    "        return 'одинокие'\n",
    "    except:\n",
    "        print('проверь код, есть какая-то ошибка')\n",
    "data['family_or_solitary']=data['family_status_id'].apply(family_or_solitary)\n",
    "\n",
    "data_pivot_family_id = data.pivot_table(index=['family_or_solitary'], columns='debt', values='total_income', aggfunc='count') #строю сводную таблицу\n",
    "\n",
    "data_pivot_family_id['ratio, %']=data_pivot_family_id[1]/data_pivot_family_id[0]*100 #добавляю столбец 'ratio, %', который характеризует % невыплативших кредит во время в соответствующей категории по семейному статусу \n",
    "print(data_pivot_family_id.sort_values('ratio, %', ascending=False))"
   ]
  },
  {
   "cell_type": "markdown",
   "metadata": {},
   "source": [
    "### Вывод"
   ]
  },
  {
   "cell_type": "markdown",
   "metadata": {},
   "source": [
    "Можно сделать вывод о том, что зависимости от между семейным положением и возвратом кредита в срок нет. Обе категории примерно одинаково часто не возращают кредит в срок."
   ]
  },
  {
   "cell_type": "markdown",
   "metadata": {},
   "source": [
    "- Есть ли зависимость между уровнем дохода и возвратом кредита в срок?"
   ]
  },
  {
   "cell_type": "code",
   "execution_count": 9,
   "metadata": {},
   "outputs": [
    {
     "data": {
      "text/html": [
       "<div>\n",
       "<style scoped>\n",
       "    .dataframe tbody tr th:only-of-type {\n",
       "        vertical-align: middle;\n",
       "    }\n",
       "\n",
       "    .dataframe tbody tr th {\n",
       "        vertical-align: top;\n",
       "    }\n",
       "\n",
       "    .dataframe thead th {\n",
       "        text-align: right;\n",
       "    }\n",
       "</style>\n",
       "<table border=\"1\" class=\"dataframe\">\n",
       "  <thead>\n",
       "    <tr style=\"text-align: right;\">\n",
       "      <th>debt</th>\n",
       "      <th>0</th>\n",
       "      <th>1</th>\n",
       "      <th>ratio, %</th>\n",
       "    </tr>\n",
       "    <tr>\n",
       "      <th>income_id</th>\n",
       "      <th></th>\n",
       "      <th></th>\n",
       "      <th></th>\n",
       "    </tr>\n",
       "  </thead>\n",
       "  <tbody>\n",
       "    <tr>\n",
       "      <td>богатые</td>\n",
       "      <td>6</td>\n",
       "      <td>1</td>\n",
       "      <td>16.666667</td>\n",
       "    </tr>\n",
       "    <tr>\n",
       "      <td>нижний средний класс</td>\n",
       "      <td>7146</td>\n",
       "      <td>661</td>\n",
       "      <td>9.249930</td>\n",
       "    </tr>\n",
       "    <tr>\n",
       "      <td>предсредний класс</td>\n",
       "      <td>5840</td>\n",
       "      <td>532</td>\n",
       "      <td>9.109589</td>\n",
       "    </tr>\n",
       "    <tr>\n",
       "      <td>выше бедности</td>\n",
       "      <td>4038</td>\n",
       "      <td>350</td>\n",
       "      <td>8.667657</td>\n",
       "    </tr>\n",
       "    <tr>\n",
       "      <td>средний класс</td>\n",
       "      <td>2410</td>\n",
       "      <td>180</td>\n",
       "      <td>7.468880</td>\n",
       "    </tr>\n",
       "    <tr>\n",
       "      <td>верхний средний класс</td>\n",
       "      <td>185</td>\n",
       "      <td>12</td>\n",
       "      <td>6.486486</td>\n",
       "    </tr>\n",
       "    <tr>\n",
       "      <td>состоятельные</td>\n",
       "      <td>17</td>\n",
       "      <td>1</td>\n",
       "      <td>5.882353</td>\n",
       "    </tr>\n",
       "    <tr>\n",
       "      <td>бедные</td>\n",
       "      <td>71</td>\n",
       "      <td>4</td>\n",
       "      <td>5.633803</td>\n",
       "    </tr>\n",
       "  </tbody>\n",
       "</table>\n",
       "</div>"
      ],
      "text/plain": [
       "debt                      0    1   ratio, %\n",
       "income_id                                  \n",
       "богатые                   6    1  16.666667\n",
       "нижний средний класс   7146  661   9.249930\n",
       "предсредний класс      5840  532   9.109589\n",
       "выше бедности          4038  350   8.667657\n",
       "средний класс          2410  180   7.468880\n",
       "верхний средний класс   185   12   6.486486\n",
       "состоятельные            17    1   5.882353\n",
       "бедные                   71    4   5.633803"
      ]
     },
     "execution_count": 9,
     "metadata": {},
     "output_type": "execute_result"
    }
   ],
   "source": [
    "def income_id (i): # данную функцию применю к столбцу \"total_income\", чтобы категоризировать клиентов банка по доходу\n",
    "    try: \n",
    "        if i>1500000:   # разбиваю по категориям на основе статистических данных по зп россиян 2017-2018 гг.\n",
    "            return ('богатые')\n",
    "        elif i>1000000:\n",
    "            return ('состоятельные')\n",
    "        elif i>500000:\n",
    "            return ('верхний средний класс')\n",
    "        elif i>250000:\n",
    "            return ('средний класс')\n",
    "        elif i>150000:\n",
    "            return ('предсредний класс')\n",
    "        elif i>100000:\n",
    "            return ('нижний средний класс')\n",
    "        elif i>36000:\n",
    "            return ('выше бедности')\n",
    "        return 'бедные'\n",
    "    except:\n",
    "        print('проверь код, есть какая-то ошибка')\n",
    "data['income_id']=data['total_income'].apply(income_id) # применяю к стобцу \"total_income\" функцию, чтобы получить данные для категоризации\n",
    "#print(data[['total_income','income_id']].head(20)) #проверяю, работает ли функция \n",
    "data_pivot_income = data.pivot_table(index=['income_id'], columns='debt', values='total_income', aggfunc='count') #строю сводную таблицу\n",
    "\n",
    "data_pivot_income['ratio, %']=data_pivot_income[1]/data_pivot_income[0]*100 #добавляю столбец 'ratio, %', который характеризует % невыплативших кредит во время в соответствующей категории по доходу \n",
    "data_pivot_income.sort_values('ratio, %', ascending=False) #сортирую по значениям \n"
   ]
  },
  {
   "cell_type": "markdown",
   "metadata": {},
   "source": [
    "### Вывод"
   ]
  },
  {
   "cell_type": "markdown",
   "metadata": {},
   "source": [
    "Можно разбить столбец по квартилям данных, которые можно получить методом describe(). Строить выводы по 6 клиентам и говорить, что людям с доходом 1,5 млн опасно давать кредиты, неверно. Я проводила категоризацию на основании статистики по средней ЗП за 2017-2018 год из интернета.\n",
    "Малоимущие A1, беднейшие A2 в нашем списке отсутствуют, так как минимальная зп по нашим данным 20667 рублей. Категория А3 Бедные от 18 000 руб, Категория Выше бедности от 36 000 руб на человека, средний класс по данной статистике разделили на 3 группы: Категория А5 Нижний средний класс от 100 000 на человека, А6 Предсредний класс с зп более 150 000 руб, А7 Средний класс от 250 000 руб, А8 Верхний средний класс от 500 000 руб. Состоятельные А9 от 1 000 000 руб, а А10 богатые люди, зарабатывающие свыше 1 500 000 руб в месяц.\n",
    "После категоризации по доходу и построения сводной таблицы можно сделать вывод о том, что уровень дохода не влияет на возвратность в срок кредита, так как богатые люди возращают кредит в срок реже, чем бедные люди, при этом состоятельные люди возвращают кредит в срок чаще, чем нижний средний класс.\n"
   ]
  },
  {
   "cell_type": "markdown",
   "metadata": {},
   "source": [
    "- Как разные цели кредита влияют на его возврат в срок?"
   ]
  },
  {
   "cell_type": "code",
   "execution_count": 10,
   "metadata": {},
   "outputs": [
    {
     "data": {
      "text/html": [
       "<div>\n",
       "<style scoped>\n",
       "    .dataframe tbody tr th:only-of-type {\n",
       "        vertical-align: middle;\n",
       "    }\n",
       "\n",
       "    .dataframe tbody tr th {\n",
       "        vertical-align: top;\n",
       "    }\n",
       "\n",
       "    .dataframe thead th {\n",
       "        text-align: right;\n",
       "    }\n",
       "</style>\n",
       "<table border=\"1\" class=\"dataframe\">\n",
       "  <thead>\n",
       "    <tr style=\"text-align: right;\">\n",
       "      <th>debt</th>\n",
       "      <th>0</th>\n",
       "      <th>1</th>\n",
       "      <th>ratio, %</th>\n",
       "    </tr>\n",
       "    <tr>\n",
       "      <th>purpose_group</th>\n",
       "      <th></th>\n",
       "      <th></th>\n",
       "      <th></th>\n",
       "    </tr>\n",
       "  </thead>\n",
       "  <tbody>\n",
       "    <tr>\n",
       "      <td>автокредит</td>\n",
       "      <td>3903</td>\n",
       "      <td>403</td>\n",
       "      <td>10.325391</td>\n",
       "    </tr>\n",
       "    <tr>\n",
       "      <td>ипотека</td>\n",
       "      <td>8817</td>\n",
       "      <td>683</td>\n",
       "      <td>7.746399</td>\n",
       "    </tr>\n",
       "    <tr>\n",
       "      <td>кредит на коммерческую недвижимость</td>\n",
       "      <td>1212</td>\n",
       "      <td>99</td>\n",
       "      <td>8.168317</td>\n",
       "    </tr>\n",
       "    <tr>\n",
       "      <td>кредит на образование</td>\n",
       "      <td>3643</td>\n",
       "      <td>370</td>\n",
       "      <td>10.156464</td>\n",
       "    </tr>\n",
       "    <tr>\n",
       "      <td>кредит на свадьбу</td>\n",
       "      <td>2138</td>\n",
       "      <td>186</td>\n",
       "      <td>8.699719</td>\n",
       "    </tr>\n",
       "  </tbody>\n",
       "</table>\n",
       "</div>"
      ],
      "text/plain": [
       "debt                                    0    1   ratio, %\n",
       "purpose_group                                            \n",
       "автокредит                           3903  403  10.325391\n",
       "ипотека                              8817  683   7.746399\n",
       "кредит на коммерческую недвижимость  1212   99   8.168317\n",
       "кредит на образование                3643  370  10.156464\n",
       "кредит на свадьбу                    2138  186   8.699719"
      ]
     },
     "execution_count": 10,
     "metadata": {},
     "output_type": "execute_result"
    }
   ],
   "source": [
    "data_pivot_purpose = data.pivot_table(index='purpose_group',  columns='debt', values='total_income', aggfunc='count')\n",
    "\n",
    "data_pivot_purpose['ratio, %']=data_pivot_purpose[1]/data_pivot_purpose[0]*100 #добавляю столбец 'ratio, %', который характеризует % невыплативших кредит в соответствии с категорией цель кредита \n",
    "data_pivot_purpose.sort_values('ratio, %', ascending=False)\n",
    "data_pivot_purpose\n"
   ]
  },
  {
   "cell_type": "markdown",
   "metadata": {},
   "source": [
    "### Вывод"
   ]
  },
  {
   "cell_type": "markdown",
   "metadata": {},
   "source": [
    "Проанализировав данные, можно сделать вывод о том, что есть небольшая зависимость возврата кредита в срок от цели кредита. Реже всего невыплата кредита происходит по ипотеке, так как люди чаще всего более ответственно подходят к данному виду кредитования, так как оно долгосрочное. А чаще всего невыплата кредита происходит в категории \"автокредит\", так как часто владельцы недооценивают стоимость обслуживания автомобиля.   "
   ]
  },
  {
   "cell_type": "markdown",
   "metadata": {},
   "source": [
    "### Шаг 4. Общий вывод"
   ]
  },
  {
   "cell_type": "markdown",
   "metadata": {},
   "source": [
    "В данном проекте главной задачей было проанализировать статистику о платёжеспособности клиентов и сделать выводы, влияет ли семейное положение и количество детей, а также цель кредитования клиента на факт погашения кредита в срок.\n",
    "по результатам анализа можно сделать вывод о том, что:\n",
    "людьми с детьми на 2% чаще, чем люди без детей, выплачивают кредит не в срок.\n",
    "одинокие люди почти на 1% чаще не выплачивают кредит в срок, чем люди в браке(в гражданском в том числе).\n",
    "есть небольшая зависимость выплаты кредита в срок от целей кредита: чаще не выплачивается автокредит, а кредит по ипотеке, наоборот, возвращают в срок чаще."
   ]
  }
 ],
 "metadata": {
  "kernelspec": {
   "display_name": "Python 3",
   "language": "python",
   "name": "python3"
  },
  "language_info": {
   "codemirror_mode": {
    "name": "ipython",
    "version": 3
   },
   "file_extension": ".py",
   "mimetype": "text/x-python",
   "name": "python",
   "nbconvert_exporter": "python",
   "pygments_lexer": "ipython3",
   "version": "3.7.6"
  }
 },
 "nbformat": 4,
 "nbformat_minor": 2
}
