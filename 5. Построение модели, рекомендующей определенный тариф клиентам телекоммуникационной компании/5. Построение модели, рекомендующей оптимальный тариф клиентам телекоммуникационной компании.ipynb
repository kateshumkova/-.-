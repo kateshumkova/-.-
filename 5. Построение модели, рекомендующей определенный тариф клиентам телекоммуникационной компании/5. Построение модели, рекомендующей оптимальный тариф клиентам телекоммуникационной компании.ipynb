{
 "cells": [
  {
   "cell_type": "markdown",
   "metadata": {},
   "source": [
    "# Рекомендация тарифов"
   ]
  },
  {
   "cell_type": "markdown",
   "metadata": {},
   "source": [
    "    Оператор мобильной связи «Мегалайн» выяснил: многие клиенты пользуются архивными тарифами. Они хотят построить систему, способную проанализировать поведение клиентов и предложить пользователям новый тариф: «Смарт» или «Ультра». \n",
    "    В нашем распоряжении данные о поведении клиентов, которые уже перешли на эти тарифы (из проекта курса «Статистический анализ данных»). Нужно построить модель для задачи классификации, которая выберет подходящий тариф. \n",
    "\n",
    "    Описание данных\n",
    "\n",
    "    Каждый объект в наборе данных — это информация о поведении одного пользователя за месяц. Известно:\n",
    "    \n",
    "сalls — количество звонков,\n",
    "\n",
    "minutes — суммарная длительность звонков в минутах,\n",
    "\n",
    "messages — количество sms-сообщений,\n",
    "\n",
    "mb_used — израсходованный интернет-трафик в Мб,\n",
    "\n",
    "is_ultra — каким тарифом пользовался в течение месяца («Ультра» — 1, «Смарт» — 0).\n",
    "\n",
    "    Построим модель с максимально большим значением *accuracy*(не менее 0.75). Проверим *accuracy* на тестовой выборке."
   ]
  },
  {
   "cell_type": "markdown",
   "metadata": {},
   "source": [
    "## 1. Откроем и изучим файл"
   ]
  },
  {
   "cell_type": "code",
   "execution_count": 77,
   "metadata": {},
   "outputs": [],
   "source": [
    "import pandas as pd\n",
    "from sklearn.metrics import accuracy_score\n",
    "from sklearn.model_selection import train_test_split #импортируем функцию train_test_split из библиотеки sklearn \n",
    "from sklearn.tree import DecisionTreeClassifier\n",
    "from sklearn.ensemble import RandomForestClassifier\n",
    "from sklearn.linear_model import LogisticRegression\n",
    "from sklearn.dummy import DummyClassifier"
   ]
  },
  {
   "cell_type": "code",
   "execution_count": 78,
   "metadata": {},
   "outputs": [
    {
     "name": "stdout",
     "output_type": "stream",
     "text": [
      "<class 'pandas.core.frame.DataFrame'>\n",
      "RangeIndex: 3214 entries, 0 to 3213\n",
      "Data columns (total 5 columns):\n",
      "calls       3214 non-null float64\n",
      "minutes     3214 non-null float64\n",
      "messages    3214 non-null float64\n",
      "mb_used     3214 non-null float64\n",
      "is_ultra    3214 non-null int64\n",
      "dtypes: float64(4), int64(1)\n",
      "memory usage: 125.7 KB\n"
     ]
    },
    {
     "data": {
      "text/html": [
       "<div>\n",
       "<style scoped>\n",
       "    .dataframe tbody tr th:only-of-type {\n",
       "        vertical-align: middle;\n",
       "    }\n",
       "\n",
       "    .dataframe tbody tr th {\n",
       "        vertical-align: top;\n",
       "    }\n",
       "\n",
       "    .dataframe thead th {\n",
       "        text-align: right;\n",
       "    }\n",
       "</style>\n",
       "<table border=\"1\" class=\"dataframe\">\n",
       "  <thead>\n",
       "    <tr style=\"text-align: right;\">\n",
       "      <th></th>\n",
       "      <th>calls</th>\n",
       "      <th>minutes</th>\n",
       "      <th>messages</th>\n",
       "      <th>mb_used</th>\n",
       "      <th>is_ultra</th>\n",
       "    </tr>\n",
       "  </thead>\n",
       "  <tbody>\n",
       "    <tr>\n",
       "      <td>0</td>\n",
       "      <td>40.0</td>\n",
       "      <td>311.90</td>\n",
       "      <td>83.0</td>\n",
       "      <td>19915.42</td>\n",
       "      <td>0</td>\n",
       "    </tr>\n",
       "    <tr>\n",
       "      <td>1</td>\n",
       "      <td>85.0</td>\n",
       "      <td>516.75</td>\n",
       "      <td>56.0</td>\n",
       "      <td>22696.96</td>\n",
       "      <td>0</td>\n",
       "    </tr>\n",
       "    <tr>\n",
       "      <td>2</td>\n",
       "      <td>77.0</td>\n",
       "      <td>467.66</td>\n",
       "      <td>86.0</td>\n",
       "      <td>21060.45</td>\n",
       "      <td>0</td>\n",
       "    </tr>\n",
       "    <tr>\n",
       "      <td>3</td>\n",
       "      <td>106.0</td>\n",
       "      <td>745.53</td>\n",
       "      <td>81.0</td>\n",
       "      <td>8437.39</td>\n",
       "      <td>1</td>\n",
       "    </tr>\n",
       "    <tr>\n",
       "      <td>4</td>\n",
       "      <td>66.0</td>\n",
       "      <td>418.74</td>\n",
       "      <td>1.0</td>\n",
       "      <td>14502.75</td>\n",
       "      <td>0</td>\n",
       "    </tr>\n",
       "    <tr>\n",
       "      <td>...</td>\n",
       "      <td>...</td>\n",
       "      <td>...</td>\n",
       "      <td>...</td>\n",
       "      <td>...</td>\n",
       "      <td>...</td>\n",
       "    </tr>\n",
       "    <tr>\n",
       "      <td>95</td>\n",
       "      <td>101.0</td>\n",
       "      <td>666.90</td>\n",
       "      <td>57.0</td>\n",
       "      <td>16777.76</td>\n",
       "      <td>1</td>\n",
       "    </tr>\n",
       "    <tr>\n",
       "      <td>96</td>\n",
       "      <td>29.0</td>\n",
       "      <td>267.55</td>\n",
       "      <td>29.0</td>\n",
       "      <td>16996.83</td>\n",
       "      <td>0</td>\n",
       "    </tr>\n",
       "    <tr>\n",
       "      <td>97</td>\n",
       "      <td>83.0</td>\n",
       "      <td>538.83</td>\n",
       "      <td>60.0</td>\n",
       "      <td>13721.94</td>\n",
       "      <td>0</td>\n",
       "    </tr>\n",
       "    <tr>\n",
       "      <td>98</td>\n",
       "      <td>67.0</td>\n",
       "      <td>454.43</td>\n",
       "      <td>31.0</td>\n",
       "      <td>19776.50</td>\n",
       "      <td>0</td>\n",
       "    </tr>\n",
       "    <tr>\n",
       "      <td>99</td>\n",
       "      <td>66.0</td>\n",
       "      <td>434.59</td>\n",
       "      <td>17.0</td>\n",
       "      <td>9613.39</td>\n",
       "      <td>0</td>\n",
       "    </tr>\n",
       "  </tbody>\n",
       "</table>\n",
       "<p>100 rows × 5 columns</p>\n",
       "</div>"
      ],
      "text/plain": [
       "    calls  minutes  messages   mb_used  is_ultra\n",
       "0    40.0   311.90      83.0  19915.42         0\n",
       "1    85.0   516.75      56.0  22696.96         0\n",
       "2    77.0   467.66      86.0  21060.45         0\n",
       "3   106.0   745.53      81.0   8437.39         1\n",
       "4    66.0   418.74       1.0  14502.75         0\n",
       "..    ...      ...       ...       ...       ...\n",
       "95  101.0   666.90      57.0  16777.76         1\n",
       "96   29.0   267.55      29.0  16996.83         0\n",
       "97   83.0   538.83      60.0  13721.94         0\n",
       "98   67.0   454.43      31.0  19776.50         0\n",
       "99   66.0   434.59      17.0   9613.39         0\n",
       "\n",
       "[100 rows x 5 columns]"
      ]
     },
     "execution_count": 78,
     "metadata": {},
     "output_type": "execute_result"
    }
   ],
   "source": [
    "df=pd.read_csv(\"/datasets/users_behavior.csv\") #прочитаем файл \n",
    "df.info() # изучим общую информацию по дата фрейму\n",
    "df.head(100)"
   ]
  },
  {
   "cell_type": "markdown",
   "metadata": {},
   "source": [
    "# Вывод: \n",
    "Данные прошли предобработку. Добалили необходимые библиотеки, изучили общую информацию по датафрейму."
   ]
  },
  {
   "cell_type": "markdown",
   "metadata": {},
   "source": [
    "## 2. Разобьем данные на выборки"
   ]
  },
  {
   "cell_type": "code",
   "execution_count": 79,
   "metadata": {},
   "outputs": [
    {
     "name": "stdout",
     "output_type": "stream",
     "text": [
      "<class 'pandas.core.frame.DataFrame'>\n",
      "Int64Index: 1928 entries, 3027 to 482\n",
      "Data columns (total 5 columns):\n",
      "calls       1928 non-null float64\n",
      "minutes     1928 non-null float64\n",
      "messages    1928 non-null float64\n",
      "mb_used     1928 non-null float64\n",
      "is_ultra    1928 non-null int64\n",
      "dtypes: float64(4), int64(1)\n",
      "memory usage: 90.4 KB\n",
      "<class 'pandas.core.frame.DataFrame'>\n",
      "Int64Index: 643 entries, 1386 to 3197\n",
      "Data columns (total 5 columns):\n",
      "calls       643 non-null float64\n",
      "minutes     643 non-null float64\n",
      "messages    643 non-null float64\n",
      "mb_used     643 non-null float64\n",
      "is_ultra    643 non-null int64\n",
      "dtypes: float64(4), int64(1)\n",
      "memory usage: 30.1 KB\n",
      "<class 'pandas.core.frame.DataFrame'>\n",
      "Int64Index: 643 entries, 160 to 2313\n",
      "Data columns (total 5 columns):\n",
      "calls       643 non-null float64\n",
      "minutes     643 non-null float64\n",
      "messages    643 non-null float64\n",
      "mb_used     643 non-null float64\n",
      "is_ultra    643 non-null int64\n",
      "dtypes: float64(4), int64(1)\n",
      "memory usage: 30.1 KB\n"
     ]
    }
   ],
   "source": [
    "#Разделим исходные данные на обучающую, валидационную и тестовую выборки.\n",
    "df_train, df_valid_40 = train_test_split(df, test_size=0.4, random_state=12345)\n",
    "df_valid, df_test = train_test_split(df_valid_40, test_size=0.5, random_state=12345)\n",
    "#изучим выборки\n",
    "df_train.info()\n",
    "df_valid.info()\n",
    "df_test.info()"
   ]
  },
  {
   "cell_type": "code",
   "execution_count": 80,
   "metadata": {},
   "outputs": [],
   "source": [
    "#создадим переменные для признаков и целевого признака для 3х выборок:\n",
    "#для обучающей\n",
    "features_train = df_train.drop(['is_ultra'], axis=1)\n",
    "target_train = df_train['is_ultra']\n",
    "#для валидационной\n",
    "features_valid = df_valid.drop(['is_ultra'], axis=1)\n",
    "target_valid = df_valid['is_ultra']\n",
    "#для тестовой\n",
    "features_test=df_test.drop(['is_ultra'], axis=1)\n",
    "target_test=df_test['is_ultra']"
   ]
  },
  {
   "cell_type": "markdown",
   "metadata": {},
   "source": [
    "# Вывод:\n",
    "Разделили исходные данные на обучающую, валидационную и тестовую выборки методом train_test_split в 2 подхода в пропорциях 3:1:1.\n",
    "Проверили методом info() правильно ли разделена выборка.\n",
    "Создали переменные для признаков и целевого признака для 3х выборок."
   ]
  },
  {
   "cell_type": "markdown",
   "metadata": {},
   "source": [
    "## 3. Исследуем модели"
   ]
  },
  {
   "cell_type": "code",
   "execution_count": 81,
   "metadata": {},
   "outputs": [
    {
     "name": "stdout",
     "output_type": "stream",
     "text": [
      "    depth  accuracy_valid  accuracy_train\n",
      "0     1.0        0.754277        0.757780\n",
      "1     3.0        0.785381        0.807573\n",
      "2     5.0        0.779160        0.820021\n",
      "3     7.0        0.782271        0.855809\n",
      "4     9.0        0.782271        0.881224\n",
      "5    11.0        0.762053        0.906639\n",
      "6    13.0        0.755832        0.941909\n",
      "7    15.0        0.746501        0.967842\n",
      "8    17.0        0.735614        0.984440\n",
      "9    19.0        0.727838        0.989108\n",
      "10   21.0        0.727838        0.995332\n",
      "11   23.0        0.716952        0.998963\n",
      "12   25.0        0.713841        1.000000\n",
      "13   27.0        0.713841        1.000000\n",
      "14   29.0        0.713841        1.000000\n"
     ]
    }
   ],
   "source": [
    "#Исследуем качество разных моделей, меняя гиперпараметры. \n",
    "\n",
    "#для модели решающего дерева\n",
    "#в цикле проверим гиперпараметр глубины дерева от 1 до 30, кратно 2\n",
    "depth_and_score=pd.DataFrame(columns=[\"depth\", 'accuracy_valid', 'accuracy_train'])\n",
    "i=0\n",
    "for depth in range(1,31,2):\n",
    "    model_DTC = DecisionTreeClassifier(random_state=12345, max_depth=depth)\n",
    "    model_DTC.fit(features_train, target_train) #обучим модель\n",
    "    predictions_DTC_valid=model_DTC.predict(features_valid) #предскажем по валидационной выборке\n",
    "    predictions_DTC_train=model_DTC.predict(features_train) #предскажем по тестовой выборке\n",
    "    accuracy_valid_DTC= accuracy_score(target_valid, predictions_DTC_valid) \n",
    "    accuracy_train_DTC=accuracy_score(target_train, predictions_DTC_train)\n",
    "    depth_and_score.loc[i]=[depth, accuracy_valid_DTC, accuracy_train_DTC]  #построим датафрейм с данными по accuracy на валидационной и тестовой выборке\n",
    "    i+=1\n",
    "print(depth_and_score)"
   ]
  },
  {
   "cell_type": "markdown",
   "metadata": {},
   "source": [
    "Здесь мы наглядно можем проследить, как с увеличением глубины модель переобучается."
   ]
  },
  {
   "cell_type": "code",
   "execution_count": 82,
   "metadata": {},
   "outputs": [],
   "source": [
    "DTC_3_accuracy_valid=depth_and_score['accuracy_valid'][3] \n",
    "#Запишем в переменные значения, чтобы потом сделать таблицу сравнительную\n",
    "DTC_3_accuracy_test=depth_and_score['accuracy_train'][3]"
   ]
  },
  {
   "cell_type": "code",
   "execution_count": 83,
   "metadata": {
    "scrolled": false
   },
   "outputs": [
    {
     "name": "stdout",
     "output_type": "stream",
     "text": [
      "    estimators  max_depth  accuracy_valid  accuracy_train\n",
      "0          1.0        1.0        0.754277        0.741701\n",
      "1          1.0        3.0        0.785381        0.787344\n",
      "2          1.0        5.0        0.776050        0.807054\n",
      "3          1.0        7.0        0.777605        0.828838\n",
      "4          1.0        9.0        0.779160        0.845436\n",
      "5         11.0        1.0        0.754277        0.744813\n",
      "6         11.0        3.0        0.783826        0.810166\n",
      "7         11.0        5.0        0.785381        0.824689\n",
      "8         11.0        7.0        0.796267        0.853734\n",
      "9         11.0        9.0        0.785381        0.875519\n",
      "10        21.0        1.0        0.763608        0.751556\n",
      "11        21.0        3.0        0.786936        0.810166\n",
      "12        21.0        5.0        0.788491        0.827282\n",
      "13        21.0        7.0        0.800933        0.858402\n",
      "14        21.0        9.0        0.793157        0.884336\n",
      "15        31.0        1.0        0.788491        0.781120\n",
      "16        31.0        3.0        0.786936        0.808610\n",
      "17        31.0        5.0        0.793157        0.824170\n",
      "18        31.0        7.0        0.802488        0.859440\n",
      "19        31.0        9.0        0.790047        0.883299\n",
      "20        41.0        1.0        0.776050        0.767116\n",
      "21        41.0        3.0        0.786936        0.808610\n",
      "22        41.0        5.0        0.793157        0.825726\n",
      "23        41.0        7.0        0.802488        0.863071\n",
      "24        41.0        9.0        0.793157        0.884336\n",
      "25        51.0        1.0        0.762053        0.764004\n",
      "26        51.0        3.0        0.788491        0.808091\n",
      "27        51.0        5.0        0.793157        0.825726\n",
      "28        51.0        7.0        0.802488        0.863071\n",
      "29        51.0        9.0        0.794712        0.885373\n",
      "30        61.0        1.0        0.763608        0.764523\n",
      "31        61.0        3.0        0.786936        0.808091\n",
      "32        61.0        5.0        0.791602        0.823651\n",
      "33        61.0        7.0        0.799378        0.864108\n",
      "34        61.0        9.0        0.796267        0.885373\n",
      "35        71.0        1.0        0.762053        0.764004\n",
      "36        71.0        3.0        0.788491        0.807573\n",
      "37        71.0        5.0        0.793157        0.824689\n",
      "38        71.0        7.0        0.802488        0.863071\n",
      "39        71.0        9.0        0.796267        0.883817\n",
      "40        81.0        1.0        0.763608        0.764523\n",
      "41        81.0        3.0        0.788491        0.808091\n",
      "42        81.0        5.0        0.793157        0.824689\n",
      "43        81.0        7.0        0.799378        0.861515\n",
      "44        81.0        9.0        0.796267        0.885373\n",
      "45        91.0        1.0        0.766719        0.761929\n",
      "46        91.0        3.0        0.788491        0.808091\n",
      "47        91.0        5.0        0.793157        0.825207\n",
      "48        91.0        7.0        0.800933        0.863071\n",
      "49        91.0        9.0        0.794712        0.884336\n"
     ]
    }
   ],
   "source": [
    "#для модели случайного леса \n",
    "#в цикле проверим качество модели для гиперпараметра количество оценщиков от 1 до 100, кратно 10\n",
    "estim_and_score=pd.DataFrame(columns=[\"estimators\",\"max_depth\",'accuracy_valid','accuracy_train'])\n",
    "i=0\n",
    "for estim in range(1,101,10):\n",
    "    for depth_RFC in range (1,10,2):\n",
    "        model_RFC = RandomForestClassifier(random_state=12345, n_estimators=estim, max_depth=depth_RFC)\n",
    "        model_RFC.fit(features_train, target_train) #обучим модель\n",
    "        predictions_RFC_valid=model_RFC.predict(features_valid)\n",
    "        predictions_RFC_train=model_RFC.predict(features_train)\n",
    "        accuracy_valid_RFC= accuracy_score(target_valid, predictions_RFC_valid) # расчёт точности на валидационной выборке \n",
    "        accuracy_train_RFC=accuracy_score(target_train, predictions_RFC_train)\n",
    "        estim_and_score.loc[i]=[estim, depth_RFC, accuracy_valid_RFC, accuracy_train_RFC]  \n",
    "        i+=1\n",
    "print(estim_and_score)"
   ]
  },
  {
   "cell_type": "code",
   "execution_count": 84,
   "metadata": {},
   "outputs": [
    {
     "data": {
      "text/html": [
       "<div>\n",
       "<style scoped>\n",
       "    .dataframe tbody tr th:only-of-type {\n",
       "        vertical-align: middle;\n",
       "    }\n",
       "\n",
       "    .dataframe tbody tr th {\n",
       "        vertical-align: top;\n",
       "    }\n",
       "\n",
       "    .dataframe thead th {\n",
       "        text-align: right;\n",
       "    }\n",
       "</style>\n",
       "<table border=\"1\" class=\"dataframe\">\n",
       "  <thead>\n",
       "    <tr style=\"text-align: right;\">\n",
       "      <th></th>\n",
       "      <th>estimators</th>\n",
       "      <th>max_depth</th>\n",
       "      <th>accuracy_valid</th>\n",
       "      <th>accuracy_train</th>\n",
       "    </tr>\n",
       "  </thead>\n",
       "  <tbody>\n",
       "    <tr>\n",
       "      <td>18</td>\n",
       "      <td>31.0</td>\n",
       "      <td>7.0</td>\n",
       "      <td>0.802488</td>\n",
       "      <td>0.859440</td>\n",
       "    </tr>\n",
       "    <tr>\n",
       "      <td>23</td>\n",
       "      <td>41.0</td>\n",
       "      <td>7.0</td>\n",
       "      <td>0.802488</td>\n",
       "      <td>0.863071</td>\n",
       "    </tr>\n",
       "    <tr>\n",
       "      <td>28</td>\n",
       "      <td>51.0</td>\n",
       "      <td>7.0</td>\n",
       "      <td>0.802488</td>\n",
       "      <td>0.863071</td>\n",
       "    </tr>\n",
       "    <tr>\n",
       "      <td>38</td>\n",
       "      <td>71.0</td>\n",
       "      <td>7.0</td>\n",
       "      <td>0.802488</td>\n",
       "      <td>0.863071</td>\n",
       "    </tr>\n",
       "  </tbody>\n",
       "</table>\n",
       "</div>"
      ],
      "text/plain": [
       "    estimators  max_depth  accuracy_valid  accuracy_train\n",
       "18        31.0        7.0        0.802488        0.859440\n",
       "23        41.0        7.0        0.802488        0.863071\n",
       "28        51.0        7.0        0.802488        0.863071\n",
       "38        71.0        7.0        0.802488        0.863071"
      ]
     },
     "execution_count": 84,
     "metadata": {},
     "output_type": "execute_result"
    }
   ],
   "source": [
    "best_RFC=estim_and_score.query('accuracy_valid==accuracy_valid.max()')\n",
    "best_RFC"
   ]
  },
  {
   "cell_type": "code",
   "execution_count": 85,
   "metadata": {},
   "outputs": [],
   "source": [
    "RFC_31_accuracy_valid=best_RFC['accuracy_valid'][18]\n",
    "RFC_31_accuracy_train=best_RFC['accuracy_train'][18]"
   ]
  },
  {
   "cell_type": "code",
   "execution_count": 86,
   "metadata": {
    "scrolled": true
   },
   "outputs": [
    {
     "name": "stdout",
     "output_type": "stream",
     "text": [
      "0.7589424572317263\n"
     ]
    },
    {
     "name": "stderr",
     "output_type": "stream",
     "text": [
      "/opt/conda/lib/python3.7/site-packages/sklearn/linear_model/logistic.py:432: FutureWarning: Default solver will be changed to 'lbfgs' in 0.22. Specify a solver to silence this warning.\n",
      "  FutureWarning)\n"
     ]
    }
   ],
   "source": [
    "#для модели логистической регрессии \n",
    "model_LR = LogisticRegression(random_state=12345)\n",
    "model_LR.fit(features_train, target_train) #обучим модель\n",
    "predictions_LR_valid=model_LR.predict(features_valid)\n",
    "accuracy_valid_LR= accuracy_score(target_valid, predictions_LR_valid) #код расчёта на валидационной выборке \n",
    "print(accuracy_valid_LR)"
   ]
  },
  {
   "cell_type": "markdown",
   "metadata": {},
   "source": [
    "Качество моделей будем исследовать при помощи метрики accuracy - Отношение числа правильных ответов к размеру тестовой выборки или «доля правильных ответов». \n",
    "Для модели решающего дерева было исследовано значение качества модели для гиперпараметра глубина дерева от 1 до 30, кратная 2.\n",
    "Максимальная доля правильных ответов для валидационной выборки наблюдается у максимальной глубины 3 - 78,53%.\n",
    "Для модели случайного леса было исследовано значение качества модели для гиперпараметра n_estimators - количество оценщиков, от 1 до 100, кратные 10. Максимальная доля правильных ответов для валидационной выборки наблюдается при n_estimators= 21 - 79,31%.\n",
    "Для модели логистической регрессии значение максимальной доли правильных ответов 75,89%."
   ]
  },
  {
   "cell_type": "markdown",
   "metadata": {},
   "source": [
    "## 4. Проверим модель на тестовой выборке"
   ]
  },
  {
   "cell_type": "code",
   "execution_count": 87,
   "metadata": {},
   "outputs": [
    {
     "name": "stdout",
     "output_type": "stream",
     "text": [
      "Доля правильных ответов для модели решающего дерева с max_depth=3: 0.7791601866251944\n"
     ]
    }
   ],
   "source": [
    "#для модели решающего дерева с гиперпараметром глубины дерева 3\n",
    "model_DTC_3 = DecisionTreeClassifier(random_state=12345, max_depth=3)\n",
    "model_DTC_3.fit(features_train, target_train) #обучим модель\n",
    "predictions_DTC_test_3=model_DTC_3.predict(features_test)\n",
    "accuracy_test_DTC_3=accuracy_score(target_test, predictions_DTC_test_3)\n",
    "print(\"Доля правильных ответов для модели решающего дерева с max_depth=3:\", accuracy_test_DTC_3)"
   ]
  },
  {
   "cell_type": "code",
   "execution_count": 88,
   "metadata": {},
   "outputs": [
    {
     "name": "stdout",
     "output_type": "stream",
     "text": [
      "Доля правильных ответов для модели случайного леса с n_estimators=31, max_depth=7: 0.8040435458786936\n"
     ]
    }
   ],
   "source": [
    "#для модели случайного леса с гиперпараметром количества оценщиков 31\n",
    "model_RFC_31 = RandomForestClassifier(random_state=12345, n_estimators=31, max_depth=7)\n",
    "model_RFC_31.fit(features_train, target_train) #обучим модель\n",
    "predictions_RFC_test_31=model_RFC_31.predict(features_test)\n",
    "accuracy_test_RFC_31=accuracy_score(target_test, predictions_RFC_test_31)\n",
    "print(\"Доля правильных ответов для модели случайного леса с n_estimators=31, max_depth=7:\", accuracy_test_RFC_31)"
   ]
  },
  {
   "cell_type": "code",
   "execution_count": 89,
   "metadata": {},
   "outputs": [
    {
     "name": "stdout",
     "output_type": "stream",
     "text": [
      "Доля правильных ответов для модели логистической регрессии: 0.7402799377916018\n"
     ]
    }
   ],
   "source": [
    "#для модели логистической регрессии \n",
    "predictions_LR_test=model_LR.predict(features_test)\n",
    "accuracy_test_LR=accuracy_score(target_test, predictions_LR_test)\n",
    "print(\"Доля правильных ответов для модели логистической регрессии:\", accuracy_test_LR)"
   ]
  },
  {
   "cell_type": "code",
   "execution_count": 90,
   "metadata": {},
   "outputs": [
    {
     "data": {
      "text/html": [
       "<div>\n",
       "<style scoped>\n",
       "    .dataframe tbody tr th:only-of-type {\n",
       "        vertical-align: middle;\n",
       "    }\n",
       "\n",
       "    .dataframe tbody tr th {\n",
       "        vertical-align: top;\n",
       "    }\n",
       "\n",
       "    .dataframe thead th {\n",
       "        text-align: right;\n",
       "    }\n",
       "</style>\n",
       "<table border=\"1\" class=\"dataframe\">\n",
       "  <thead>\n",
       "    <tr style=\"text-align: right;\">\n",
       "      <th></th>\n",
       "      <th>accuracy_valid</th>\n",
       "      <th>accuracy_test</th>\n",
       "    </tr>\n",
       "  </thead>\n",
       "  <tbody>\n",
       "    <tr>\n",
       "      <td>DecisionTreeClassifier</td>\n",
       "      <td>0.782271</td>\n",
       "      <td>0.855809</td>\n",
       "    </tr>\n",
       "    <tr>\n",
       "      <td>RandomForestClassifier</td>\n",
       "      <td>0.802488</td>\n",
       "      <td>0.804044</td>\n",
       "    </tr>\n",
       "    <tr>\n",
       "      <td>LogisticRegression</td>\n",
       "      <td>0.758942</td>\n",
       "      <td>0.740280</td>\n",
       "    </tr>\n",
       "  </tbody>\n",
       "</table>\n",
       "</div>"
      ],
      "text/plain": [
       "                        accuracy_valid  accuracy_test\n",
       "DecisionTreeClassifier        0.782271       0.855809\n",
       "RandomForestClassifier        0.802488       0.804044\n",
       "LogisticRegression            0.758942       0.740280"
      ]
     },
     "execution_count": 90,
     "metadata": {},
     "output_type": "execute_result"
    }
   ],
   "source": [
    "results_valid = {'DecisionTreeClassifier' : DTC_3_accuracy_valid,\n",
    "                 'RandomForestClassifier' : RFC_31_accuracy_valid,\n",
    "                 'LogisticRegression' : accuracy_valid_LR}\n",
    "accuracy_valid=pd.Series(results_valid)\n",
    "results_test = {'DecisionTreeClassifier' : DTC_3_accuracy_test,\n",
    "                 'RandomForestClassifier' : accuracy_test_RFC_31,\n",
    "                 'LogisticRegression' : accuracy_test_LR}\n",
    "accuracy_test=pd.Series(results_test)\n",
    "results =pd.DataFrame({'accuracy_valid': accuracy_valid, 'accuracy_test': accuracy_test})\n",
    "results"
   ]
  },
  {
   "cell_type": "markdown",
   "metadata": {},
   "source": [
    "# Вывод: \n",
    "После проверки моделей на тестовой выборке можно сделать вывод о том, что модель случайного леса является \n",
    "самой точной на валидационной выборке 79%, хотя и проигрывает немного модели дерево решений по проверке на тестовой выборке 77%. \n",
    "У дерева решений высокая точность 78,5% и высокая скорость, в отличие от скорости модели случайного леса. \n",
    "Модель логистической регрессии не дотягивает до нашего условия точности 75%.\n"
   ]
  },
  {
   "cell_type": "markdown",
   "metadata": {},
   "source": [
    "## 5. Проверим модели на адекватность"
   ]
  },
  {
   "cell_type": "code",
   "execution_count": 91,
   "metadata": {},
   "outputs": [
    {
     "name": "stdout",
     "output_type": "stream",
     "text": [
      "Значение accuracy на валидационной выборке: 0.5116640746500778\n"
     ]
    }
   ],
   "source": [
    "dummy_clf=DummyClassifier(strategy='uniform')\n",
    "dummy_clf.fit(features_train, target_train)\n",
    "#проверим на валидационной выборке\n",
    "dummy_predict_valid=dummy_clf.predict(features_valid)\n",
    "accuracy_dummy_clf_valid=accuracy_score(target_valid, dummy_predict_valid)\n",
    "print(\"Значение accuracy на валидационной выборке:\", accuracy_dummy_clf_valid)"
   ]
  },
  {
   "cell_type": "code",
   "execution_count": 92,
   "metadata": {},
   "outputs": [
    {
     "name": "stdout",
     "output_type": "stream",
     "text": [
      "Значение accuracy на тестовой выборке: 0.5085536547433903\n"
     ]
    }
   ],
   "source": [
    "#проверим на тестовой выборке\n",
    "dummy_predict_test=dummy_clf.predict(features_test)\n",
    "accuracy_dummy_clf_test=accuracy_score(target_test, dummy_predict_test)\n",
    "accuracy_dummy_clf_test\n",
    "print(\"Значение accuracy на тестовой выборке:\", accuracy_dummy_clf_test)"
   ]
  },
  {
   "cell_type": "markdown",
   "metadata": {},
   "source": [
    "# Вывод: \n",
    "Значения у нашей модели лучше, чем у случайной модели. "
   ]
  },
  {
   "cell_type": "markdown",
   "metadata": {},
   "source": [
    "# Вывод:\n",
    "В данном проекте нам повезло и нам достались данные прошедшие предобработку, так что нам осталось только разделить данные на 3 выборки. Мы исследовали 3 модели на качество, меняя гиперпараметры: модель дерева решений, случайный лес и логистической регрессии. Качество моделей было исследованно при помощи метрики accuracy - Отношение числа правильных ответов к размеру тестовой выборки или «доля правильных ответов». \n",
    "Для модели решающего дерева было исследовано значение качества модели для гиперпараметра глубина дерева от 1 до 30, кратная 2.\n",
    "Максимальная доля правильных ответов для валидационной выборки наблюдается у максимальной глубины 3 - 78,53%.\n",
    "Для модели случайного леса было исследовано значение качества модели для гиперпараметра n_estimators - количество оценщиков, от 1 до 100, кратные 10. Максимальная доля правильных ответов для валидационной выборки наблюдается при n_estimators= 21 - 79,31%.\n",
    "Для модели логистической регрессии значение максимальной доли правильных ответов 75,89%.\n",
    "После проверки моделей на тестовой выборке можно сделать вывод о том, что модель случайного леса является самой точной на валидационной выборке 79%, хотя и проигрывает немного модели дерево решений по проверке на тестовой выборке 77%. \n",
    "У дерева решений высокая точность 78,5% и высокая скорость, в отличие от скорости модели случайного леса. \n",
    "Модель логистической регрессии не дотягивает до нашего условия точности 75%.\n",
    "Я бы все-таки остановилась на модели случайного леса.\n",
    "Также в 5 части проекта мы сравнили данные точности случайной модели с нашими тремя моделями. Точность наших моделей выше."
   ]
  }
 ],
 "metadata": {
  "kernelspec": {
   "display_name": "Python 3",
   "language": "python",
   "name": "python3"
  },
  "language_info": {
   "codemirror_mode": {
    "name": "ipython",
    "version": 3
   },
   "file_extension": ".py",
   "mimetype": "text/x-python",
   "name": "python",
   "nbconvert_exporter": "python",
   "pygments_lexer": "ipython3",
   "version": "3.7.6"
  }
 },
 "nbformat": 4,
 "nbformat_minor": 2
}
